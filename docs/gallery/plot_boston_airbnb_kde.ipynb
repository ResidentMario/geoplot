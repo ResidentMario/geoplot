{
  "cells": [
    {
      "cell_type": "code",
      "execution_count": null,
      "metadata": {
        "collapsed": false
      },
      "outputs": [],
      "source": [
        "%matplotlib inline"
      ]
    },
    {
      "cell_type": "markdown",
      "metadata": {},
      "source": [
        "\nKDEPlot of Boston AirBnB Locations\n==================================\n\nThis example demonstrates a combined application of ``kdeplot`` and ``pointplot`` to a\ndataset of AirBnB locations in Boston. The result is outputted to a webmap using the nifty\n``mplleaflet`` library. We sample just 1000 points, which captures the overall trend without\noverwhelming the renderer.\n\n`Click here to see this plot as an interactive webmap. \n<http://bl.ocks.org/ResidentMario/868ac097d671df1ed5ec83eed048560c>`_\n\n"
      ]
    },
    {
      "cell_type": "code",
      "execution_count": null,
      "metadata": {
        "collapsed": false
      },
      "outputs": [],
      "source": [
        "import geopandas as gpd\nimport geoplot as gplt\nimport geoplot.crs as gcrs\nimport matplotlib.pyplot as plt\nimport mplleaflet\n\nboston_airbnb_listings = gpd.read_file(gplt.datasets.get_path('boston_airbnb_listings'))\n\nax = gplt.kdeplot(boston_airbnb_listings, cmap='Greens')\ngplt.pointplot(boston_airbnb_listings.sample(1000), color='darkgreen', ax=ax)\nfig = plt.gcf()\nplt.savefig(\"boston-airbnb-kde.png\", bbox_inches='tight', pad_inches=0.1)\n\n# mplleaflet.show(fig)"
      ]
    }
  ],
  "metadata": {
    "kernelspec": {
      "display_name": "Python 3",
      "language": "python",
      "name": "python3"
    },
    "language_info": {
      "codemirror_mode": {
        "name": "ipython",
        "version": 3
      },
      "file_extension": ".py",
      "mimetype": "text/x-python",
      "name": "python",
      "nbconvert_exporter": "python",
      "pygments_lexer": "ipython3",
      "version": "3.6.7"
    }
  },
  "nbformat": 4,
  "nbformat_minor": 0
}