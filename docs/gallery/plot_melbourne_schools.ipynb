{
  "cells": [
    {
      "cell_type": "code",
      "execution_count": null,
      "metadata": {
        "collapsed": false
      },
      "outputs": [],
      "source": [
        "%matplotlib inline"
      ]
    },
    {
      "cell_type": "markdown",
      "metadata": {},
      "source": [
        "\nVoronoi of Melbourne primary schools\n====================================\n\nThis example shows a ``pointplot`` combined with a ``voronoi`` mapping primary schools in\nMelbourne. Schools in outlying, less densely populated areas serve larger zones than those in\ncentral Melbourne.\n\nThis example inspired by the `Melbourne Schools Zones Webmap <http://melbourneschoolzones.com/>`_.\n\n"
      ]
    },
    {
      "cell_type": "code",
      "execution_count": null,
      "metadata": {
        "collapsed": false
      },
      "outputs": [],
      "source": [
        "import geopandas as gpd\nimport geoplot as gplt\nimport geoplot.crs as gcrs\nimport pandas as pd\nimport matplotlib.pyplot as plt\n\nmelbourne = gpd.read_file(gplt.datasets.get_path('melbourne'))\nmelbourne_primary_schools = gpd.read_file(gplt.datasets.get_path('melbourne_schools'))\\\n    .query('School_Type == \"Primary\"')\n\n\nax = gplt.voronoi(\n    melbourne_primary_schools, clip=melbourne, linewidth=0.5, edgecolor='white',\n    projection=gcrs.Mercator()\n)\ngplt.polyplot(melbourne, edgecolor='None', facecolor='lightgray', ax=ax)\ngplt.pointplot(melbourne_primary_schools, color='black', ax=ax, s=1, extent=melbourne.total_bounds)\nplt.title('Primary Schools in Greater Melbourne, 2018')\nplt.savefig(\"melbourne-schools.png\", bbox_inches='tight', pad_inches=0)"
      ]
    }
  ],
  "metadata": {
    "kernelspec": {
      "display_name": "Python 3",
      "language": "python",
      "name": "python3"
    },
    "language_info": {
      "codemirror_mode": {
        "name": "ipython",
        "version": 3
      },
      "file_extension": ".py",
      "mimetype": "text/x-python",
      "name": "python",
      "nbconvert_exporter": "python",
      "pygments_lexer": "ipython3",
      "version": "3.6.7"
    }
  },
  "nbformat": 4,
  "nbformat_minor": 0
}