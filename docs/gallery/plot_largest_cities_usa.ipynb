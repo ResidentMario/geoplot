{
  "cells": [
    {
      "cell_type": "code",
      "execution_count": null,
      "metadata": {
        "collapsed": false
      },
      "outputs": [],
      "source": [
        "%matplotlib inline"
      ]
    },
    {
      "cell_type": "markdown",
      "metadata": {},
      "source": [
        "\nPointplot of US cities by population\n====================================\n\nThis example, taken from the User Guide, plots cities in the contiguous United States by their\npopulation. It demonstrates some of the range of styling options available in ``geoplot``.\n\n"
      ]
    },
    {
      "cell_type": "code",
      "execution_count": null,
      "metadata": {
        "collapsed": false
      },
      "outputs": [],
      "source": [
        "import geopandas as gpd\nimport geoplot as gplt\nimport geoplot.crs as gcrs\nimport matplotlib.pyplot as plt\n\ncontinental_usa_cities = gpd.read_file(gplt.datasets.get_path('usa_cities'))\ncontinental_usa_cities = continental_usa_cities.query('STATE not in [\"AK\", \"HI\", \"PR\"]')\ncontiguous_usa = gpd.read_file(gplt.datasets.get_path('contiguous_usa'))\n\nax = gplt.polyplot(\n    contiguous_usa, \n    zorder=-1,\n    linewidth=1,\n    projection=gcrs.AlbersEqualArea(),\n    edgecolor='white',\n    facecolor='lightgray',\n    figsize=(12, 12)\n)\ngplt.pointplot(\n    continental_usa_cities, \n    scale='POP_2010',\n    limits=(2, 30),\n    hue='POP_2010',\n    cmap='Blues',\n    k=5,\n    legend=True,\n    legend_var='scale',\n    legend_values=[8000000, 2000000, 1000000, 100000],\n    legend_labels=['8 million', '2 million', '1 million', '100 thousand'],\n    legend_kwargs={'frameon': False, 'loc': 'lower right'},\n    ax=ax\n)\n\n\nplt.title(\"Large cities in the contiguous United States, 2010\")\nplt.savefig(\"largest-cities-usa.png\", bbox_inches='tight', pad_inches=0.1)"
      ]
    }
  ],
  "metadata": {
    "kernelspec": {
      "display_name": "Python 3",
      "language": "python",
      "name": "python3"
    },
    "language_info": {
      "codemirror_mode": {
        "name": "ipython",
        "version": 3
      },
      "file_extension": ".py",
      "mimetype": "text/x-python",
      "name": "python",
      "nbconvert_exporter": "python",
      "pygments_lexer": "ipython3",
      "version": "3.6.7"
    }
  },
  "nbformat": 4,
  "nbformat_minor": 0
}