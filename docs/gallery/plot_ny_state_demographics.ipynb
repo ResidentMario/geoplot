{
  "cells": [
    {
      "cell_type": "code",
      "execution_count": null,
      "metadata": {
        "collapsed": false
      },
      "outputs": [],
      "source": [
        "%matplotlib inline"
      ]
    },
    {
      "cell_type": "markdown",
      "metadata": {},
      "source": [
        "\nChoropleth of New York State population demographics\n====================================================\n\nThis example shows a ``choropleth`` of the percentage of residents in New York State by county\nwho self-identified as \"white\" in the 2000 census. It mainly communicates New York City's\nvastly higher ethnical diversity as compared to the rest of the state.\n\n"
      ]
    },
    {
      "cell_type": "code",
      "execution_count": null,
      "metadata": {
        "collapsed": false
      },
      "outputs": [],
      "source": [
        "import geopandas as gpd\nimport geoplot as gplt\nimport geoplot.crs as gcrs\nimport matplotlib.pyplot as plt\n\nny_census_tracts = gpd.read_file(gplt.datasets.get_path('ny_census'))\nny_census_tracts = ny_census_tracts.assign(\n    percent_white=ny_census_tracts['WHITE'] / ny_census_tracts['POP2000']\n)\n\ngplt.choropleth(\n    ny_census_tracts,\n    hue='percent_white',\n    cmap='Purples', linewidth=0.5,\n    edgecolor='white', k=None,\n    legend=True,\n    projection=gcrs.AlbersEqualArea()\n)\nplt.title(\"Percentage White Residents, 2000\")\nplt.savefig(\"ny-state-demographics.png\", bbox_inches='tight', pad_inches=0.1)"
      ]
    }
  ],
  "metadata": {
    "kernelspec": {
      "display_name": "Python 3",
      "language": "python",
      "name": "python3"
    },
    "language_info": {
      "codemirror_mode": {
        "name": "ipython",
        "version": 3
      },
      "file_extension": ".py",
      "mimetype": "text/x-python",
      "name": "python",
      "nbconvert_exporter": "python",
      "pygments_lexer": "ipython3",
      "version": "3.6.7"
    }
  },
  "nbformat": 4,
  "nbformat_minor": 0
}