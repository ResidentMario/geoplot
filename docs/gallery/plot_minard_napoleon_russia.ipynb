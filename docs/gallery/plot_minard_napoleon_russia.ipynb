{
  "cells": [
    {
      "cell_type": "code",
      "execution_count": null,
      "metadata": {
        "collapsed": false
      },
      "outputs": [],
      "source": [
        "%matplotlib inline"
      ]
    },
    {
      "cell_type": "markdown",
      "metadata": {},
      "source": [
        "\nSankey of Napoleon's disastarous march into Russia\n==================================================\n\nThis example reproduces a famous historical flow map: Charles Joseph Minard's map depicting\nNapoleon's disastrously costly 1812 march on Russia during the Napoleonic Wars.\n\nThis ``sankey`` demonstrates how to build and use a custom ``matplotlib`` colormap. It also\ndemonstrates using the ``mplleaflet`` library to quickly and easily transform the resulting plot\ninto an scrolly-panny webmap.\n\n`Click here to see the interactive webmap version. \n<http://bl.ocks.org/ResidentMario/ac2db57d1c6652ddbc4112a3d318c746>`_\n\n"
      ]
    },
    {
      "cell_type": "code",
      "execution_count": null,
      "metadata": {
        "collapsed": false
      },
      "outputs": [],
      "source": [
        "import geopandas as gpd\nimport geoplot as gplt\nimport matplotlib.pyplot as plt\nimport mplleaflet\nfrom matplotlib.colors import LinearSegmentedColormap\n\nnapoleon_troop_movements = gpd.read_file(gplt.datasets.get_path('napoleon_troop_movements'))\n\ncolors = [(215/255, 193/255, 126/255), (37/255, 37/255, 37/255)]\ncm = LinearSegmentedColormap.from_list('minard', colors)\n\ngplt.sankey(\n    napoleon_troop_movements,\n    scale='survivors', limits=(0.5, 45),\n    hue='direction',\n    cmap=cm\n)\nfig = plt.gcf()\nplt.savefig(\"minard-napoelon-russia.png\", bbox_inches='tight', pad_inches=0.1)\n\n# Uncomment and run the following line of code to save an interactive webmap.\n# mplleaflet.save_html(fig, fileobj='minard-napoleon-russia.html')"
      ]
    }
  ],
  "metadata": {
    "kernelspec": {
      "display_name": "Python 3",
      "language": "python",
      "name": "python3"
    },
    "language_info": {
      "codemirror_mode": {
        "name": "ipython",
        "version": 3
      },
      "file_extension": ".py",
      "mimetype": "text/x-python",
      "name": "python",
      "nbconvert_exporter": "python",
      "pygments_lexer": "ipython3",
      "version": "3.6.7"
    }
  },
  "nbformat": 4,
  "nbformat_minor": 0
}