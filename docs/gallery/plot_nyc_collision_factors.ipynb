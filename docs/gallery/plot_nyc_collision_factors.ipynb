{
  "cells": [
    {
      "cell_type": "code",
      "execution_count": null,
      "metadata": {
        "collapsed": false
      },
      "outputs": [],
      "source": [
        "%matplotlib inline"
      ]
    },
    {
      "cell_type": "markdown",
      "metadata": {},
      "source": [
        "\nKDEPlot of two NYC traffic accident contributing factors\n========================================================\n\nThis example shows a ``kdeplot`` of traffic accident densities for two common contributing factors:\nloss of consciousness and failure to yield right-of-way. It shows how the geospatial incidence\npattern differs between the two: lost consciousness crashes are more localized to Manhattan.\n\n"
      ]
    },
    {
      "cell_type": "code",
      "execution_count": null,
      "metadata": {
        "collapsed": false
      },
      "outputs": [],
      "source": [
        "import geopandas as gpd\nimport geoplot as gplt\nimport geoplot.crs as gcrs\nimport matplotlib.pyplot as plt\n\nnyc_boroughs = gpd.read_file(gplt.datasets.get_path('nyc_boroughs'))\nnyc_collision_factors = gpd.read_file(gplt.datasets.get_path('nyc_collision_factors'))\n\n\nproj = gcrs.AlbersEqualArea(central_latitude=40.7128, central_longitude=-74.0059)\nfig = plt.figure(figsize=(10,5))\nax1 = plt.subplot(121, projection=proj)\nax2 = plt.subplot(122, projection=proj)\n\ngplt.kdeplot(\n    nyc_collision_factors[\n        nyc_collision_factors['CONTRIBUTING FACTOR VEHICLE 1'] == \"Failure to Yield Right-of-Way\"\n    ],\n    cmap='Reds',\n    projection=proj,\n    shade=True, shade_lowest=False, \n    clip=nyc_boroughs.geometry,\n    ax=ax1\n)\ngplt.polyplot(nyc_boroughs, zorder=1, ax=ax1)\nplt.title(\"Failure to Yield Right-of-Way Crashes, 2016\")\n\ngplt.kdeplot(\n    nyc_collision_factors[\n        nyc_collision_factors['CONTRIBUTING FACTOR VEHICLE 1'] == \"Lost Consciousness\"\n    ],\n    cmap = 'Reds',\n    projection=proj,\n    shade=True, shade_lowest=False,\n    clip=nyc_boroughs.geometry,\n    ax=ax2\n)\ngplt.polyplot(nyc_boroughs, zorder=1, ax=ax2)\nplt.title(\"Loss of Consciousness Crashes, 2016\")\n\nplt.savefig(\"nyc-collision-factors.png\", bbox_inches='tight', pad_inches=0.1)"
      ]
    }
  ],
  "metadata": {
    "kernelspec": {
      "display_name": "Python 3",
      "language": "python",
      "name": "python3"
    },
    "language_info": {
      "codemirror_mode": {
        "name": "ipython",
        "version": 3
      },
      "file_extension": ".py",
      "mimetype": "text/x-python",
      "name": "python",
      "nbconvert_exporter": "python",
      "pygments_lexer": "ipython3",
      "version": "3.6.7"
    }
  },
  "nbformat": 4,
  "nbformat_minor": 0
}