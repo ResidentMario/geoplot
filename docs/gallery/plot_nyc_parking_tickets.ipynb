{
  "cells": [
    {
      "cell_type": "code",
      "execution_count": null,
      "metadata": {
        "collapsed": false
      },
      "outputs": [],
      "source": [
        "%matplotlib inline"
      ]
    },
    {
      "cell_type": "markdown",
      "metadata": {},
      "source": [
        "\nChoropleth of parking tickets issued to state by precinct in NYC\n================================================================\n\nThis example ``choropleth`` plots a subset of parking tickets issued to drivers in New York City.\nSpecifically, it plots the subset of tickets issued in the city which are more common than average\nfor that state than the average. This difference between \"expected tickets issued\" and \"actual\ntickets issued\" is interesting because it shows which areas visitors driving into the city\nfrom a specific state are more likely visit than their peers from other states.\n\nObservations that can be made based on this plot include:\n\n* Only New Yorkers visit Staten Island.\n* Drivers from New Jersey, many of whom likely work in New York City, mostly stay in Manhattan.\n* Drivers from Pennsylvania and Conneticut are likliest to visit the boroughs that are closest\n  to their states: there is strong northward trend for Conneticut, which is located north of NYC,\n  and a strong westward trend for Pennsylvania, which is located west of NYC.\n* The northern corridor of Brooklyn (containing the ever-popular Williamsburg and Bushwick, among\n  other neighborhoods) is popular with out-of-staters...but not as popular as Manhattan, of course.\n\nThis example was inspired by the blog post `\"Californians love Brooklyn, New Jerseyans love\nMidtown: Mapping NYC\u2019s Visitors Through Parking Tickets\"\n<http://iquantny.tumblr.com/post/84393789169/californians-love-brooklyn-new-jerseyans-love>`_.\n\n"
      ]
    },
    {
      "cell_type": "code",
      "execution_count": null,
      "metadata": {
        "collapsed": false
      },
      "outputs": [],
      "source": [
        "import geopandas as gpd\nimport geoplot as gplt\nimport geoplot.crs as gcrs\nimport matplotlib.pyplot as plt\n\n# load the data\nnyc_boroughs = gpd.read_file(gplt.datasets.get_path('nyc_boroughs'))\ntickets = gpd.read_file(gplt.datasets.get_path('nyc_parking_tickets'))\n\nproj = gcrs.AlbersEqualArea(central_latitude=40.7128, central_longitude=-74.0059)\ndef plot_state_to_ax(state, ax):\n    gplt.choropleth(\n        tickets.set_index('id').loc[:, [state, 'geometry']],\n        hue=state, cmap='Blues',\n        linewidth=0.0, ax=ax\n    )\n    gplt.polyplot(\n        nyc_boroughs, edgecolor='black', linewidth=0.5, ax=ax\n    )\n\nf, axarr = plt.subplots(2, 2, figsize=(12, 12), subplot_kw={'projection': proj})\n\nplt.suptitle('Parking Tickets Issued to State by Precinct, 2016', fontsize=16)\nplt.subplots_adjust(top=0.95)\n\nplot_state_to_ax('ny', axarr[0][0])\naxarr[0][0].set_title('New York (n=6,679,268)')\n\nplot_state_to_ax('nj', axarr[0][1])\naxarr[0][1].set_title('New Jersey (n=854,647)')\n\nplot_state_to_ax('pa', axarr[1][0])\naxarr[1][0].set_title('Pennsylvania (n=215,065)')\n\nplot_state_to_ax('ct', axarr[1][1])\naxarr[1][1].set_title('Connecticut (n=126,661)')\n\nplt.savefig(\"nyc-parking-tickets.png\", bbox_inches='tight')"
      ]
    }
  ],
  "metadata": {
    "kernelspec": {
      "display_name": "Python 3",
      "language": "python",
      "name": "python3"
    },
    "language_info": {
      "codemirror_mode": {
        "name": "ipython",
        "version": 3
      },
      "file_extension": ".py",
      "mimetype": "text/x-python",
      "name": "python",
      "nbconvert_exporter": "python",
      "pygments_lexer": "ipython3",
      "version": "3.6.7"
    }
  },
  "nbformat": 4,
  "nbformat_minor": 0
}