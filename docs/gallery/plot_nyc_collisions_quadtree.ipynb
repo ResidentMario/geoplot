{
  "cells": [
    {
      "cell_type": "code",
      "execution_count": null,
      "metadata": {
        "collapsed": false
      },
      "outputs": [],
      "source": [
        "%matplotlib inline"
      ]
    },
    {
      "cell_type": "markdown",
      "metadata": {},
      "source": [
        "\nQuadtree of NYC traffic collisions\n==================================\n\nThis example shows a ``pointplot`` overlayed on a ``quadtree`` mapping traffic accident collisions\nin New York City. Together these two plots combine texture with density in communicating relative\naccident frequency in different parts of New York City.\n\n"
      ]
    },
    {
      "cell_type": "code",
      "execution_count": null,
      "metadata": {
        "collapsed": false
      },
      "outputs": [],
      "source": [
        "import geopandas as gpd\nimport geoplot as gplt\nimport geoplot.crs as gcrs\nimport matplotlib.pyplot as plt\n\nnyc_boroughs = gpd.read_file(gplt.datasets.get_path('nyc_boroughs'))\ncollisions = gpd.read_file(gplt.datasets.get_path('nyc_collision_factors'))\n\nax = gplt.quadtree(\n    collisions, nmax=1,\n    projection=gcrs.AlbersEqualArea(), clip=nyc_boroughs,\n    facecolor='lightgray', edgecolor='white', zorder=0\n)\ngplt.pointplot(collisions, s=1, ax=ax)\n\nplt.title(\"New York Ciy Traffic Collisions, 2016\")\nplt.savefig(\"nyc-collisions-quadtree.png\", bbox_inches='tight', pad_inches=0)"
      ]
    }
  ],
  "metadata": {
    "kernelspec": {
      "display_name": "Python 3",
      "language": "python",
      "name": "python3"
    },
    "language_info": {
      "codemirror_mode": {
        "name": "ipython",
        "version": 3
      },
      "file_extension": ".py",
      "mimetype": "text/x-python",
      "name": "python",
      "nbconvert_exporter": "python",
      "pygments_lexer": "ipython3",
      "version": "3.6.7"
    }
  },
  "nbformat": 4,
  "nbformat_minor": 0
}