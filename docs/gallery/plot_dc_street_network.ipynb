{
  "cells": [
    {
      "cell_type": "code",
      "execution_count": null,
      "metadata": {
        "collapsed": false
      },
      "outputs": [],
      "source": [
        "%matplotlib inline"
      ]
    },
    {
      "cell_type": "markdown",
      "metadata": {},
      "source": [
        "\nSankey of traffic volumes in Washington DC\n==========================================\n\nThis example demonstrates an application of the ``sankey`` plot type to a geospatial dataset of\n`annual average daily traffic volume \n<https://en.wikipedia.org/wiki/Annual_average_daily_traffic>`_ in Washington DC.\n\n"
      ]
    },
    {
      "cell_type": "code",
      "execution_count": null,
      "metadata": {
        "collapsed": false
      },
      "outputs": [],
      "source": [
        "import geopandas as gpd\nimport geoplot as gplt\nimport geoplot.crs as gcrs\nimport matplotlib.pyplot as plt\n\ndc_roads = gpd.read_file(gplt.datasets.get_path('dc_roads'))\n\ngplt.sankey(\n    dc_roads, projection=gcrs.AlbersEqualArea(),\n    scale='aadt', limits=(0.1, 10), color='black'\n)\n\nplt.title(\"Streets in Washington DC by Average Daily Traffic, 2015\")\nplt.savefig(\"dc-street-network.png\", bbox_inches='tight', pad_inches=0.1)"
      ]
    }
  ],
  "metadata": {
    "kernelspec": {
      "display_name": "Python 3",
      "language": "python",
      "name": "python3"
    },
    "language_info": {
      "codemirror_mode": {
        "name": "ipython",
        "version": 3
      },
      "file_extension": ".py",
      "mimetype": "text/x-python",
      "name": "python",
      "nbconvert_exporter": "python",
      "pygments_lexer": "ipython3",
      "version": "3.6.7"
    }
  },
  "nbformat": 4,
  "nbformat_minor": 0
}