{
  "cells": [
    {
      "cell_type": "code",
      "execution_count": null,
      "metadata": {
        "collapsed": false
      },
      "outputs": [],
      "source": [
        "%matplotlib inline"
      ]
    },
    {
      "cell_type": "markdown",
      "metadata": {},
      "source": [
        "\nPointplot of US city elevations with custom scale functions\n===========================================================\n\nThis example plots United States cities by their elevation. Several different possible scaling\nfunctions for determining point size are demonstrated.\n\nThe first plot is a default linear-scale one. We can see from the results that this is clearly\nthe most appropriate one for this specific data.\n\nThe second plot shows a trivial identity scale. This results in a plot where every city has the\nsame size.\n\nA more interesting scale is the logarithmic scale. This scale works very well when the data in\nquestion is log-linear, that is, it is distributed linearly with respect to its own logarithm.\nIn our demonstratory case the data is linear and not logorithmic in shape, so this doesn't come\nout too well, but in other cases using the logorithm is the way to go.\n\nThe last demo shows a power scale. This is useful for data that follows a power law distribution\nof some kind. Again, this doesn't work too well in our case.\n\n"
      ]
    },
    {
      "cell_type": "code",
      "execution_count": null,
      "metadata": {
        "collapsed": false
      },
      "outputs": [],
      "source": [
        "import geopandas as gpd\nimport geoplot as gplt\nimport geoplot.crs as gcrs\nimport numpy as np\nimport matplotlib.pyplot as plt\n\ncontinental_usa_cities = gpd.read_file(gplt.datasets.get_path('usa_cities'))\ncontinental_usa_cities = continental_usa_cities.query('STATE not in [\"AK\", \"HI\", \"PR\"]')\ncontiguous_usa = gpd.read_file(gplt.datasets.get_path('contiguous_usa'))\n\n\nproj = gcrs.AlbersEqualArea(central_longitude=-98, central_latitude=39.5)\nf, axarr = plt.subplots(2, 2, figsize=(12, 8), subplot_kw={'projection': proj})\n\npolyplot_kwargs = {'facecolor': (0.9, 0.9, 0.9), 'linewidth': 0}\npointplot_kwargs = {\n    'scale': 'ELEV_IN_FT', 'edgecolor': 'white', 'linewidth': 0.5, 'color': 'black'\n}\n\n\ngplt.polyplot(contiguous_usa.geometry, ax=axarr[0][0], **polyplot_kwargs)\ngplt.pointplot(\n    continental_usa_cities.query(\"POP_2010 > 10000\"),\n    ax=axarr[0][0], limits=(0.1, 10), **pointplot_kwargs\n)\naxarr[0][0].set_title(\"Linear Scale\")\n\n\ndef identity_scale(minval, maxval):\n    def scalar(val):\n        return 2\n    return scalar\n\ngplt.polyplot(contiguous_usa.geometry, ax=axarr[0][1], **polyplot_kwargs)\ngplt.pointplot(\n    continental_usa_cities.query(\"POP_2010 > 10000\"),\n    ax=axarr[0][1], scale_func=identity_scale, **pointplot_kwargs\n)\naxarr[0][1].set_title(\"Identity Scale\")\n\n\ndef log_scale(minval, maxval):\n    def scalar(val):\n        val = val + abs(minval) + 1\n        return np.log10(val)\n    return scalar\n\ngplt.polyplot(\n    contiguous_usa.geometry,\n    ax=axarr[1][0], **polyplot_kwargs\n)\ngplt.pointplot(\n    continental_usa_cities.query(\"POP_2010 > 10000\"),\n    ax=axarr[1][0], scale_func=log_scale, **pointplot_kwargs\n)\naxarr[1][0].set_title(\"Log Scale\")\n\n\ndef power_scale(minval, maxval):\n    def scalar(val):\n        val = val + abs(minval) + 1\n        return (val/1000)**2\n    return scalar\n\ngplt.polyplot(\n    contiguous_usa.geometry, \n    ax=axarr[1][1], **polyplot_kwargs\n)\ngplt.pointplot(\n    continental_usa_cities.query(\"POP_2010 > 10000\"),\n    ax=axarr[1][1], scale_func=power_scale, **pointplot_kwargs\n)\naxarr[1][1].set_title(\"Power Scale\")\n\nplt.suptitle('Continental US Cities by Elevation, 2016', fontsize=16)\n\nplt.subplots_adjust(top=0.95)\nplt.savefig(\"usa-city-elevations.png\", bbox_inches='tight')"
      ]
    }
  ],
  "metadata": {
    "kernelspec": {
      "display_name": "Python 3",
      "language": "python",
      "name": "python3"
    },
    "language_info": {
      "codemirror_mode": {
        "name": "ipython",
        "version": 3
      },
      "file_extension": ".py",
      "mimetype": "text/x-python",
      "name": "python",
      "nbconvert_exporter": "python",
      "pygments_lexer": "ipython3",
      "version": "3.6.7"
    }
  },
  "nbformat": 4,
  "nbformat_minor": 0
}