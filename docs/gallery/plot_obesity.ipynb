{
  "cells": [
    {
      "cell_type": "code",
      "execution_count": null,
      "metadata": {
        "collapsed": false
      },
      "outputs": [],
      "source": [
        "%matplotlib inline"
      ]
    },
    {
      "cell_type": "markdown",
      "metadata": {},
      "source": [
        "\nCartogram of US states by obesity rate\n======================================\n\nThis example ``cartogram`` showcases regional trends for obesity in the United States. Rugged\nmountain states are the healthiest; the deep South, the unhealthiest.\n\nThis example inspired by the `\"Non-Contiguous Cartogram\" <https://bl.ocks.org/mbostock/4055908>`_\nexample in the D3.JS example gallery.\n\n"
      ]
    },
    {
      "cell_type": "code",
      "execution_count": null,
      "metadata": {
        "collapsed": false
      },
      "outputs": [],
      "source": [
        "import pandas as pd\nimport geopandas as gpd\nimport geoplot as gplt\nimport geoplot.crs as gcrs\nimport matplotlib.pyplot as plt\n\n# load the data\nobesity_by_state = pd.read_csv(gplt.datasets.get_path('obesity_by_state'), sep='\\t')\ncontiguous_usa = gpd.read_file(gplt.datasets.get_path('contiguous_usa'))\ncontiguous_usa['Obesity Rate'] = contiguous_usa['state'].map(\n    lambda state: obesity_by_state.query(\"State == @state\").iloc[0]['Percent']\n)\n\n\nax = gplt.cartogram(\n    contiguous_usa,\n    scale='Obesity Rate', limits=(0.75, 1),\n    projection=gcrs.AlbersEqualArea(central_longitude=-98, central_latitude=39.5),\n    hue='Obesity Rate', cmap='Reds', k=5,\n    linewidth=0.5,\n    legend=True, legend_kwargs={'loc': 'lower right'}, legend_var='hue',\n    figsize=(12, 12)\n)\ngplt.polyplot(contiguous_usa, facecolor='lightgray', edgecolor='None', ax=ax)\n\nplt.title(\"Adult Obesity Rate by State, 2013\")\nplt.savefig(\"obesity.png\", bbox_inches='tight', pad_inches=0.1)"
      ]
    }
  ],
  "metadata": {
    "kernelspec": {
      "display_name": "Python 3",
      "language": "python",
      "name": "python3"
    },
    "language_info": {
      "codemirror_mode": {
        "name": "ipython",
        "version": 3
      },
      "file_extension": ".py",
      "mimetype": "text/x-python",
      "name": "python",
      "nbconvert_exporter": "python",
      "pygments_lexer": "ipython3",
      "version": "3.6.7"
    }
  },
  "nbformat": 4,
  "nbformat_minor": 0
}