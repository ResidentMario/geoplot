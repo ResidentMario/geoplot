{
  "cells": [
    {
      "cell_type": "code",
      "execution_count": null,
      "metadata": {
        "collapsed": false
      },
      "outputs": [],
      "source": [
        "%matplotlib inline"
      ]
    },
    {
      "cell_type": "markdown",
      "metadata": {},
      "source": [
        "\nSankey of Los Angeles flight volumes with Cartopy globes\n========================================================\n\nThis example plots passenger volumes for the most important flight routes out of Los Angeles\nInterational Airport. It demonstrates some of the globe setup options available in ``geoplot`` by\nway of ``cartopy``.\n\nFor more information visit `the cartopy docs\n<http://scitools.org.uk/cartopy/docs/latest/matplotlib/feature_interface.html>`_.\n\n"
      ]
    },
    {
      "cell_type": "code",
      "execution_count": null,
      "metadata": {
        "collapsed": false
      },
      "outputs": [],
      "source": [
        "import geopandas as gpd\nimport geoplot as gplt\nimport geoplot.crs as gcrs\nimport matplotlib.pyplot as plt\nimport cartopy\n\nla_flights = gpd.read_file(gplt.datasets.get_path('la_flights'))\n\n\nf, axarr = plt.subplots(2, 2, figsize=(12, 12), subplot_kw={\n    'projection': gcrs.Orthographic(central_latitude=40.7128, central_longitude=-74.0059)\n})\nplt.suptitle('Popular Flights out of Los Angeles, 2016', fontsize=16)\nplt.subplots_adjust(top=0.95)\n\nax = gplt.sankey(\n    la_flights, scale='Passengers', hue='Passengers', cmap='Purples', ax=axarr[0][0]\n)\nax.set_global()\nax.outline_patch.set_visible(True)\nax.coastlines()\n\nax = gplt.sankey(\n    la_flights, scale='Passengers', hue='Passengers', cmap='Purples', ax=axarr[0][1]\n)\nax.set_global()\nax.outline_patch.set_visible(True)\nax.stock_img()\n\nax = gplt.sankey(\n    la_flights, scale='Passengers', hue='Passengers', cmap='Purples', ax=axarr[1][0]\n)\nax.set_global()\nax.outline_patch.set_visible(True)\nax.gridlines()\nax.coastlines()\nax.add_feature(cartopy.feature.BORDERS)\n\nax = gplt.sankey(\n    la_flights, scale='Passengers', hue='Passengers', cmap='Purples', ax=axarr[1][1]\n)\nax.set_global()\nax.outline_patch.set_visible(True)\nax.coastlines()\nax.add_feature(cartopy.feature.LAND)\nax.add_feature(cartopy.feature.OCEAN)\nax.add_feature(cartopy.feature.LAKES)\nax.add_feature(cartopy.feature.RIVERS)\n\nplt.savefig(\"los-angeles-flights.png\", bbox_inches='tight', pad_inches=0.1)"
      ]
    }
  ],
  "metadata": {
    "kernelspec": {
      "display_name": "Python 3",
      "language": "python",
      "name": "python3"
    },
    "language_info": {
      "codemirror_mode": {
        "name": "ipython",
        "version": 3
      },
      "file_extension": ".py",
      "mimetype": "text/x-python",
      "name": "python",
      "nbconvert_exporter": "python",
      "pygments_lexer": "ipython3",
      "version": "3.6.7"
    }
  },
  "nbformat": 4,
  "nbformat_minor": 0
}