{
  "cells": [
    {
      "cell_type": "code",
      "execution_count": null,
      "metadata": {
        "collapsed": false
      },
      "outputs": [],
      "source": [
        "%matplotlib inline"
      ]
    },
    {
      "cell_type": "markdown",
      "metadata": {},
      "source": [
        "\nPointplot of NYC fatal and injurious traffic collisions\n=======================================================\n\nThe example ``pointplot`` of fatal (>1 fatality) and injurious (>1 injury requiring\na hospital visit) collisions demonstrates the difference in volume between the two types of\naccident outcomes: injuries are much, much more common than fatalities.\n\n"
      ]
    },
    {
      "cell_type": "code",
      "execution_count": null,
      "metadata": {
        "collapsed": false
      },
      "outputs": [],
      "source": [
        "import geopandas as gpd\nimport geoplot as gplt\nimport geoplot.crs as gcrs\nimport matplotlib.pyplot as plt\n\n# load the data\nnyc_boroughs = gpd.read_file(gplt.datasets.get_path('nyc_boroughs'))\nnyc_fatal_collisions = gpd.read_file(gplt.datasets.get_path('nyc_fatal_collisions'))\nnyc_injurious_collisions = gpd.read_file(gplt.datasets.get_path('nyc_injurious_collisions'))\n\n\nfig = plt.figure(figsize=(10,5))\nproj = projection=gcrs.AlbersEqualArea(central_latitude=40.7128, central_longitude=-74.0059)\nax1 = plt.subplot(121, projection=proj)\nax2 = plt.subplot(122, projection=proj)\n\nax1 = gplt.pointplot(\n    nyc_fatal_collisions, projection=proj,\n    hue='BOROUGH', cmap='Set1',\n    edgecolor='white', linewidth=0.5,\n    scale='NUMBER OF PERSONS KILLED', limits=(8, 24),\n    legend=True, legend_var='scale',\n    legend_kwargs={'loc': 'upper left', 'markeredgecolor': 'black'},\n    legend_values=[2, 1], legend_labels=['2 Fatalities', '1 Fatality'],\n    ax=ax1\n)\ngplt.polyplot(nyc_boroughs, ax=ax1)\nax1.set_title(\"Fatal Crashes in New York City, 2016\")\n\ngplt.pointplot(\n    nyc_injurious_collisions, projection=proj,\n    hue='BOROUGH', cmap='Set1',\n    edgecolor='white', linewidth=0.5,\n    scale='NUMBER OF PERSONS INJURED', limits=(4, 20),\n    legend=True, legend_var='scale',\n    legend_kwargs={'loc': 'upper left', 'markeredgecolor': 'black'},\n    legend_values=[20, 15, 10, 5, 1],\n    legend_labels=['20 Injuries', '15 Injuries', '10 Injuries', '5 Injuries', '1 Injury'],\n    ax=ax2\n)\ngplt.polyplot(nyc_boroughs, ax=ax2, projection=proj)\nax2.set_title(\"Injurious Crashes in New York City, 2016\")\n\nplt.savefig(\"nyc-collisions-map.png\", bbox_inches='tight', pad_inches=0)"
      ]
    }
  ],
  "metadata": {
    "kernelspec": {
      "display_name": "Python 3",
      "language": "python",
      "name": "python3"
    },
    "language_info": {
      "codemirror_mode": {
        "name": "ipython",
        "version": 3
      },
      "file_extension": ".py",
      "mimetype": "text/x-python",
      "name": "python",
      "nbconvert_exporter": "python",
      "pygments_lexer": "ipython3",
      "version": "3.6.7"
    }
  },
  "nbformat": 4,
  "nbformat_minor": 0
}