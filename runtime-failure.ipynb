{
 "cells": [
  {
   "cell_type": "code",
   "execution_count": 1,
   "metadata": {
    "collapsed": true
   },
   "outputs": [],
   "source": [
    "%load_ext autoreload\n",
    "%autoreload 2\n",
    "import pandas as pd\n",
    "import geopandas as gpd\n",
    "from shapely.geometry import Point\n",
    "import numpy as np\n",
    "import matplotlib.pyplot as plt\n",
    "import geoplot.crs as ccrs\n",
    "from geoplot import geoplot as gplt\n",
    "%matplotlib inline"
   ]
  },
  {
   "cell_type": "code",
   "execution_count": 2,
   "metadata": {
    "collapsed": true
   },
   "outputs": [],
   "source": [
    "# Shim to download the dataset being used here, if it has not been downloaded already.\n",
    "# cf. https://data.cityofnewyork.us/Public-Safety/NYPD-Motor-Vehicle-Collisions/h9gi-nx95\n",
    "import os\n",
    "\n",
    "if not os.path.isfile(\"./data/NYPD Motor Vehicle Collisions.csv\"):\n",
    "    import requests\n",
    "    with open(\"./data/NYPD Motor Vehicle Collisions.csv\", \"w\") as f:\n",
    "        f.write(requests.get(\"https://data.cityofnewyork.us/api/views/h9gi-nx95/rows.csv?accessType=DOWNLOAD\").text)"
   ]
  },
  {
   "cell_type": "code",
   "execution_count": 3,
   "metadata": {
    "collapsed": false
   },
   "outputs": [],
   "source": [
    "cdata = pd.read_csv(\"./data/NYPD Motor Vehicle Collisions.csv\", index_col=0)"
   ]
  },
  {
   "cell_type": "code",
   "execution_count": 4,
   "metadata": {
    "collapsed": true
   },
   "outputs": [],
   "source": [
    "def pointify(srs):\n",
    "    lat, long = srs['LATITUDE'], srs['LONGITUDE']\n",
    "    if pd.isnull(lat) or pd.isnull(long):\n",
    "        return Point(0, 0)\n",
    "    else:\n",
    "        return Point(lat, long)\n",
    "\n",
    "collisions = gpd.GeoDataFrame(cdata.head(1000), geometry=cdata.head(1000).apply(pointify, axis='columns'))\n",
    "collisions = collisions[collisions.geometry.map(lambda srs: not (srs.x == 0))]"
   ]
  },
  {
   "cell_type": "code",
   "execution_count": 5,
   "metadata": {
    "collapsed": false
   },
   "outputs": [
    {
     "name": "stdout",
     "output_type": "stream",
     "text": [
      "> c:\\users\\alex\\desktop\\geoplot\\geoplot\\geoplot.py(385)aggplot()\n",
      "-> fig = plt.plot(figsize=figsize)\n",
      "(Pdb) c\n",
      "> c:\\users\\alex\\desktop\\geoplot\\geoplot\\geoplot.py(430)aggplot()\n",
      "-> ax.set_extent((bxmin, bxmax, bymin, bymax), crs=ccrs.PlateCarree())\n",
      "(Pdb) c\n"
     ]
    },
    {
     "data": {
      "image/png": "[encoded data removed]",
      "text/plain": [
       "<matplotlib.figure.Figure at 0x19442748>"
      ]
     },
     "metadata": {},
     "output_type": "display_data"
    }
   ],
   "source": [
    "# Test result on Windows: OK.\n",
    "gplt.aggplot(collisions.head(5), projection=ccrs.AlbersEqualArea(), threshold=5,\n",
    "             hue='NUMBER OF PERSONS INJURED', cmap='Blues')"
   ]
  },
  {
   "cell_type": "code",
   "execution_count": null,
   "metadata": {
    "collapsed": false,
    "scrolled": false
   },
   "outputs": [
    {
     "name": "stdout",
     "output_type": "stream",
     "text": [
      "> /Users/Honors/Desktop/geoplot/geoplot/geoplot.py(385)aggplot()\n",
      "-> fig = plt.plot(figsize=figsize)\n",
      "(Pdb) s\n",
      "--Call--\n",
      "> /Users/Honors/anaconda/envs/geoplot/lib/python3.5/site-packages/matplotlib/pyplot.py(3145)plot()\n",
      "-> @_autogen_docstring(Axes.plot)\n",
      "(Pdb) c\n",
      "> /Users/Honors/Desktop/geoplot/geoplot/geoplot.py(430)aggplot()\n",
      "-> ax.set_extent((bxmin, bxmax, bymin, bymax), crs=ccrs.PlateCarree())\n",
      "(Pdb) s\n",
      "--Call--\n",
      "> /Users/Honors/anaconda/envs/geoplot/lib/python3.5/site-packages/cartopy/crs.py(666)__init__()\n",
      "-> def __init__(self, central_longitude=0.0, globe=None):\n",
      "(Pdb) n\n",
      "> /Users/Honors/anaconda/envs/geoplot/lib/python3.5/site-packages/cartopy/crs.py(667)__init__()\n",
      "-> proj4_params = [('proj', 'eqc'), ('lon_0', central_longitude)]\n",
      "(Pdb) \n",
      "> /Users/Honors/anaconda/envs/geoplot/lib/python3.5/site-packages/cartopy/crs.py(668)__init__()\n",
      "-> if globe is None:\n",
      "(Pdb) \n",
      "> /Users/Honors/anaconda/envs/geoplot/lib/python3.5/site-packages/cartopy/crs.py(669)__init__()\n",
      "-> globe = Globe(semimajor_axis=math.degrees(1))\n",
      "(Pdb) \n",
      "> /Users/Honors/anaconda/envs/geoplot/lib/python3.5/site-packages/cartopy/crs.py(670)__init__()\n",
      "-> a_rad = math.radians(globe.semimajor_axis or WGS84_SEMIMAJOR_AXIS)\n",
      "(Pdb) \n",
      "> /Users/Honors/anaconda/envs/geoplot/lib/python3.5/site-packages/cartopy/crs.py(671)__init__()\n",
      "-> x_max = a_rad * 180\n",
      "(Pdb) \n",
      "> /Users/Honors/anaconda/envs/geoplot/lib/python3.5/site-packages/cartopy/crs.py(672)__init__()\n",
      "-> y_max = a_rad * 90\n",
      "(Pdb) \n",
      "> /Users/Honors/anaconda/envs/geoplot/lib/python3.5/site-packages/cartopy/crs.py(674)__init__()\n",
      "-> self._threshold = x_max / 360.\n",
      "(Pdb) \n",
      "> /Users/Honors/anaconda/envs/geoplot/lib/python3.5/site-packages/cartopy/crs.py(675)__init__()\n",
      "-> super(PlateCarree, self).__init__(proj4_params, x_max, y_max,\n",
      "(Pdb) \n",
      "> /Users/Honors/anaconda/envs/geoplot/lib/python3.5/site-packages/cartopy/crs.py(676)__init__()\n",
      "-> globe=globe)\n",
      "(Pdb) \n",
      "--Return--\n",
      "> /Users/Honors/anaconda/envs/geoplot/lib/python3.5/site-packages/cartopy/crs.py(676)__init__()->None\n",
      "-> globe=globe)\n",
      "(Pdb) \n",
      "--Call--\n",
      "> /Users/Honors/anaconda/envs/geoplot/lib/python3.5/site-packages/cartopy/mpl/geoaxes.py(606)set_extent()\n",
      "-> def set_extent(self, extents, crs=None):\n",
      "(Pdb) \n",
      "> /Users/Honors/anaconda/envs/geoplot/lib/python3.5/site-packages/cartopy/mpl/geoaxes.py(618)set_extent()\n",
      "-> x1, x2, y1, y2 = extents\n",
      "(Pdb) \n",
      "> /Users/Honors/anaconda/envs/geoplot/lib/python3.5/site-packages/cartopy/mpl/geoaxes.py(619)set_extent()\n",
      "-> domain_in_crs = sgeom.polygon.LineString([[x1, y1], [x2, y1],\n",
      "(Pdb) \n",
      "> /Users/Honors/anaconda/envs/geoplot/lib/python3.5/site-packages/cartopy/mpl/geoaxes.py(620)set_extent()\n",
      "-> [x2, y2], [x1, y2],\n",
      "(Pdb) \n",
      "> /Users/Honors/anaconda/envs/geoplot/lib/python3.5/site-packages/cartopy/mpl/geoaxes.py(621)set_extent()\n",
      "-> [x1, y1]])\n",
      "(Pdb) \n",
      "> /Users/Honors/anaconda/envs/geoplot/lib/python3.5/site-packages/cartopy/mpl/geoaxes.py(623)set_extent()\n",
      "-> projected = None\n",
      "(Pdb) \n",
      "> /Users/Honors/anaconda/envs/geoplot/lib/python3.5/site-packages/cartopy/mpl/geoaxes.py(631)set_extent()\n",
      "-> try_workaround = ((crs is None and\n",
      "(Pdb) \n",
      "> /Users/Honors/anaconda/envs/geoplot/lib/python3.5/site-packages/cartopy/mpl/geoaxes.py(633)set_extent()\n",
      "-> crs == self.projection)\n",
      "(Pdb) \n",
      "> /Users/Honors/anaconda/envs/geoplot/lib/python3.5/site-packages/cartopy/mpl/geoaxes.py(634)set_extent()\n",
      "-> if try_workaround:\n",
      "(Pdb) \n",
      "> /Users/Honors/anaconda/envs/geoplot/lib/python3.5/site-packages/cartopy/mpl/geoaxes.py(639)set_extent()\n",
      "-> if projected is None:\n",
      "(Pdb) \n",
      "> /Users/Honors/anaconda/envs/geoplot/lib/python3.5/site-packages/cartopy/mpl/geoaxes.py(640)set_extent()\n",
      "-> projected = self.projection.project_geometry(domain_in_crs, crs)\n",
      "(Pdb) s\n",
      "--Call--\n",
      "> /Users/Honors/anaconda/envs/geoplot/lib/python3.5/site-packages/cartopy/crs.py(153)project_geometry()\n",
      "-> def project_geometry(self, geometry, src_crs=None):\n",
      "(Pdb) n\n",
      "> /Users/Honors/anaconda/envs/geoplot/lib/python3.5/site-packages/cartopy/crs.py(165)project_geometry()\n",
      "-> if src_crs is None:\n",
      "(Pdb) \n",
      "> /Users/Honors/anaconda/envs/geoplot/lib/python3.5/site-packages/cartopy/crs.py(167)project_geometry()\n",
      "-> elif not isinstance(src_crs, CRS):\n",
      "(Pdb) \n",
      "> /Users/Honors/anaconda/envs/geoplot/lib/python3.5/site-packages/cartopy/crs.py(170)project_geometry()\n",
      "-> geom_type = geometry.geom_type\n",
      "(Pdb) \n",
      "> /Users/Honors/anaconda/envs/geoplot/lib/python3.5/site-packages/cartopy/crs.py(171)project_geometry()\n",
      "-> method_name = self._method_map.get(geom_type)\n",
      "(Pdb) \n",
      "> /Users/Honors/anaconda/envs/geoplot/lib/python3.5/site-packages/cartopy/crs.py(172)project_geometry()\n",
      "-> if not method_name:\n",
      "(Pdb) \n",
      "> /Users/Honors/anaconda/envs/geoplot/lib/python3.5/site-packages/cartopy/crs.py(175)project_geometry()\n",
      "-> return getattr(self, method_name)(geometry, src_crs)\n",
      "(Pdb) s\n",
      "--Call--\n",
      "> /Users/Honors/anaconda/envs/geoplot/lib/python3.5/site-packages/cartopy/crs.py(180)_project_line_string()\n",
      "-> def _project_line_string(self, geometry, src_crs):\n",
      "(Pdb) n\n",
      "> /Users/Honors/anaconda/envs/geoplot/lib/python3.5/site-packages/cartopy/crs.py(181)_project_line_string()\n",
      "-> return cartopy.trace.project_linear(geometry, src_crs, self)\n",
      "(Pdb) s\n",
      "--Call--\n",
      "> /Users/Honors/anaconda/envs/geoplot/lib/python3.5/site-packages/cartopy/crs.py(1710)threshold()\n",
      "-> @property\n",
      "(Pdb) n\n",
      "> /Users/Honors/anaconda/envs/geoplot/lib/python3.5/site-packages/cartopy/crs.py(1712)threshold()\n",
      "-> return 1e5\n",
      "(Pdb) \n",
      "--Return--\n",
      "> /Users/Honors/anaconda/envs/geoplot/lib/python3.5/site-packages/cartopy/crs.py(1712)threshold()->100000.0\n",
      "-> return 1e5\n",
      "(Pdb) \n",
      "--Call--\n",
      "> /Users/Honors/anaconda/envs/geoplot/lib/python3.5/site-packages/shapely/geometry/base.py(240)_geom()\n",
      "-> @property\n",
      "(Pdb) \n",
      "> /Users/Honors/anaconda/envs/geoplot/lib/python3.5/site-packages/shapely/geometry/base.py(242)_geom()\n",
      "-> return self.__geom__\n",
      "(Pdb) \n",
      "--Return--\n",
      "> /Users/Honors/anaconda/envs/geoplot/lib/python3.5/site-packages/shapely/geometry/base.py(242)_geom()->4605348464\n",
      "-> return self.__geom__\n",
      "(Pdb) \n",
      "--Call--\n",
      "> /Users/Honors/anaconda/envs/geoplot/lib/python3.5/site-packages/cartopy/crs.py(141)domain()\n",
      "-> @property\n",
      "(Pdb) \n",
      "> /Users/Honors/anaconda/envs/geoplot/lib/python3.5/site-packages/cartopy/crs.py(143)domain()\n",
      "-> try:\n",
      "(Pdb) \n",
      "> /Users/Honors/anaconda/envs/geoplot/lib/python3.5/site-packages/cartopy/crs.py(144)domain()\n",
      "-> domain = self._domain\n",
      "(Pdb) \n",
      "AttributeError: 'AlbersEqualArea' object has no attribute '_domain'\n",
      "> /Users/Honors/anaconda/envs/geoplot/lib/python3.5/site-packages/cartopy/crs.py(144)domain()\n",
      "-> domain = self._domain\n",
      "(Pdb) \n",
      "> /Users/Honors/anaconda/envs/geoplot/lib/python3.5/site-packages/cartopy/crs.py(145)domain()\n",
      "-> except AttributeError:\n",
      "(Pdb) \n",
      "> /Users/Honors/anaconda/envs/geoplot/lib/python3.5/site-packages/cartopy/crs.py(146)domain()\n",
      "-> domain = self._domain = sgeom.Polygon(self.boundary)\n",
      "(Pdb) \n",
      "> /Users/Honors/anaconda/envs/geoplot/lib/python3.5/site-packages/cartopy/crs.py(147)domain()\n",
      "-> return domain\n",
      "(Pdb) \n",
      "--Return--\n",
      "> /Users/Honors/anaconda/envs/geoplot/lib/python3.5/site-packages/cartopy/crs.py(147)domain()-><shapely.geom...t 0x112737be0>\n",
      "-> return domain\n",
      "(Pdb) \n",
      "--Call--\n",
      "> /Users/Honors/anaconda/envs/geoplot/lib/python3.5/site-packages/shapely/geometry/base.py(240)_geom()\n",
      "-> @property\n",
      "(Pdb) \n",
      "> /Users/Honors/anaconda/envs/geoplot/lib/python3.5/site-packages/shapely/geometry/base.py(242)_geom()\n",
      "-> return self.__geom__\n",
      "(Pdb) self\n",
      "<shapely.geometry.polygon.Polygon object at 0x112737be0>\n",
      "(Pdb) self.__geom__\n",
      "4605347896\n",
      "(Pdb) n\n",
      "--Return--\n",
      "> /Users/Honors/anaconda/envs/geoplot/lib/python3.5/site-packages/shapely/geometry/base.py(242)_geom()->4605347896\n",
      "-> return self.__geom__\n",
      "(Pdb) \n"
     ]
    }
   ],
   "source": [
    "# Test result on Mac OSX: kernel death.\n",
    "# cf. https://github.com/Toblerity/Shapely/issues/435\n",
    "# cf. https://github.com/Toblerity/Shapely/issues/416\n",
    "gplt.aggplot(collisions.head(5), projection=ccrs.AlbersEqualArea(), threshold=5,\n",
    "             hue='NUMBER OF PERSONS INJURED', cmap='Blues')"
   ]
  }
 ],
 "metadata": {
  "kernelspec": {
   "display_name": "Python 3",
   "language": "python",
   "name": "python3"
  },
  "language_info": {
   "codemirror_mode": {
    "name": "ipython",
    "version": 3
   },
   "file_extension": ".py",
   "mimetype": "text/x-python",
   "name": "python",
   "nbconvert_exporter": "python",
   "pygments_lexer": "ipython3",
   "version": "3.5.2"
  }
 },
 "nbformat": 4,
 "nbformat_minor": 0
}
