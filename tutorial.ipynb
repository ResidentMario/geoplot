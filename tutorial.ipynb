{
 "cells": [
  {
   "cell_type": "markdown",
   "metadata": {},
   "source": [
    "# Geoplot tutorial\n",
    "\n",
    "## Geospatial data today\n",
    "\n",
    "Geospatial data is any form of data which has a location to it. Most of the data generated today has such a\n",
    "geospatial context, context which is, in turn, oftentimes important to understanding the data itself. Thanks to its\n",
    "ease-of-use and deep ecosystem, the Python programming language has emerged as a leading choice in the performance of\n",
    "data analytics, geospatial data analytics included. ``geoplot``, a tool for generating easy-to-use geospatial plot\n",
    "types, builds on the fundamental peices of this existing programming stack, which we will discuss first.\n",
    "\n",
    "The core abstraction is the ``GeoDataFrame``, an augmented version of a ``pandas`` ``DataFrame`` with an attached\n",
    "geometry:"
   ]
  },
  {
   "cell_type": "code",
   "execution_count": 4,
   "metadata": {
    "collapsed": false
   },
   "outputs": [
    {
     "data": {
      "text/html": [
       "<div>\n",
       "<table border=\"1\" class=\"dataframe\">\n",
       "  <thead>\n",
       "    <tr style=\"text-align: right;\">\n",
       "      <th></th>\n",
       "      <th>BoroCode</th>\n",
       "      <th>BoroName</th>\n",
       "      <th>Shape_Area</th>\n",
       "      <th>Shape_Leng</th>\n",
       "      <th>geometry</th>\n",
       "    </tr>\n",
       "  </thead>\n",
       "  <tbody>\n",
       "    <tr>\n",
       "      <th>0</th>\n",
       "      <td>5</td>\n",
       "      <td>Staten Island</td>\n",
       "      <td>1.623853e+09</td>\n",
       "      <td>330385.03697</td>\n",
       "      <td>(POLYGON ((-74.05050806403247 40.5664220341608...</td>\n",
       "    </tr>\n",
       "    <tr>\n",
       "      <th>1</th>\n",
       "      <td>4</td>\n",
       "      <td>Queens</td>\n",
       "      <td>3.049947e+09</td>\n",
       "      <td>861038.47930</td>\n",
       "      <td>(POLYGON ((-73.83668274106708 40.5949466970158...</td>\n",
       "    </tr>\n",
       "    <tr>\n",
       "      <th>2</th>\n",
       "      <td>3</td>\n",
       "      <td>Brooklyn</td>\n",
       "      <td>1.959432e+09</td>\n",
       "      <td>726568.94634</td>\n",
       "      <td>(POLYGON ((-73.8670614947212 40.58208797679338...</td>\n",
       "    </tr>\n",
       "    <tr>\n",
       "      <th>3</th>\n",
       "      <td>1</td>\n",
       "      <td>Manhattan</td>\n",
       "      <td>6.364422e+08</td>\n",
       "      <td>358532.95642</td>\n",
       "      <td>(POLYGON ((-74.01092841268033 40.6844914725429...</td>\n",
       "    </tr>\n",
       "    <tr>\n",
       "      <th>4</th>\n",
       "      <td>2</td>\n",
       "      <td>Bronx</td>\n",
       "      <td>1.186804e+09</td>\n",
       "      <td>464517.89055</td>\n",
       "      <td>(POLYGON ((-73.89680883223775 40.7958084451597...</td>\n",
       "    </tr>\n",
       "  </tbody>\n",
       "</table>\n",
       "</div>"
      ],
      "text/plain": [
       "   BoroCode       BoroName    Shape_Area    Shape_Leng  \\\n",
       "0         5  Staten Island  1.623853e+09  330385.03697   \n",
       "1         4         Queens  3.049947e+09  861038.47930   \n",
       "2         3       Brooklyn  1.959432e+09  726568.94634   \n",
       "3         1      Manhattan  6.364422e+08  358532.95642   \n",
       "4         2          Bronx  1.186804e+09  464517.89055   \n",
       "\n",
       "                                            geometry  \n",
       "0  (POLYGON ((-74.05050806403247 40.5664220341608...  \n",
       "1  (POLYGON ((-73.83668274106708 40.5949466970158...  \n",
       "2  (POLYGON ((-73.8670614947212 40.58208797679338...  \n",
       "3  (POLYGON ((-74.01092841268033 40.6844914725429...  \n",
       "4  (POLYGON ((-73.89680883223775 40.7958084451597...  "
      ]
     },
     "execution_count": 4,
     "metadata": {},
     "output_type": "execute_result"
    }
   ],
   "source": [
    "import geopandas as gpd\n",
    "boroughs = gpd.read_file(\"./data/boroughs.geojson\", driver='GeoJSON')\n",
    "boroughs"
   ]
  },
  {
   "cell_type": "markdown",
   "metadata": {},
   "source": [
    "Readers familiar with ``pandas`` operations should be pleased to know that the library providing this\n",
    "geometric abstraction, ``geopandas``, is just an extension of the former, and so has all the same fundamental\n",
    "operations. That means that if you've ever worked with data before but haven't yet touched geospatial, the transition\n",
    "should be completely straightforward. If you haven't worked with data before in Python and are thus unfamiliar with\n",
    "``pandas``, you should refer to its documentation and get good with using that library first&mdash;[10 Minutes to Pandas](http://pandas.pydata.org/pandas-docs/stable/10min.html) is one place where you can get started.\n",
    "\n",
    "Any operation that will work on a ``DataFrame`` will work on a ``GeoDataFrame``, but the latter adds a few additional\n",
    "methods and features for dealing with geometry not present in the former. The most obvious of these is the addition\n",
    "of a column for storing geometries, accessible using the ``geometry`` attribute:"
   ]
  },
  {
   "cell_type": "code",
   "execution_count": 5,
   "metadata": {
    "collapsed": false,
    "scrolled": true
   },
   "outputs": [
    {
     "data": {
      "text/plain": [
       "0    (POLYGON ((-74.05050806403247 40.5664220341608...\n",
       "1    (POLYGON ((-73.83668274106708 40.5949466970158...\n",
       "2    (POLYGON ((-73.8670614947212 40.58208797679338...\n",
       "3    (POLYGON ((-74.01092841268033 40.6844914725429...\n",
       "4    (POLYGON ((-73.89680883223775 40.7958084451597...\n",
       "Name: geometry, dtype: object"
      ]
     },
     "execution_count": 5,
     "metadata": {},
     "output_type": "execute_result"
    }
   ],
   "source": [
    "boroughs.geometry"
   ]
  },
  {
   "cell_type": "markdown",
   "metadata": {},
   "source": [
    "That geometry is stored with reference to some kind of [**coordinate reference system**](https://en.wikipedia.org/wiki/Spatial_reference_system), or CRS. You can extract what CRS your polygons are stored in using the `crs` attribute:"
   ]
  },
  {
   "cell_type": "code",
   "execution_count": 6,
   "metadata": {
    "collapsed": false
   },
   "outputs": [
    {
     "data": {
      "text/plain": [
       "{'init': 'epsg:4326'}"
      ]
     },
     "execution_count": 6,
     "metadata": {},
     "output_type": "execute_result"
    }
   ],
   "source": [
    "boroughs.crs"
   ]
  },
  {
   "cell_type": "markdown",
   "metadata": {},
   "source": [
    "In this case `epsg:4326` is an identifier for what the rest of us more commonly refer to as \"longitude and latitude\". EPSG itself is a standardized system for refering to coordinate reference systems; [spatialreference.org](http://spatialreference.org/ref/epsg/wgs-84/) is the best place to look these identifiers up.\n",
    "\n",
    "Coordinate reference systems are, basically, different ways of mathematically calculating locations. Due to the complexity of the surface of the earth, different geographically sensitive systems of measurement are more or less useful for different tasks. For example, the United States Geolocial Service, which provides extremely high-accuracy maps of United States localities, maintains individual coordinate reference systems, refered to as \"state plane systems\", for the various states of the union. These are used throughout government, and look nothing like the latitude and longitude coordinates that we are generally more used to.\n",
    "\n",
    "For the purposes of illustration, here are a few coordinates of buildings in New York City, stored in [the original record](http://www1.nyc.gov/site/planning/data-maps/open-data.page) in the Long Island State Plane coordinate reference system:\n",
    "\n",
    "Continue..."
   ]
  },
  {
   "cell_type": "code",
   "execution_count": 7,
   "metadata": {
    "collapsed": true
   },
   "outputs": [],
   "source": [
    "# TODO"
   ]
  }
 ],
 "metadata": {
  "anaconda-cloud": {},
  "kernelspec": {
   "display_name": "Python [conda env:geoplot]",
   "language": "python",
   "name": "conda-env-geoplot-py"
  },
  "language_info": {
   "codemirror_mode": {
    "name": "ipython",
    "version": 3
   },
   "file_extension": ".py",
   "mimetype": "text/x-python",
   "name": "python",
   "nbconvert_exporter": "python",
   "pygments_lexer": "ipython3",
   "version": "3.5.2"
  }
 },
 "nbformat": 4,
 "nbformat_minor": 2
}
