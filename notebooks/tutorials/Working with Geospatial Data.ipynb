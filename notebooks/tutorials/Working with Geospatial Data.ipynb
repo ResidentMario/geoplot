{
 "cells": [
  {
   "cell_type": "markdown",
   "metadata": {},
   "source": [
    "# Working with Geospatial Data\n",
    "\n",
    "This section of the tutorial discusses how to use `geopandas` and `shapely` to manipulate geospatial data in Python. If you've never used these libraries before, or are looking for a refresher on how they work, this page is for you!\n",
    "\n",
    "I recommend reading this notebook using [NBViewer](https://nbviewer.jupyter.org/github/ResidentMario/geoplot/blob/master/notebooks/tutorials/Working%20with%20Geospatial%20Data.ipynb) or, better yet, following along interactively using [Binder](https://mybinder.org/v2/gh/ResidentMario/geoplot/master?filepath=notebooks/tutorials/Working%20with%20Geospatial%20Data.ipynb)."
   ]
  },
  {
   "cell_type": "markdown",
   "metadata": {},
   "source": [
    "## Coordinate reference systems\n",
    "\n",
    "The ``GeoDataFrame`` is an augmented version of a ``pandas`` ``DataFrame`` with an attached geometry:"
   ]
  },
  {
   "cell_type": "code",
   "execution_count": 2,
   "metadata": {},
   "outputs": [
    {
     "data": {
      "text/html": [
       "<div>\n",
       "<style scoped>\n",
       "    .dataframe tbody tr th:only-of-type {\n",
       "        vertical-align: middle;\n",
       "    }\n",
       "\n",
       "    .dataframe tbody tr th {\n",
       "        vertical-align: top;\n",
       "    }\n",
       "\n",
       "    .dataframe thead th {\n",
       "        text-align: right;\n",
       "    }\n",
       "</style>\n",
       "<table border=\"1\" class=\"dataframe\">\n",
       "  <thead>\n",
       "    <tr style=\"text-align: right;\">\n",
       "      <th></th>\n",
       "      <th>BoroCode</th>\n",
       "      <th>BoroName</th>\n",
       "      <th>Shape_Leng</th>\n",
       "      <th>Shape_Area</th>\n",
       "      <th>geometry</th>\n",
       "    </tr>\n",
       "  </thead>\n",
       "  <tbody>\n",
       "    <tr>\n",
       "      <th>0</th>\n",
       "      <td>5</td>\n",
       "      <td>Staten Island</td>\n",
       "      <td>330385.03697</td>\n",
       "      <td>1.623853e+09</td>\n",
       "      <td>(POLYGON ((-74.05050806403247 40.5664220341608...</td>\n",
       "    </tr>\n",
       "    <tr>\n",
       "      <th>1</th>\n",
       "      <td>4</td>\n",
       "      <td>Queens</td>\n",
       "      <td>861038.47930</td>\n",
       "      <td>3.049947e+09</td>\n",
       "      <td>(POLYGON ((-73.83668274106708 40.5949466970158...</td>\n",
       "    </tr>\n",
       "    <tr>\n",
       "      <th>2</th>\n",
       "      <td>3</td>\n",
       "      <td>Brooklyn</td>\n",
       "      <td>726568.94634</td>\n",
       "      <td>1.959432e+09</td>\n",
       "      <td>(POLYGON ((-73.8670614947212 40.58208797679338...</td>\n",
       "    </tr>\n",
       "    <tr>\n",
       "      <th>3</th>\n",
       "      <td>1</td>\n",
       "      <td>Manhattan</td>\n",
       "      <td>358532.95642</td>\n",
       "      <td>6.364422e+08</td>\n",
       "      <td>(POLYGON ((-74.01092841268033 40.6844914725429...</td>\n",
       "    </tr>\n",
       "    <tr>\n",
       "      <th>4</th>\n",
       "      <td>2</td>\n",
       "      <td>Bronx</td>\n",
       "      <td>464517.89055</td>\n",
       "      <td>1.186804e+09</td>\n",
       "      <td>(POLYGON ((-73.89680883223775 40.7958084451597...</td>\n",
       "    </tr>\n",
       "  </tbody>\n",
       "</table>\n",
       "</div>"
      ],
      "text/plain": [
       "   BoroCode       BoroName    Shape_Leng    Shape_Area  \\\n",
       "0         5  Staten Island  330385.03697  1.623853e+09   \n",
       "1         4         Queens  861038.47930  3.049947e+09   \n",
       "2         3       Brooklyn  726568.94634  1.959432e+09   \n",
       "3         1      Manhattan  358532.95642  6.364422e+08   \n",
       "4         2          Bronx  464517.89055  1.186804e+09   \n",
       "\n",
       "                                            geometry  \n",
       "0  (POLYGON ((-74.05050806403247 40.5664220341608...  \n",
       "1  (POLYGON ((-73.83668274106708 40.5949466970158...  \n",
       "2  (POLYGON ((-73.8670614947212 40.58208797679338...  \n",
       "3  (POLYGON ((-74.01092841268033 40.6844914725429...  \n",
       "4  (POLYGON ((-73.89680883223775 40.7958084451597...  "
      ]
     },
     "execution_count": 2,
     "metadata": {},
     "output_type": "execute_result"
    }
   ],
   "source": [
    "import pandas as pd; pd.set_option('max_columns', 6)  # Unclutter display.\n",
    "import geopandas as gpd\n",
    "import geoplot as gplt\n",
    "\n",
    "# load the example data\n",
    "nyc_boroughs = gpd.read_file(gplt.datasets.get_path('nyc_boroughs'))\n",
    "nyc_boroughs"
   ]
  },
  {
   "cell_type": "markdown",
   "metadata": {},
   "source": [
    "Most operations that will work on a `pandas` `DataFrame` will work on a `GeoDataFrame`, but the latter adds a few additional methods and features for dealing with geometry not present in the former. The most obvious of these is the addition of a column for storing geometries, accessible using the `geometry` attribute:"
   ]
  },
  {
   "cell_type": "code",
   "execution_count": 3,
   "metadata": {},
   "outputs": [
    {
     "data": {
      "text/plain": [
       "0    (POLYGON ((-74.05050806403247 40.5664220341608...\n",
       "1    (POLYGON ((-73.83668274106708 40.5949466970158...\n",
       "2    (POLYGON ((-73.8670614947212 40.58208797679338...\n",
       "3    (POLYGON ((-74.01092841268033 40.6844914725429...\n",
       "4    (POLYGON ((-73.89680883223775 40.7958084451597...\n",
       "Name: geometry, dtype: object"
      ]
     },
     "execution_count": 3,
     "metadata": {},
     "output_type": "execute_result"
    }
   ],
   "source": [
    "nyc_boroughs.geometry"
   ]
  },
  {
   "cell_type": "markdown",
   "metadata": {},
   "source": [
    "Whenever you work with novel geospatial data in a `GeoDataFrame`, the first thing you should do is check its **coordinate reference system**.\n",
    "\n",
    "A [coordinate reference system](https://en.wikipedia.org/wiki/Spatial_reference_system), or CRS, is a system for defining where points in space are. You can extract what CRS your polygons are stored in using the `crs` attribute:"
   ]
  },
  {
   "cell_type": "code",
   "execution_count": 9,
   "metadata": {},
   "outputs": [
    {
     "data": {
      "text/plain": [
       "{'init': 'epsg:4326'}"
      ]
     },
     "execution_count": 9,
     "metadata": {},
     "output_type": "execute_result"
    }
   ],
   "source": [
    "boroughs.crs"
   ]
  },
  {
   "cell_type": "markdown",
   "metadata": {},
   "source": [
    "In this case `epsg:4326` is the official identifier for what the rest of us more commonly refer to as \"longitude and latitude\". Most coordinate reference systems have a well-defined EPSG number, which you can look up using the handy [spatialreference.org](http://spatialreference.org/ref/epsg/wgs-84/) website.\n",
    "\n",
    "Why do coordinate reference systems exist? As an example, the United States Geolocial Service, which maintains extremely high-accuracy maps of the United States, maintains 110 coordinate reference systems, refered to as \"state plane coordinate systems\", for various portions of the United States. Latitude-longitude uses [spherical coordinates](https://en.wikipedia.org/wiki/Spherical_coordinate_system); state plane coordinate systems use \"flat-Earth\" [Cartesian coordinate](https://en.wikipedia.org/wiki/Cartesian_coordinate_system). State plane coordinates are therefore much simpler to work with computationally, while remaining accurate enough (within their \"zone\") for most applications.\n",
    "\n",
    "For this reason, state plane coordinate systems remain in use throughout government. Similar \"speciality coordinate systems\" apply in other cases.\n",
    "\n",
    "For example, here's a sample of data taken from the MapPLUTO dataset released by the City of New York:"
   ]
  },
  {
   "cell_type": "code",
   "execution_count": 19,
   "metadata": {},
   "outputs": [
    {
     "data": {
      "text/html": [
       "<div>\n",
       "<style scoped>\n",
       "    .dataframe tbody tr th:only-of-type {\n",
       "        vertical-align: middle;\n",
       "    }\n",
       "\n",
       "    .dataframe tbody tr th {\n",
       "        vertical-align: top;\n",
       "    }\n",
       "\n",
       "    .dataframe thead th {\n",
       "        text-align: right;\n",
       "    }\n",
       "</style>\n",
       "<table border=\"1\" class=\"dataframe\">\n",
       "  <thead>\n",
       "    <tr style=\"text-align: right;\">\n",
       "      <th></th>\n",
       "      <th>Borough</th>\n",
       "      <th>Block</th>\n",
       "      <th>Lot</th>\n",
       "      <th>...</th>\n",
       "      <th>Shape_Leng</th>\n",
       "      <th>Shape_Area</th>\n",
       "      <th>geometry</th>\n",
       "    </tr>\n",
       "  </thead>\n",
       "  <tbody>\n",
       "    <tr>\n",
       "      <th>0</th>\n",
       "      <td>MN</td>\n",
       "      <td>1</td>\n",
       "      <td>10</td>\n",
       "      <td>...</td>\n",
       "      <td>12277.824113</td>\n",
       "      <td>7.550340e+06</td>\n",
       "      <td>POLYGON ((979561.8712409735 191884.2491553128,...</td>\n",
       "    </tr>\n",
       "    <tr>\n",
       "      <th>1</th>\n",
       "      <td>MN</td>\n",
       "      <td>1</td>\n",
       "      <td>101</td>\n",
       "      <td>...</td>\n",
       "      <td>3940.840373</td>\n",
       "      <td>5.018974e+05</td>\n",
       "      <td>POLYGON ((972382.8255597204 190647.2667211443,...</td>\n",
       "    </tr>\n",
       "    <tr>\n",
       "      <th>2</th>\n",
       "      <td>MN</td>\n",
       "      <td>1</td>\n",
       "      <td>101</td>\n",
       "      <td>...</td>\n",
       "      <td>3940.840373</td>\n",
       "      <td>5.018974e+05</td>\n",
       "      <td>POLYGON ((972428.8290766329 190679.1751218885,...</td>\n",
       "    </tr>\n",
       "    <tr>\n",
       "      <th>3</th>\n",
       "      <td>MN</td>\n",
       "      <td>1</td>\n",
       "      <td>101</td>\n",
       "      <td>...</td>\n",
       "      <td>3940.840373</td>\n",
       "      <td>5.018974e+05</td>\n",
       "      <td>POLYGON ((972058.3399882168 190689.2800885588,...</td>\n",
       "    </tr>\n",
       "    <tr>\n",
       "      <th>4</th>\n",
       "      <td>MN</td>\n",
       "      <td>1</td>\n",
       "      <td>201</td>\n",
       "      <td>...</td>\n",
       "      <td>6306.268341</td>\n",
       "      <td>1.148539e+06</td>\n",
       "      <td>POLYGON ((973154.7118112147 194614.3312935531,...</td>\n",
       "    </tr>\n",
       "    <tr>\n",
       "      <th>5</th>\n",
       "      <td>MN</td>\n",
       "      <td>2</td>\n",
       "      <td>1</td>\n",
       "      <td>...</td>\n",
       "      <td>2721.060649</td>\n",
       "      <td>1.008250e+05</td>\n",
       "      <td>POLYGON ((980915.0020648837 194319.1402828991,...</td>\n",
       "    </tr>\n",
       "    <tr>\n",
       "      <th>6</th>\n",
       "      <td>MN</td>\n",
       "      <td>2</td>\n",
       "      <td>2</td>\n",
       "      <td>...</td>\n",
       "      <td>2411.869687</td>\n",
       "      <td>8.724423e+04</td>\n",
       "      <td>POLYGON ((981169.004181549 194678.8213220537, ...</td>\n",
       "    </tr>\n",
       "  </tbody>\n",
       "</table>\n",
       "<p>7 rows × 90 columns</p>\n",
       "</div>"
      ],
      "text/plain": [
       "  Borough  Block  Lot                        ...                          \\\n",
       "0      MN      1   10                        ...                           \n",
       "1      MN      1  101                        ...                           \n",
       "2      MN      1  101                        ...                           \n",
       "3      MN      1  101                        ...                           \n",
       "4      MN      1  201                        ...                           \n",
       "5      MN      2    1                        ...                           \n",
       "6      MN      2    2                        ...                           \n",
       "\n",
       "     Shape_Leng    Shape_Area  \\\n",
       "0  12277.824113  7.550340e+06   \n",
       "1   3940.840373  5.018974e+05   \n",
       "2   3940.840373  5.018974e+05   \n",
       "3   3940.840373  5.018974e+05   \n",
       "4   6306.268341  1.148539e+06   \n",
       "5   2721.060649  1.008250e+05   \n",
       "6   2411.869687  8.724423e+04   \n",
       "\n",
       "                                            geometry  \n",
       "0  POLYGON ((979561.8712409735 191884.2491553128,...  \n",
       "1  POLYGON ((972382.8255597204 190647.2667211443,...  \n",
       "2  POLYGON ((972428.8290766329 190679.1751218885,...  \n",
       "3  POLYGON ((972058.3399882168 190689.2800885588,...  \n",
       "4  POLYGON ((973154.7118112147 194614.3312935531,...  \n",
       "5  POLYGON ((980915.0020648837 194319.1402828991,...  \n",
       "6  POLYGON ((981169.004181549 194678.8213220537, ...  \n",
       "\n",
       "[7 rows x 90 columns]"
      ]
     },
     "execution_count": 19,
     "metadata": {},
     "output_type": "execute_result"
    }
   ],
   "source": [
    "nyc_map_pluto_sample = gpd.read_file(gplt.datasets.get_path('nyc_map_pluto_sample'))\n",
    "nyc_map_pluto_sample"
   ]
  },
  {
   "cell_type": "markdown",
   "metadata": {},
   "source": [
    "This data is stored in the Long Island State Plane coordinate reference system ([EPSG 2263](https://www.spatialreference.org/ref/epsg/2263/)).\n",
    "\n",
    "**Note**: Unfortunately, due to a bug in `geopandas` the CRS on read is set incorrectly to `epsg:4326` and we have to set it to the correct coordinate reference system manually."
   ]
  },
  {
   "cell_type": "code",
   "execution_count": 21,
   "metadata": {},
   "outputs": [
    {
     "data": {
      "text/plain": [
       "{'init': 'epsg:2263'}"
      ]
     },
     "execution_count": 21,
     "metadata": {},
     "output_type": "execute_result"
    }
   ],
   "source": [
    "nyc_map_pluto_sample.crs = {'init': 'epsg:2263'}\n",
    "nyc_map_pluto_sample.crs"
   ]
  },
  {
   "cell_type": "markdown",
   "metadata": {},
   "source": [
    "Depending on the dataset, `crs` may be set to either `epsg:<INT>` or to a raw [`proj4`](https://github.com/OSGeo/PROJ) projection dictionary. For example, if we had read the data from the raw MapPLUTO file instead of from the sample I saved for this tutorial, we would get the following `crs`:"
   ]
  },
  {
   "cell_type": "markdown",
   "metadata": {},
   "source": [
    "    {'datum': 'NAD83',\n",
    "     'lat_0': 40.16666666666666,\n",
    "     'lat_1': 40.66666666666666,\n",
    "     'lat_2': 41.03333333333333,\n",
    "     'lon_0': -74,\n",
    "     'no_defs': True,\n",
    "     'proj': 'lcc',\n",
    "     'units': 'us-ft',\n",
    "     'x_0': 300000,\n",
    "     'y_0': 0}"
   ]
  },
  {
   "cell_type": "markdown",
   "metadata": {},
   "source": [
    "If the dataset does not provide any CRS, `geopandas` will assume the data is in lat-long as set `crs` to `epsg:4326`, even if it isn't. It's even possible for a dataset to be wrong about its coordinate reference system.\n",
    "\n",
    "**Bottom line**: after reading in a dataset, always verify that the dataset coordinate reference system is set to what its documentation it should be set to.\n",
    "\n",
    "Once you've determined that your coordinates are not latitude-longitude, usually the first thing you want to do is covert to it. `geoplot`, amongst other libraries, expects input to be in latitude-longitude, and will not work correctly witu any other system.\n",
    "\n",
    "Moving to latitude and longitude is easy. Just convert your data to coordinates using the `geopandas` `to_crs` method:"
   ]
  },
  {
   "cell_type": "code",
   "execution_count": 25,
   "metadata": {},
   "outputs": [
    {
     "data": {
      "text/html": [
       "<div>\n",
       "<style scoped>\n",
       "    .dataframe tbody tr th:only-of-type {\n",
       "        vertical-align: middle;\n",
       "    }\n",
       "\n",
       "    .dataframe tbody tr th {\n",
       "        vertical-align: top;\n",
       "    }\n",
       "\n",
       "    .dataframe thead th {\n",
       "        text-align: right;\n",
       "    }\n",
       "</style>\n",
       "<table border=\"1\" class=\"dataframe\">\n",
       "  <thead>\n",
       "    <tr style=\"text-align: right;\">\n",
       "      <th></th>\n",
       "      <th>Borough</th>\n",
       "      <th>Block</th>\n",
       "      <th>Lot</th>\n",
       "      <th>...</th>\n",
       "      <th>Shape_Leng</th>\n",
       "      <th>Shape_Area</th>\n",
       "      <th>geometry</th>\n",
       "    </tr>\n",
       "  </thead>\n",
       "  <tbody>\n",
       "    <tr>\n",
       "      <th>0</th>\n",
       "      <td>MN</td>\n",
       "      <td>1</td>\n",
       "      <td>10</td>\n",
       "      <td>...</td>\n",
       "      <td>12277.824113</td>\n",
       "      <td>7.550340e+06</td>\n",
       "      <td>POLYGON ((-74.0169058260488 40.69335342975063,...</td>\n",
       "    </tr>\n",
       "    <tr>\n",
       "      <th>1</th>\n",
       "      <td>MN</td>\n",
       "      <td>1</td>\n",
       "      <td>101</td>\n",
       "      <td>...</td>\n",
       "      <td>3940.840373</td>\n",
       "      <td>5.018974e+05</td>\n",
       "      <td>POLYGON ((-74.04279194703045 40.68995148413112...</td>\n",
       "    </tr>\n",
       "    <tr>\n",
       "      <th>2</th>\n",
       "      <td>MN</td>\n",
       "      <td>1</td>\n",
       "      <td>101</td>\n",
       "      <td>...</td>\n",
       "      <td>3940.840373</td>\n",
       "      <td>5.018974e+05</td>\n",
       "      <td>POLYGON ((-74.04262611856618 40.69003912689961...</td>\n",
       "    </tr>\n",
       "    <tr>\n",
       "      <th>3</th>\n",
       "      <td>MN</td>\n",
       "      <td>1</td>\n",
       "      <td>101</td>\n",
       "      <td>...</td>\n",
       "      <td>3940.840373</td>\n",
       "      <td>5.018974e+05</td>\n",
       "      <td>POLYGON ((-74.04396208819837 40.69006636010664...</td>\n",
       "    </tr>\n",
       "    <tr>\n",
       "      <th>4</th>\n",
       "      <td>MN</td>\n",
       "      <td>1</td>\n",
       "      <td>201</td>\n",
       "      <td>...</td>\n",
       "      <td>6306.268341</td>\n",
       "      <td>1.148539e+06</td>\n",
       "      <td>POLYGON ((-74.04001513069795 40.7008411559464,...</td>\n",
       "    </tr>\n",
       "    <tr>\n",
       "      <th>5</th>\n",
       "      <td>MN</td>\n",
       "      <td>2</td>\n",
       "      <td>1</td>\n",
       "      <td>...</td>\n",
       "      <td>2721.060649</td>\n",
       "      <td>1.008250e+05</td>\n",
       "      <td>POLYGON ((-74.01202751677701 40.70003725302833...</td>\n",
       "    </tr>\n",
       "    <tr>\n",
       "      <th>6</th>\n",
       "      <td>MN</td>\n",
       "      <td>2</td>\n",
       "      <td>2</td>\n",
       "      <td>...</td>\n",
       "      <td>2411.869687</td>\n",
       "      <td>8.724423e+04</td>\n",
       "      <td>POLYGON ((-74.01111163437272 40.70102458543801...</td>\n",
       "    </tr>\n",
       "  </tbody>\n",
       "</table>\n",
       "<p>7 rows × 90 columns</p>\n",
       "</div>"
      ],
      "text/plain": [
       "  Borough  Block  Lot                        ...                          \\\n",
       "0      MN      1   10                        ...                           \n",
       "1      MN      1  101                        ...                           \n",
       "2      MN      1  101                        ...                           \n",
       "3      MN      1  101                        ...                           \n",
       "4      MN      1  201                        ...                           \n",
       "5      MN      2    1                        ...                           \n",
       "6      MN      2    2                        ...                           \n",
       "\n",
       "     Shape_Leng    Shape_Area  \\\n",
       "0  12277.824113  7.550340e+06   \n",
       "1   3940.840373  5.018974e+05   \n",
       "2   3940.840373  5.018974e+05   \n",
       "3   3940.840373  5.018974e+05   \n",
       "4   6306.268341  1.148539e+06   \n",
       "5   2721.060649  1.008250e+05   \n",
       "6   2411.869687  8.724423e+04   \n",
       "\n",
       "                                            geometry  \n",
       "0  POLYGON ((-74.0169058260488 40.69335342975063,...  \n",
       "1  POLYGON ((-74.04279194703045 40.68995148413112...  \n",
       "2  POLYGON ((-74.04262611856618 40.69003912689961...  \n",
       "3  POLYGON ((-74.04396208819837 40.69006636010664...  \n",
       "4  POLYGON ((-74.04001513069795 40.7008411559464,...  \n",
       "5  POLYGON ((-74.01202751677701 40.70003725302833...  \n",
       "6  POLYGON ((-74.01111163437272 40.70102458543801...  \n",
       "\n",
       "[7 rows x 90 columns]"
      ]
     },
     "execution_count": 25,
     "metadata": {},
     "output_type": "execute_result"
    }
   ],
   "source": [
    "nyc_map_pluto_sample = nyc_map_pluto_sample.to_crs(epsg=4326)\n",
    "nyc_map_pluto_sample"
   ]
  },
  {
   "cell_type": "markdown",
   "metadata": {},
   "source": [
    "## Coordinate order\n",
    "\n",
    "`shapely`, the library `geopandas` uses to store its geometries, uses \"modern\" longitude-latitude `(x, y)` coordinate order. This differs from the \"historical\" latitude-longitude `(y, x)` coordinate order. Datasets \"in the wild\" may be in either format.\n",
    "\n",
    "There is no way for `geopandas` to know whether a dataset is in one format or the other at load time. Once you have converted your dataset to the right coordinate system, always always always make sure to next check that the geometries are also in the right coordinate order.\n",
    "\n",
    "This is such a common gotcha that it's made it into the `geoplot` `Quickstart`. It's an easy mistake to make and people are making it constantly!\n",
    "\n",
    "The fastest way to ensure that coordinates are in the right order is to know what the right x coordinates and y coordinates for your data should be and eyeball it. Alternatively, a foolproof way is to use `mplleaflet` and plot a random landmark from the dataset on a webmap. If the point is where you expect it to be, the coordinate order is correct.\n",
    "\n",
    "**Note**: you must be running interactively to see the result of the following code cell."
   ]
  },
  {
   "cell_type": "code",
   "execution_count": 30,
   "metadata": {},
   "outputs": [],
   "source": [
    "import mplleaflet\n",
    "gplt.polyplot(nyc_map_pluto_sample.head(1))\n",
    "mplleaflet.display()"
   ]
  },
  {
   "cell_type": "markdown",
   "metadata": {},
   "source": [
    "**Note**: this will get easier in forthcoming versions of `geoplot`, which will include webmap tile support."
   ]
  },
  {
   "cell_type": "code",
   "execution_count": 31,
   "metadata": {},
   "outputs": [],
   "source": [
    "import shapely"
   ]
  },
  {
   "cell_type": "code",
   "execution_count": 32,
   "metadata": {},
   "outputs": [
    {
     "data": {
      "text/plain": [
       "shapely.geometry.polygon.LinearRing"
      ]
     },
     "execution_count": 32,
     "metadata": {},
     "output_type": "execute_result"
    }
   ],
   "source": [
    "shapely.geometry.LinearRing"
   ]
  },
  {
   "cell_type": "markdown",
   "metadata": {},
   "source": [
    "## Types of geometries\n",
    "\n",
    "Every element of the `geometry` column in a `GeoDataFrame` is a `shapely` object. [Shapely](https://github.com/Toblerity/Shapely) is a geometric operations library which is used for manipulating geometries in space, and it's the Python API of choice for working with shape data (under the hood, it uses [GEOS](http://trac.osgeo.org/geos/), which is C++ and ancient).\n",
    "\n",
    "`shapely` defines just a handful of types of geometries:\n",
    "\n",
    "* `Point`&mdash;a point.\n",
    "* `MultiPoint`&mdash;a set of points.\n",
    "* `LineString`&mdash;a line segment.\n",
    "* `MultiLineString`&mdash;a collection of lines (e.g. a sequence of connected line segments).\n",
    "* `LinearRing`&mdash;a closed collection of lines. Basically a polygon with zero-area.\n",
    "* `Polygon`&mdash;an closed shape along a sequence of points.\n",
    "* `MultiPolygon`&mdash;a collection of polygons.\n",
    "\n",
    "You can check the `type` of a geometry using the `type` operator:"
   ]
  },
  {
   "cell_type": "code",
   "execution_count": 37,
   "metadata": {},
   "outputs": [
    {
     "data": {
      "text/plain": [
       "shapely.geometry.multipolygon.MultiPolygon"
      ]
     },
     "execution_count": 37,
     "metadata": {},
     "output_type": "execute_result"
    }
   ],
   "source": [
    "type(nyc_boroughs.geometry.iloc[0])"
   ]
  },
  {
   "cell_type": "code",
   "execution_count": 39,
   "metadata": {},
   "outputs": [
    {
     "data": {
      "text/plain": [
       "shapely.geometry.polygon.Polygon"
      ]
     },
     "execution_count": 39,
     "metadata": {},
     "output_type": "execute_result"
    }
   ],
   "source": [
    "type(nyc_map_pluto_sample.geometry.iloc[0])"
   ]
  },
  {
   "cell_type": "markdown",
   "metadata": {},
   "source": [
    "## Performing geometric operations\n",
    "\n",
    "The [`shapely` user manual](https://shapely.readthedocs.io/en/latest/manual.html) provides an extensive list of geometric operations that you can perform using the library: from simple things like translations and transformations to more complex operations like polygon buffering.\n",
    "\n",
    "You can apply transformations to your geometries in an object-by-object way by using the native `pandas` `map` function on the `geometry` column. For example, here is one way of deconstructing a set of `Polygon` or `MultiPolygon` objects into simplified [convex hulls](https://en.wikipedia.org/wiki/Convex_hull):"
   ]
  },
  {
   "cell_type": "code",
   "execution_count": 45,
   "metadata": {},
   "outputs": [
    {
     "name": "stdout",
     "output_type": "stream",
     "text": [
      "CPU times: user 69.2 ms, sys: 2.76 ms, total: 72 ms\n",
      "Wall time: 71.3 ms\n"
     ]
    },
    {
     "data": {
      "text/plain": [
       "<matplotlib.axes._subplots.AxesSubplot at 0x11b3d0e80>"
      ]
     },
     "execution_count": 45,
     "metadata": {},
     "output_type": "execute_result"
    },
    {
     "data": {
      "image/png": "[encoded data removed]",
      "text/plain": [
       "<Figure size 576x432 with 1 Axes>"
      ]
     },
     "metadata": {},
     "output_type": "display_data"
    }
   ],
   "source": [
    "%time gplt.polyplot(nyc_boroughs.geometry.map(lambda shp: shp.convex_hull))"
   ]
  },
  {
   "cell_type": "markdown",
   "metadata": {},
   "source": [
    "You can perform arbitrarily complex geometric transformations on your shapes this way. However, [most common operations](http://geopandas.org/geometric_manipulations.html) are provided in optimized form as part of the `geopandas` API. Here's a faster way to create convex hulls, for example:"
   ]
  },
  {
   "cell_type": "code",
   "execution_count": 46,
   "metadata": {
    "scrolled": true
   },
   "outputs": [
    {
     "name": "stdout",
     "output_type": "stream",
     "text": [
      "CPU times: user 41.4 ms, sys: 1.99 ms, total: 43.4 ms\n",
      "Wall time: 41.9 ms\n"
     ]
    },
    {
     "data": {
      "text/plain": [
       "0    POLYGON ((-74.24712436215984 40.49611539517034...\n",
       "1    POLYGON ((-73.94073681665428 40.54182008715522...\n",
       "2    POLYGON ((-73.98336058039274 40.56952999448672...\n",
       "3    POLYGON ((-74.02305574749596 40.68291694544512...\n",
       "4    POLYGON ((-73.87830680057651 40.78535662050845...\n",
       "dtype: object"
      ]
     },
     "execution_count": 46,
     "metadata": {},
     "output_type": "execute_result"
    }
   ],
   "source": [
    "%time nyc_boroughs.convex_hull"
   ]
  },
  {
   "cell_type": "markdown",
   "metadata": {},
   "source": [
    "It is beyond the scope of this short guide to dive too deeply into geospatial data transformations. Suffice to say that there are many of them, and that you can learn some more about them by consulting the [`geopandas`](http://geopandas.org/) and [`shapely`](https://toblerity.org/shapely/manual.html) documentation."
   ]
  },
  {
   "cell_type": "markdown",
   "metadata": {},
   "source": [
    "## Defining your own geometries\n",
    "\n",
    "In this section of the tutorial, we will focus on one particular aspect of `shapely` which is likely to come up: defining your own geometries.\n",
    "\n",
    "In the cases above we read a GeoDataFrame straight out of geospatial files: our borough information was stored in the [GeoJSON](http://geojson.org/) format, while our building footprints were a [Shapefile](https://en.wikipedia.org/wiki/Shapefile). What if we have geospatial data embedded in an ordinary `CSV` or `JSON` file, which read into an ordinary `pandas` `DataFrame`?"
   ]
  },
  {
   "cell_type": "code",
   "execution_count": 2,
   "metadata": {},
   "outputs": [
    {
     "data": {
      "text/html": [
       "<div>\n",
       "<style scoped>\n",
       "    .dataframe tbody tr th:only-of-type {\n",
       "        vertical-align: middle;\n",
       "    }\n",
       "\n",
       "    .dataframe tbody tr th {\n",
       "        vertical-align: top;\n",
       "    }\n",
       "\n",
       "    .dataframe thead th {\n",
       "        text-align: right;\n",
       "    }\n",
       "</style>\n",
       "<table border=\"1\" class=\"dataframe\">\n",
       "  <thead>\n",
       "    <tr style=\"text-align: right;\">\n",
       "      <th></th>\n",
       "      <th>LATITUDE</th>\n",
       "      <th>LONGITUDE</th>\n",
       "      <th>DATE</th>\n",
       "      <th>TIME</th>\n",
       "    </tr>\n",
       "  </thead>\n",
       "  <tbody>\n",
       "    <tr>\n",
       "      <th>0</th>\n",
       "      <td>40.767373</td>\n",
       "      <td>-73.950057</td>\n",
       "      <td>04/16/2016</td>\n",
       "      <td>4:13</td>\n",
       "    </tr>\n",
       "    <tr>\n",
       "      <th>1</th>\n",
       "      <td>40.862670</td>\n",
       "      <td>-73.909039</td>\n",
       "      <td>04/16/2016</td>\n",
       "      <td>4:30</td>\n",
       "    </tr>\n",
       "    <tr>\n",
       "      <th>2</th>\n",
       "      <td>40.716507</td>\n",
       "      <td>-73.961275</td>\n",
       "      <td>04/16/2016</td>\n",
       "      <td>4:30</td>\n",
       "    </tr>\n",
       "    <tr>\n",
       "      <th>3</th>\n",
       "      <td>40.749788</td>\n",
       "      <td>-73.987768</td>\n",
       "      <td>04/16/2016</td>\n",
       "      <td>4:30</td>\n",
       "    </tr>\n",
       "    <tr>\n",
       "      <th>4</th>\n",
       "      <td>40.702401</td>\n",
       "      <td>73.960496</td>\n",
       "      <td>04/16/2016</td>\n",
       "      <td>4:50</td>\n",
       "    </tr>\n",
       "  </tbody>\n",
       "</table>\n",
       "</div>"
      ],
      "text/plain": [
       "    LATITUDE  LONGITUDE        DATE  TIME\n",
       "0  40.767373 -73.950057  04/16/2016  4:13\n",
       "1  40.862670 -73.909039  04/16/2016  4:30\n",
       "2  40.716507 -73.961275  04/16/2016  4:30\n",
       "3  40.749788 -73.987768  04/16/2016  4:30\n",
       "4  40.702401  73.960496  04/16/2016  4:50"
      ]
     },
     "execution_count": 2,
     "metadata": {},
     "output_type": "execute_result"
    }
   ],
   "source": [
    "nyc_collisions_sample = pd.read_csv(gplt.datasets.get_path('nyc_collisions_sample'))\n",
    "nyc_collisions_sample"
   ]
  },
  {
   "cell_type": "markdown",
   "metadata": {},
   "source": [
    "It is extremely common for datasets containing light geospatial data (e.g. points, maybe line segments, but usually not whole polygons) to be saved in a non-geospatial formats.\n",
    "\n",
    "In this case can import `shapely` directly, use it to define our own geometries, then initialize a `GeoDataFrame`. The `pandas` `apply` function is the best to do this:"
   ]
  },
  {
   "cell_type": "code",
   "execution_count": 3,
   "metadata": {},
   "outputs": [
    {
     "data": {
      "text/plain": [
       "0           POINT (-73.950057 40.767373)\n",
       "1    POINT (-73.90903900000001 40.86267)\n",
       "2           POINT (-73.961275 40.716507)\n",
       "3           POINT (-73.987768 40.749788)\n",
       "4    POINT (73.96049599999999 40.702401)\n",
       "dtype: object"
      ]
     },
     "execution_count": 3,
     "metadata": {},
     "output_type": "execute_result"
    }
   ],
   "source": [
    "from shapely.geometry import Point\n",
    "\n",
    "collision_points = nyc_collisions_sample.apply(\n",
    "    lambda srs: Point(float(srs['LONGITUDE']), float(srs['LATITUDE'])),\n",
    "    axis='columns'\n",
    ")\n",
    "collision_points"
   ]
  },
  {
   "cell_type": "markdown",
   "metadata": {},
   "source": [
    "From there we pass this iterable of geometries to the `geometry` property of the `GeoDataFrame` initializer:"
   ]
  },
  {
   "cell_type": "code",
   "execution_count": 6,
   "metadata": {},
   "outputs": [
    {
     "data": {
      "text/html": [
       "<div>\n",
       "<style scoped>\n",
       "    .dataframe tbody tr th:only-of-type {\n",
       "        vertical-align: middle;\n",
       "    }\n",
       "\n",
       "    .dataframe tbody tr th {\n",
       "        vertical-align: top;\n",
       "    }\n",
       "\n",
       "    .dataframe thead th {\n",
       "        text-align: right;\n",
       "    }\n",
       "</style>\n",
       "<table border=\"1\" class=\"dataframe\">\n",
       "  <thead>\n",
       "    <tr style=\"text-align: right;\">\n",
       "      <th></th>\n",
       "      <th>LATITUDE</th>\n",
       "      <th>LONGITUDE</th>\n",
       "      <th>DATE</th>\n",
       "      <th>TIME</th>\n",
       "      <th>geometry</th>\n",
       "    </tr>\n",
       "  </thead>\n",
       "  <tbody>\n",
       "    <tr>\n",
       "      <th>0</th>\n",
       "      <td>40.767373</td>\n",
       "      <td>-73.950057</td>\n",
       "      <td>04/16/2016</td>\n",
       "      <td>4:13</td>\n",
       "      <td>POINT (-73.950057 40.767373)</td>\n",
       "    </tr>\n",
       "    <tr>\n",
       "      <th>1</th>\n",
       "      <td>40.862670</td>\n",
       "      <td>-73.909039</td>\n",
       "      <td>04/16/2016</td>\n",
       "      <td>4:30</td>\n",
       "      <td>POINT (-73.90903900000001 40.86267)</td>\n",
       "    </tr>\n",
       "    <tr>\n",
       "      <th>2</th>\n",
       "      <td>40.716507</td>\n",
       "      <td>-73.961275</td>\n",
       "      <td>04/16/2016</td>\n",
       "      <td>4:30</td>\n",
       "      <td>POINT (-73.961275 40.716507)</td>\n",
       "    </tr>\n",
       "    <tr>\n",
       "      <th>3</th>\n",
       "      <td>40.749788</td>\n",
       "      <td>-73.987768</td>\n",
       "      <td>04/16/2016</td>\n",
       "      <td>4:30</td>\n",
       "      <td>POINT (-73.987768 40.749788)</td>\n",
       "    </tr>\n",
       "    <tr>\n",
       "      <th>4</th>\n",
       "      <td>40.702401</td>\n",
       "      <td>73.960496</td>\n",
       "      <td>04/16/2016</td>\n",
       "      <td>4:50</td>\n",
       "      <td>POINT (73.96049599999999 40.702401)</td>\n",
       "    </tr>\n",
       "  </tbody>\n",
       "</table>\n",
       "</div>"
      ],
      "text/plain": [
       "    LATITUDE  LONGITUDE        DATE  TIME                             geometry\n",
       "0  40.767373 -73.950057  04/16/2016  4:13         POINT (-73.950057 40.767373)\n",
       "1  40.862670 -73.909039  04/16/2016  4:30  POINT (-73.90903900000001 40.86267)\n",
       "2  40.716507 -73.961275  04/16/2016  4:30         POINT (-73.961275 40.716507)\n",
       "3  40.749788 -73.987768  04/16/2016  4:30         POINT (-73.987768 40.749788)\n",
       "4  40.702401  73.960496  04/16/2016  4:50  POINT (73.96049599999999 40.702401)"
      ]
     },
     "execution_count": 6,
     "metadata": {},
     "output_type": "execute_result"
    }
   ],
   "source": [
    "import geopandas as gpd\n",
    "nyc_collisions_sample_geocoded = gpd.GeoDataFrame(nyc_collisions_sample, geometry=collision_points)\n",
    "nyc_collisions_sample_geocoded"
   ]
  },
  {
   "cell_type": "markdown",
   "metadata": {},
   "source": [
    "In most cases, data with geospatial information provided in a CSV will be point data corresponding with individual coordinates. Sometimes, however, one may wish to define more complex geometry: square areas, for example, and *maybe* even complex polygons. While we won't cover these cases, they're quite similar to the extremely simple point case we've shown here. For further reference on such a task, refer to the `shapely` documentation."
   ]
  },
  {
   "cell_type": "markdown",
   "metadata": {},
   "source": [
    "## Joining on existing geometries\n",
    "\n",
    "Sometimes the necessary geospatial data is elsewhere entirely.\n",
    "\n",
    "Suppose now that we have information on obesity by state."
   ]
  },
  {
   "cell_type": "code",
   "execution_count": 13,
   "metadata": {},
   "outputs": [
    {
     "data": {
      "text/html": [
       "<div>\n",
       "<style scoped>\n",
       "    .dataframe tbody tr th:only-of-type {\n",
       "        vertical-align: middle;\n",
       "    }\n",
       "\n",
       "    .dataframe tbody tr th {\n",
       "        vertical-align: top;\n",
       "    }\n",
       "\n",
       "    .dataframe thead th {\n",
       "        text-align: right;\n",
       "    }\n",
       "</style>\n",
       "<table border=\"1\" class=\"dataframe\">\n",
       "  <thead>\n",
       "    <tr style=\"text-align: right;\">\n",
       "      <th></th>\n",
       "      <th>State</th>\n",
       "      <th>Percent</th>\n",
       "    </tr>\n",
       "  </thead>\n",
       "  <tbody>\n",
       "    <tr>\n",
       "      <th>0</th>\n",
       "      <td>Alabama</td>\n",
       "      <td>32.4</td>\n",
       "    </tr>\n",
       "    <tr>\n",
       "      <th>1</th>\n",
       "      <td>Missouri</td>\n",
       "      <td>30.4</td>\n",
       "    </tr>\n",
       "    <tr>\n",
       "      <th>2</th>\n",
       "      <td>Alaska</td>\n",
       "      <td>28.4</td>\n",
       "    </tr>\n",
       "    <tr>\n",
       "      <th>3</th>\n",
       "      <td>Montana</td>\n",
       "      <td>24.6</td>\n",
       "    </tr>\n",
       "    <tr>\n",
       "      <th>4</th>\n",
       "      <td>Arizona</td>\n",
       "      <td>26.8</td>\n",
       "    </tr>\n",
       "  </tbody>\n",
       "</table>\n",
       "</div>"
      ],
      "text/plain": [
       "      State  Percent\n",
       "0   Alabama     32.4\n",
       "1  Missouri     30.4\n",
       "2    Alaska     28.4\n",
       "3   Montana     24.6\n",
       "4   Arizona     26.8"
      ]
     },
     "execution_count": 13,
     "metadata": {},
     "output_type": "execute_result"
    }
   ],
   "source": [
    "obesity = pd.read_csv(gplt.datasets.get_path('obesity_by_state'), sep='\\t')\n",
    "obesity.head()"
   ]
  },
  {
   "cell_type": "markdown",
   "metadata": {},
   "source": [
    "We'd like to put this information on a map. But we don't have any geometry!\n",
    "\n",
    "We will once again have to define a geometry. Except that this time, instead of writing our own, we will need to find data with state shapes, and join that data against this data. In other cases there may be other shapes: police precincts, survey zones, and so on. Here is just such a dataset:"
   ]
  },
  {
   "cell_type": "code",
   "execution_count": 17,
   "metadata": {},
   "outputs": [
    {
     "data": {
      "text/html": [
       "<div>\n",
       "<style scoped>\n",
       "    .dataframe tbody tr th:only-of-type {\n",
       "        vertical-align: middle;\n",
       "    }\n",
       "\n",
       "    .dataframe tbody tr th {\n",
       "        vertical-align: top;\n",
       "    }\n",
       "\n",
       "    .dataframe thead th {\n",
       "        text-align: right;\n",
       "    }\n",
       "</style>\n",
       "<table border=\"1\" class=\"dataframe\">\n",
       "  <thead>\n",
       "    <tr style=\"text-align: right;\">\n",
       "      <th></th>\n",
       "      <th>id</th>\n",
       "      <th>adm1_code</th>\n",
       "      <th>State</th>\n",
       "      <th>geometry</th>\n",
       "    </tr>\n",
       "  </thead>\n",
       "  <tbody>\n",
       "    <tr>\n",
       "      <th>0</th>\n",
       "      <td>0</td>\n",
       "      <td>USA-3514</td>\n",
       "      <td>Minnesota</td>\n",
       "      <td>POLYGON ((-89.59940899999999 48.010274, -89.48...</td>\n",
       "    </tr>\n",
       "    <tr>\n",
       "      <th>1</th>\n",
       "      <td>1</td>\n",
       "      <td>USA-3515</td>\n",
       "      <td>Montana</td>\n",
       "      <td>POLYGON ((-111.194189 44.561156, -111.291548 4...</td>\n",
       "    </tr>\n",
       "    <tr>\n",
       "      <th>2</th>\n",
       "      <td>2</td>\n",
       "      <td>USA-3516</td>\n",
       "      <td>North Dakota</td>\n",
       "      <td>POLYGON ((-96.601359 46.351357, -96.5389080000...</td>\n",
       "    </tr>\n",
       "    <tr>\n",
       "      <th>3</th>\n",
       "      <td>4</td>\n",
       "      <td>USA-3518</td>\n",
       "      <td>Idaho</td>\n",
       "      <td>POLYGON ((-111.049728 44.488163, -111.050245 4...</td>\n",
       "    </tr>\n",
       "    <tr>\n",
       "      <th>4</th>\n",
       "      <td>5</td>\n",
       "      <td>USA-3519</td>\n",
       "      <td>Washington</td>\n",
       "      <td>POLYGON ((-116.998073 46.33017, -116.906528 46...</td>\n",
       "    </tr>\n",
       "  </tbody>\n",
       "</table>\n",
       "</div>"
      ],
      "text/plain": [
       "  id adm1_code         State  \\\n",
       "0  0  USA-3514     Minnesota   \n",
       "1  1  USA-3515       Montana   \n",
       "2  2  USA-3516  North Dakota   \n",
       "3  4  USA-3518         Idaho   \n",
       "4  5  USA-3519    Washington   \n",
       "\n",
       "                                            geometry  \n",
       "0  POLYGON ((-89.59940899999999 48.010274, -89.48...  \n",
       "1  POLYGON ((-111.194189 44.561156, -111.291548 4...  \n",
       "2  POLYGON ((-96.601359 46.351357, -96.5389080000...  \n",
       "3  POLYGON ((-111.049728 44.488163, -111.050245 4...  \n",
       "4  POLYGON ((-116.998073 46.33017, -116.906528 46...  "
      ]
     },
     "execution_count": 17,
     "metadata": {},
     "output_type": "execute_result"
    }
   ],
   "source": [
    "contiguous_usa = gpd.read_file(gplt.datasets.get_path('contiguous_usa'))\n",
    "contiguous_usa.head()"
   ]
  },
  {
   "cell_type": "markdown",
   "metadata": {},
   "source": [
    "A simple `join` solves the problem:"
   ]
  },
  {
   "cell_type": "code",
   "execution_count": 21,
   "metadata": {},
   "outputs": [
    {
     "data": {
      "text/html": [
       "<div>\n",
       "<style scoped>\n",
       "    .dataframe tbody tr th:only-of-type {\n",
       "        vertical-align: middle;\n",
       "    }\n",
       "\n",
       "    .dataframe tbody tr th {\n",
       "        vertical-align: top;\n",
       "    }\n",
       "\n",
       "    .dataframe thead th {\n",
       "        text-align: right;\n",
       "    }\n",
       "</style>\n",
       "<table border=\"1\" class=\"dataframe\">\n",
       "  <thead>\n",
       "    <tr style=\"text-align: right;\">\n",
       "      <th></th>\n",
       "      <th>id</th>\n",
       "      <th>adm1_code</th>\n",
       "      <th>geometry</th>\n",
       "      <th>Percent</th>\n",
       "    </tr>\n",
       "    <tr>\n",
       "      <th>State</th>\n",
       "      <th></th>\n",
       "      <th></th>\n",
       "      <th></th>\n",
       "      <th></th>\n",
       "    </tr>\n",
       "  </thead>\n",
       "  <tbody>\n",
       "    <tr>\n",
       "      <th>Minnesota</th>\n",
       "      <td>0</td>\n",
       "      <td>USA-3514</td>\n",
       "      <td>POLYGON ((-89.59940899999999 48.010274, -89.48...</td>\n",
       "      <td>25.5</td>\n",
       "    </tr>\n",
       "    <tr>\n",
       "      <th>Montana</th>\n",
       "      <td>1</td>\n",
       "      <td>USA-3515</td>\n",
       "      <td>POLYGON ((-111.194189 44.561156, -111.291548 4...</td>\n",
       "      <td>24.6</td>\n",
       "    </tr>\n",
       "    <tr>\n",
       "      <th>North Dakota</th>\n",
       "      <td>2</td>\n",
       "      <td>USA-3516</td>\n",
       "      <td>POLYGON ((-96.601359 46.351357, -96.5389080000...</td>\n",
       "      <td>31.0</td>\n",
       "    </tr>\n",
       "    <tr>\n",
       "      <th>Idaho</th>\n",
       "      <td>4</td>\n",
       "      <td>USA-3518</td>\n",
       "      <td>POLYGON ((-111.049728 44.488163, -111.050245 4...</td>\n",
       "      <td>29.6</td>\n",
       "    </tr>\n",
       "    <tr>\n",
       "      <th>Washington</th>\n",
       "      <td>5</td>\n",
       "      <td>USA-3519</td>\n",
       "      <td>POLYGON ((-116.998073 46.33017, -116.906528 46...</td>\n",
       "      <td>27.2</td>\n",
       "    </tr>\n",
       "  </tbody>\n",
       "</table>\n",
       "</div>"
      ],
      "text/plain": [
       "             id adm1_code                                           geometry  \\\n",
       "State                                                                          \n",
       "Minnesota     0  USA-3514  POLYGON ((-89.59940899999999 48.010274, -89.48...   \n",
       "Montana       1  USA-3515  POLYGON ((-111.194189 44.561156, -111.291548 4...   \n",
       "North Dakota  2  USA-3516  POLYGON ((-96.601359 46.351357, -96.5389080000...   \n",
       "Idaho         4  USA-3518  POLYGON ((-111.049728 44.488163, -111.050245 4...   \n",
       "Washington    5  USA-3519  POLYGON ((-116.998073 46.33017, -116.906528 46...   \n",
       "\n",
       "              Percent  \n",
       "State                  \n",
       "Minnesota        25.5  \n",
       "Montana          24.6  \n",
       "North Dakota     31.0  \n",
       "Idaho            29.6  \n",
       "Washington       27.2  "
      ]
     },
     "execution_count": 21,
     "metadata": {},
     "output_type": "execute_result"
    }
   ],
   "source": [
    "contiguous_usa.set_index('State').join(obesity.set_index('State')).head()"
   ]
  },
  {
   "cell_type": "markdown",
   "metadata": {},
   "source": [
    "## What to do next\n",
    "\n",
    "The next section of the tutorial, [Working with Projections](https://nbviewer.jupyter.org/github/ResidentMario/geoplot/blob/master/notebooks/tutorials/Working%20with%20Projections.ipynb), covers another important topic in geospatial visualization."
   ]
  }
 ],
 "metadata": {
  "anaconda-cloud": {},
  "kernelspec": {
   "display_name": "Python 3",
   "language": "python",
   "name": "python3"
  },
  "language_info": {
   "codemirror_mode": {
    "name": "ipython",
    "version": 3
   },
   "file_extension": ".py",
   "mimetype": "text/x-python",
   "name": "python",
   "nbconvert_exporter": "python",
   "pygments_lexer": "ipython3",
   "version": "3.6.7"
  }
 },
 "nbformat": 4,
 "nbformat_minor": 1
}
