{
 "cells": [
  {
   "cell_type": "markdown",
   "metadata": {},
   "source": [
    "# Geoplot tutorial\n",
    "\n",
    "## Introduction\n",
    "\n",
    "``geoplot`` is a tool which fills a gap which I have perceived, in my own work, as a serious shortcoming in the\n",
    "geospatial Python ecosystem: the need for a high-level geospatial plotting library.\n",
    "\n",
    "Geospatial data is any form of data which has a location to it. Most of the data generated today has such a\n",
    "geospatial context, context which is, in turn, oftentimes important to understanding the data itself. Thanks to its\n",
    "ease-of-use and deep ecosystem, the Python programming language has emerged as a leading choice in the performance of\n",
    "data analytics, geospatial data analytics included.\n",
    "\n",
    "Though there are increasingly many options, the venerable ``matplotlib`` remains the core Python plotting tool.\n",
    "Nevertheless, we oftentimes don't interact with ``matplotlib`` directly; we instead use extensions built over it,\n",
    "like the ``pandas`` plotting facilities or ``seaborn``, to get our work done. Knowing how ``matplotlib`` operates is\n",
    "certainly helpful, but it's neither necessary to get started nor, usually, the fastest way to get something done.\n",
    "\n",
    "``geoplot`` aims to be ``seaborn`` for geospatial data. Hence it comes with the following built-in features:\n",
    "\n",
    "* **High-level plotting API**: ``geoplot`` is cartographic plotting for the 90% of use cases. All of the\n",
    "  standard-bearer maps that you've probably seen in your geography textbook are easily accessible, as are many more\n",
    "  novel options.\n",
    "* **Native projection support**: The most fundamental peculiarity of geospatial plotting is projection: how do you\n",
    "  unroll a sphere onto a flat surface (a map) in an accurate way? The answer depends on what you're trying to depict.\n",
    "  ``geoplot`` provides these options.\n",
    "* **Compatibility with matplotlib**: While ``matplotlib`` is not a good fit for working with geospatial data\n",
    "  directly, it's a format that's well-incorporated by other geospatial tools (``mplleaflet`` in particular). For\n",
    "  compatibility, ``geoplot`` provides an option for emiting pure ``matplotlib`` plots.\n",
    "* **Built with modern geospatial Python in mind**: Geospatial data is a fast-moving target in the Python ecosystem.\n",
    "  Innovations in recent years have made working with such data much easier than it was when e.g. matplotlib's\n",
    "  lower-level ``basemap`` tool was being developed, which ``geoplot`` leverages with an easy-to-use and widely\n",
    "  compatible API.\n",
    "\n",
    "``geoplot`` does this by leveraging two pre-existing libraries in particular: ``geopandas``, an extension to\n",
    "the mainstay ``pandas`` library with embedded geospatial data support, used for input; and ``cartopy``, a\n",
    "(``matplotlib``-based) low-level plotting library, used for output.\n",
    "\n",
    "The rest of this text is a tutorial on ``geoplot`` usage. It is written for the perspective of someone who has some\n",
    "existing familiarity with the existing data science ecosystem, but hasn't used the geospatial tools just yet. If you\n",
    "haven't worked with data before in Python and are thus unfamiliar with ``pandas``, you should refer to its\n",
    "documentation first - [10 Minutes to Pandas](http://pandas.pydata.org/pandas-docs/stable/10min.html) is one place\n",
    "where you can get started."
   ]
  },
  {
   "cell_type": "markdown",
   "metadata": {},
   "source": [
    "## Working with geospatial data\n",
    "\n",
    "In order to understand how to use ``geoplot``, we need to understand a bit about the format it expects to recieves its data in: a ``geopandas`` ``GeoDataFrame``.\n",
    "\n",
    "The ``GeoDataFrame`` is an augmented version of a ``pandas`` ``DataFrame`` with an attached geometry:"
   ]
  },
  {
   "cell_type": "code",
   "execution_count": 1,
   "metadata": {
    "collapsed": false,
    "scrolled": true
   },
   "outputs": [
    {
     "data": {
      "text/html": [
       "<div>\n",
       "<table border=\"1\" class=\"dataframe\">\n",
       "  <thead>\n",
       "    <tr style=\"text-align: right;\">\n",
       "      <th></th>\n",
       "      <th>BoroCode</th>\n",
       "      <th>BoroName</th>\n",
       "      <th>Shape_Area</th>\n",
       "      <th>Shape_Leng</th>\n",
       "      <th>geometry</th>\n",
       "    </tr>\n",
       "  </thead>\n",
       "  <tbody>\n",
       "    <tr>\n",
       "      <th>0</th>\n",
       "      <td>5</td>\n",
       "      <td>Staten Island</td>\n",
       "      <td>1.623853e+09</td>\n",
       "      <td>330385.03697</td>\n",
       "      <td>(POLYGON ((-74.05050806403247 40.5664220341608...</td>\n",
       "    </tr>\n",
       "    <tr>\n",
       "      <th>1</th>\n",
       "      <td>4</td>\n",
       "      <td>Queens</td>\n",
       "      <td>3.049947e+09</td>\n",
       "      <td>861038.47930</td>\n",
       "      <td>(POLYGON ((-73.83668274106708 40.5949466970158...</td>\n",
       "    </tr>\n",
       "    <tr>\n",
       "      <th>2</th>\n",
       "      <td>3</td>\n",
       "      <td>Brooklyn</td>\n",
       "      <td>1.959432e+09</td>\n",
       "      <td>726568.94634</td>\n",
       "      <td>(POLYGON ((-73.8670614947212 40.58208797679338...</td>\n",
       "    </tr>\n",
       "    <tr>\n",
       "      <th>3</th>\n",
       "      <td>1</td>\n",
       "      <td>Manhattan</td>\n",
       "      <td>6.364422e+08</td>\n",
       "      <td>358532.95642</td>\n",
       "      <td>(POLYGON ((-74.01092841268033 40.6844914725429...</td>\n",
       "    </tr>\n",
       "    <tr>\n",
       "      <th>4</th>\n",
       "      <td>2</td>\n",
       "      <td>Bronx</td>\n",
       "      <td>1.186804e+09</td>\n",
       "      <td>464517.89055</td>\n",
       "      <td>(POLYGON ((-73.89680883223775 40.7958084451597...</td>\n",
       "    </tr>\n",
       "  </tbody>\n",
       "</table>\n",
       "</div>"
      ],
      "text/plain": [
       "   BoroCode       BoroName    Shape_Area    Shape_Leng  \\\n",
       "0         5  Staten Island  1.623853e+09  330385.03697   \n",
       "1         4         Queens  3.049947e+09  861038.47930   \n",
       "2         3       Brooklyn  1.959432e+09  726568.94634   \n",
       "3         1      Manhattan  6.364422e+08  358532.95642   \n",
       "4         2          Bronx  1.186804e+09  464517.89055   \n",
       "\n",
       "                                            geometry  \n",
       "0  (POLYGON ((-74.05050806403247 40.5664220341608...  \n",
       "1  (POLYGON ((-73.83668274106708 40.5949466970158...  \n",
       "2  (POLYGON ((-73.8670614947212 40.58208797679338...  \n",
       "3  (POLYGON ((-74.01092841268033 40.6844914725429...  \n",
       "4  (POLYGON ((-73.89680883223775 40.7958084451597...  "
      ]
     },
     "execution_count": 1,
     "metadata": {},
     "output_type": "execute_result"
    }
   ],
   "source": [
    "import geopandas as gpd\n",
    "boroughs = gpd.read_file(\"../data/nyc_boroughs/boroughs.geojson\", driver='GeoJSON')\n",
    "boroughs"
   ]
  },
  {
   "cell_type": "markdown",
   "metadata": {},
   "source": [
    "Any operation that will work on a ``DataFrame`` will work on a ``GeoDataFrame``, but the latter adds a few additional\n",
    "methods and features for dealing with geometry not present in the former. The most obvious of these is the addition\n",
    "of a column for storing geometries, accessible using the ``geometry`` attribute:"
   ]
  },
  {
   "cell_type": "code",
   "execution_count": 2,
   "metadata": {
    "collapsed": false,
    "scrolled": true
   },
   "outputs": [
    {
     "data": {
      "text/plain": [
       "0    (POLYGON ((-74.05050806403247 40.5664220341608...\n",
       "1    (POLYGON ((-73.83668274106708 40.5949466970158...\n",
       "2    (POLYGON ((-73.8670614947212 40.58208797679338...\n",
       "3    (POLYGON ((-74.01092841268033 40.6844914725429...\n",
       "4    (POLYGON ((-73.89680883223775 40.7958084451597...\n",
       "Name: geometry, dtype: object"
      ]
     },
     "execution_count": 2,
     "metadata": {},
     "output_type": "execute_result"
    }
   ],
   "source": [
    "boroughs.geometry"
   ]
  },
  {
   "cell_type": "markdown",
   "metadata": {},
   "source": [
    "That geometry is stored with reference to some kind of [**coordinate reference system**](https://en.wikipedia.org/wiki/Spatial_reference_system), or CRS. You can extract what CRS your polygons are stored in using the `crs` attribute:"
   ]
  },
  {
   "cell_type": "code",
   "execution_count": 3,
   "metadata": {
    "collapsed": false
   },
   "outputs": [
    {
     "data": {
      "text/plain": [
       "{'init': 'epsg:4326'}"
      ]
     },
     "execution_count": 3,
     "metadata": {},
     "output_type": "execute_result"
    }
   ],
   "source": [
    "boroughs.crs"
   ]
  },
  {
   "cell_type": "markdown",
   "metadata": {},
   "source": [
    "In this case `epsg:4326` is an identifier for what the rest of us more commonly refer to as \"longitude and latitude\". EPSG itself is a standardized system for refering to coordinate reference systems; [spatialreference.org](http://spatialreference.org/ref/epsg/wgs-84/) is the best place to look these identifiers up.\n",
    "\n",
    "Coordinate reference systems are, basically, different ways of mathematically calculating locations. Due to the complexity of the surface of the earth, different geographically sensitive systems of measurement are more or less useful for different tasks. For example, the United States Geolocial Service, which provides extremely high-accuracy maps of United States localities, maintains individual coordinate reference systems, refered to as \"state plane systems\", for the various states of the union. These are used throughout government, and look nothing like the latitude and longitude coordinates that we are generally more used to.\n",
    "\n",
    "For example, New York City approximately twice per year releases an updated version of MapPLUTO, a geospatial dataset which provides building footprint polygons for all buildings in New York City. This is the dataset which powers some pretty amazing visualizations, like [Bklynr's Brooklyn building age map](http://bklynr.com/block-by-block-brooklyns-past-and-present/)."
   ]
  },
  {
   "cell_type": "code",
   "execution_count": 4,
   "metadata": {
    "collapsed": false
   },
   "outputs": [
    {
     "data": {
      "text/html": [
       "<div>\n",
       "<table border=\"1\" class=\"dataframe\">\n",
       "  <thead>\n",
       "    <tr style=\"text-align: right;\">\n",
       "      <th></th>\n",
       "      <th>BLOCK</th>\n",
       "      <th>BORO</th>\n",
       "      <th>CREATED_BY</th>\n",
       "      <th>CREATED_DA</th>\n",
       "      <th>LAST_MODIF</th>\n",
       "      <th>LAST_MOD_1</th>\n",
       "      <th>LOT</th>\n",
       "      <th>Shape_Area</th>\n",
       "      <th>Shape_Leng</th>\n",
       "      <th>geometry</th>\n",
       "    </tr>\n",
       "  </thead>\n",
       "  <tbody>\n",
       "    <tr>\n",
       "      <th>0</th>\n",
       "      <td>20009</td>\n",
       "      <td>1</td>\n",
       "      <td>None</td>\n",
       "      <td>1999-11-30</td>\n",
       "      <td>sj</td>\n",
       "      <td>2006-11-30</td>\n",
       "      <td>9999</td>\n",
       "      <td>10289.237892</td>\n",
       "      <td>836.495687</td>\n",
       "      <td>POLYGON ((986519.6798000038 200244.1201999933,...</td>\n",
       "    </tr>\n",
       "    <tr>\n",
       "      <th>1</th>\n",
       "      <td>20031</td>\n",
       "      <td>1</td>\n",
       "      <td>None</td>\n",
       "      <td>1999-11-30</td>\n",
       "      <td>sj</td>\n",
       "      <td>2006-11-30</td>\n",
       "      <td>9999</td>\n",
       "      <td>8943.539985</td>\n",
       "      <td>478.609196</td>\n",
       "      <td>POLYGON ((992017.6599999964 216103.8700000048,...</td>\n",
       "    </tr>\n",
       "    <tr>\n",
       "      <th>2</th>\n",
       "      <td>20027</td>\n",
       "      <td>1</td>\n",
       "      <td>None</td>\n",
       "      <td>1999-11-30</td>\n",
       "      <td>sj</td>\n",
       "      <td>2006-11-30</td>\n",
       "      <td>9999</td>\n",
       "      <td>10156.610383</td>\n",
       "      <td>486.181920</td>\n",
       "      <td>POLYGON ((991564.0900000036 215278.3798999935,...</td>\n",
       "    </tr>\n",
       "    <tr>\n",
       "      <th>3</th>\n",
       "      <td>20012</td>\n",
       "      <td>1</td>\n",
       "      <td>None</td>\n",
       "      <td>1999-11-30</td>\n",
       "      <td>sj</td>\n",
       "      <td>2006-11-30</td>\n",
       "      <td>9999</td>\n",
       "      <td>7657.969093</td>\n",
       "      <td>357.345276</td>\n",
       "      <td>POLYGON ((986364.6000999957 201496.4998999983,...</td>\n",
       "    </tr>\n",
       "    <tr>\n",
       "      <th>4</th>\n",
       "      <td>20067</td>\n",
       "      <td>1</td>\n",
       "      <td>None</td>\n",
       "      <td>1999-11-30</td>\n",
       "      <td>sj</td>\n",
       "      <td>2007-11-30</td>\n",
       "      <td>9999</td>\n",
       "      <td>9171.078777</td>\n",
       "      <td>479.281556</td>\n",
       "      <td>POLYGON ((995870.7099999934 223069.0699999928,...</td>\n",
       "    </tr>\n",
       "  </tbody>\n",
       "</table>\n",
       "</div>"
      ],
      "text/plain": [
       "   BLOCK BORO CREATED_BY  CREATED_DA LAST_MODIF  LAST_MOD_1   LOT  \\\n",
       "0  20009    1       None  1999-11-30         sj  2006-11-30  9999   \n",
       "1  20031    1       None  1999-11-30         sj  2006-11-30  9999   \n",
       "2  20027    1       None  1999-11-30         sj  2006-11-30  9999   \n",
       "3  20012    1       None  1999-11-30         sj  2006-11-30  9999   \n",
       "4  20067    1       None  1999-11-30         sj  2007-11-30  9999   \n",
       "\n",
       "     Shape_Area  Shape_Leng                                           geometry  \n",
       "0  10289.237892  836.495687  POLYGON ((986519.6798000038 200244.1201999933,...  \n",
       "1   8943.539985  478.609196  POLYGON ((992017.6599999964 216103.8700000048,...  \n",
       "2  10156.610383  486.181920  POLYGON ((991564.0900000036 215278.3798999935,...  \n",
       "3   7657.969093  357.345276  POLYGON ((986364.6000999957 201496.4998999983,...  \n",
       "4   9171.078777  479.281556  POLYGON ((995870.7099999934 223069.0699999928,...  "
      ]
     },
     "execution_count": 4,
     "metadata": {},
     "output_type": "execute_result"
    }
   ],
   "source": [
    "manhattan_buildings = gpd.read_file('../data/manhattan_mappluto/MN_Dcp_Mappinglot.shp')\n",
    "manhattan_buildings.head()"
   ]
  },
  {
   "cell_type": "markdown",
   "metadata": {},
   "source": [
    "But, unlike our easy coordinates above, this data is stored in the Long Island State Plane coordinate reference system:"
   ]
  },
  {
   "cell_type": "code",
   "execution_count": 5,
   "metadata": {
    "collapsed": false
   },
   "outputs": [
    {
     "data": {
      "text/plain": [
       "0    POLYGON ((986519.6798000038 200244.1201999933,...\n",
       "1    POLYGON ((992017.6599999964 216103.8700000048,...\n",
       "2    POLYGON ((991564.0900000036 215278.3798999935,...\n",
       "3    POLYGON ((986364.6000999957 201496.4998999983,...\n",
       "4    POLYGON ((995870.7099999934 223069.0699999928,...\n",
       "Name: geometry, dtype: object"
      ]
     },
     "execution_count": 5,
     "metadata": {},
     "output_type": "execute_result"
    }
   ],
   "source": [
    "manhattan_buildings.geometry.head()"
   ]
  },
  {
   "cell_type": "markdown",
   "metadata": {},
   "source": [
    "The file we just read in provided embedded information about its coordinate reference system, which `geopandas` stores as a [`proj4`](https://github.com/OSGeo/proj.4) string:"
   ]
  },
  {
   "cell_type": "code",
   "execution_count": 6,
   "metadata": {
    "collapsed": false
   },
   "outputs": [
    {
     "data": {
      "text/plain": [
       "{'datum': 'NAD83',\n",
       " 'lat_0': 40.16666666666666,\n",
       " 'lat_1': 40.66666666666666,\n",
       " 'lat_2': 41.03333333333333,\n",
       " 'lon_0': -74,\n",
       " 'no_defs': True,\n",
       " 'proj': 'lcc',\n",
       " 'units': 'us-ft',\n",
       " 'x_0': 300000,\n",
       " 'y_0': 0}"
      ]
     },
     "execution_count": 6,
     "metadata": {},
     "output_type": "execute_result"
    }
   ],
   "source": [
    "manhattan_buildings.crs"
   ]
  },
  {
   "cell_type": "markdown",
   "metadata": {},
   "source": [
    "``geoplot`` expects its input to be in terms of latitude and longitude. This is required because it's so easy to do: to convert your data from one CRS to another, you can just use the `geopandas` `to_crs` method:"
   ]
  },
  {
   "cell_type": "code",
   "execution_count": 7,
   "metadata": {
    "collapsed": false
   },
   "outputs": [],
   "source": [
    "manhattan_buildings = manhattan_buildings.to_crs(epsg=4326)"
   ]
  },
  {
   "cell_type": "markdown",
   "metadata": {},
   "source": [
    "Now all of our building footprints are in ordinary coordinates! "
   ]
  },
  {
   "cell_type": "code",
   "execution_count": 8,
   "metadata": {
    "collapsed": false
   },
   "outputs": [
    {
     "data": {
      "text/plain": [
       "0    POLYGON ((-73.99181250685882 40.71630025841903...\n",
       "1    POLYGON ((-73.97196114404649 40.75982822136702...\n",
       "2    POLYGON ((-73.97359928976277 40.75756284914222...\n",
       "3    POLYGON ((-73.99237153770106 40.71973777834428...\n",
       "4    POLYGON ((-73.95804078098135 40.77894165663843...\n",
       "Name: geometry, dtype: object"
      ]
     },
     "execution_count": 8,
     "metadata": {},
     "output_type": "execute_result"
    }
   ],
   "source": [
    "manhattan_buildings.geometry.head()"
   ]
  },
  {
   "cell_type": "markdown",
   "metadata": {},
   "source": [
    "You should also know, at a minimum, that all of these geometries are always  [`shapely`](http://toblerity.org/shapely/manual.html) objects:"
   ]
  },
  {
   "cell_type": "code",
   "execution_count": 9,
   "metadata": {
    "collapsed": false
   },
   "outputs": [
    {
     "data": {
      "text/plain": [
       "shapely.geometry.polygon.Polygon"
      ]
     },
     "execution_count": 9,
     "metadata": {},
     "output_type": "execute_result"
    }
   ],
   "source": [
    "type(manhattan_buildings.geometry.iloc[0])"
   ]
  },
  {
   "cell_type": "code",
   "execution_count": 10,
   "metadata": {
    "collapsed": false
   },
   "outputs": [
    {
     "data": {
      "text/plain": [
       "shapely.geometry.multipolygon.MultiPolygon"
      ]
     },
     "execution_count": 10,
     "metadata": {},
     "output_type": "execute_result"
    }
   ],
   "source": [
    "type(boroughs.geometry.iloc[0])"
   ]
  },
  {
   "cell_type": "markdown",
   "metadata": {},
   "source": [
    "`shapely` provides a large API surface for any geometric transformation or operations that you can think of, and `geopandas` wraps many of these even further, creating a convenient way of getting \"classical\" GIS operations done on your data. Like `geopandas`, `shapely` is very well-documented, so to dive into these further [read the documentation](http://toblerity.org/shapely/manual.html).\n",
    "\n",
    "In this tutorial, we'll focus on one particular aspect of `shapely` which is likely to come up: defining your own geometries. A decision I made early on in the design stages of `geoplot` was mandating input as a `GeoDataFrame`, as doing so (as opposed to, say, also supporting `DataFrame` input) greatly simplifies both internal and external library design.\n",
    "\n",
    "However, in the cases above we read a GeoDataFrame straight out of geospatial files: our borough information was stored in the [GeoJSON](http://geojson.org/) format, while our building footprints were a [Shapefile](https://en.wikipedia.org/wiki/Shapefile). What if we have geospatial data embedded in an ordinary `CSV` or `JSON` file, which read into an ordinary `pandas` `DataFrame`?"
   ]
  },
  {
   "cell_type": "code",
   "execution_count": 11,
   "metadata": {
    "collapsed": false
   },
   "outputs": [
    {
     "data": {
      "text/html": [
       "<div>\n",
       "<table border=\"1\" class=\"dataframe\">\n",
       "  <thead>\n",
       "    <tr style=\"text-align: right;\">\n",
       "      <th></th>\n",
       "      <th>TIME</th>\n",
       "      <th>BOROUGH</th>\n",
       "      <th>ZIP CODE</th>\n",
       "      <th>LATITUDE</th>\n",
       "      <th>LONGITUDE</th>\n",
       "      <th>LOCATION</th>\n",
       "      <th>ON STREET NAME</th>\n",
       "      <th>CROSS STREET NAME</th>\n",
       "      <th>OFF STREET NAME</th>\n",
       "      <th>NUMBER OF PERSONS INJURED</th>\n",
       "      <th>...</th>\n",
       "      <th>CONTRIBUTING FACTOR VEHICLE 2</th>\n",
       "      <th>CONTRIBUTING FACTOR VEHICLE 3</th>\n",
       "      <th>CONTRIBUTING FACTOR VEHICLE 4</th>\n",
       "      <th>CONTRIBUTING FACTOR VEHICLE 5</th>\n",
       "      <th>UNIQUE KEY</th>\n",
       "      <th>VEHICLE TYPE CODE 1</th>\n",
       "      <th>VEHICLE TYPE CODE 2</th>\n",
       "      <th>VEHICLE TYPE CODE 3</th>\n",
       "      <th>VEHICLE TYPE CODE 4</th>\n",
       "      <th>VEHICLE TYPE CODE 5</th>\n",
       "    </tr>\n",
       "    <tr>\n",
       "      <th>DATE</th>\n",
       "      <th></th>\n",
       "      <th></th>\n",
       "      <th></th>\n",
       "      <th></th>\n",
       "      <th></th>\n",
       "      <th></th>\n",
       "      <th></th>\n",
       "      <th></th>\n",
       "      <th></th>\n",
       "      <th></th>\n",
       "      <th></th>\n",
       "      <th></th>\n",
       "      <th></th>\n",
       "      <th></th>\n",
       "      <th></th>\n",
       "      <th></th>\n",
       "      <th></th>\n",
       "      <th></th>\n",
       "      <th></th>\n",
       "      <th></th>\n",
       "      <th></th>\n",
       "    </tr>\n",
       "  </thead>\n",
       "  <tbody>\n",
       "    <tr>\n",
       "      <th>09/07/2014</th>\n",
       "      <td>14:20</td>\n",
       "      <td>MANHATTAN</td>\n",
       "      <td>10016.0</td>\n",
       "      <td>40.746035</td>\n",
       "      <td>-73.976791</td>\n",
       "      <td>(40.7460346, -73.9767909)</td>\n",
       "      <td>EAST 35 STREET</td>\n",
       "      <td>TUNNEL EXIT STREET</td>\n",
       "      <td>NaN</td>\n",
       "      <td>0</td>\n",
       "      <td>...</td>\n",
       "      <td>Failure to Keep Right</td>\n",
       "      <td>NaN</td>\n",
       "      <td>NaN</td>\n",
       "      <td>NaN</td>\n",
       "      <td>1019969</td>\n",
       "      <td>PASSENGER VEHICLE</td>\n",
       "      <td>AMBULANCE</td>\n",
       "      <td>NaN</td>\n",
       "      <td>NaN</td>\n",
       "      <td>NaN</td>\n",
       "    </tr>\n",
       "    <tr>\n",
       "      <th>12/25/2012</th>\n",
       "      <td>14:56</td>\n",
       "      <td>NaN</td>\n",
       "      <td>NaN</td>\n",
       "      <td>40.846467</td>\n",
       "      <td>-73.945154</td>\n",
       "      <td>(40.8464674, -73.9451536)</td>\n",
       "      <td>NaN</td>\n",
       "      <td>NaN</td>\n",
       "      <td>NaN</td>\n",
       "      <td>0</td>\n",
       "      <td>...</td>\n",
       "      <td>Unspecified</td>\n",
       "      <td>NaN</td>\n",
       "      <td>NaN</td>\n",
       "      <td>NaN</td>\n",
       "      <td>2873041</td>\n",
       "      <td>PASSENGER VEHICLE</td>\n",
       "      <td>SPORT UTILITY / STATION WAGON</td>\n",
       "      <td>NaN</td>\n",
       "      <td>NaN</td>\n",
       "      <td>NaN</td>\n",
       "    </tr>\n",
       "    <tr>\n",
       "      <th>04/22/2013</th>\n",
       "      <td>18:45</td>\n",
       "      <td>STATEN ISLAND</td>\n",
       "      <td>10305.0</td>\n",
       "      <td>40.594152</td>\n",
       "      <td>-74.086580</td>\n",
       "      <td>(40.5941523, -74.0865797)</td>\n",
       "      <td>HYLAN BOULEVARD</td>\n",
       "      <td>REID AVENUE</td>\n",
       "      <td>NaN</td>\n",
       "      <td>0</td>\n",
       "      <td>...</td>\n",
       "      <td>Unspecified</td>\n",
       "      <td>NaN</td>\n",
       "      <td>NaN</td>\n",
       "      <td>NaN</td>\n",
       "      <td>297613</td>\n",
       "      <td>PASSENGER VEHICLE</td>\n",
       "      <td>PASSENGER VEHICLE</td>\n",
       "      <td>NaN</td>\n",
       "      <td>NaN</td>\n",
       "      <td>NaN</td>\n",
       "    </tr>\n",
       "    <tr>\n",
       "      <th>03/27/2015</th>\n",
       "      <td>9:30</td>\n",
       "      <td>QUEENS</td>\n",
       "      <td>11412.0</td>\n",
       "      <td>40.699169</td>\n",
       "      <td>-73.760797</td>\n",
       "      <td>(40.6991686, -73.7607975)</td>\n",
       "      <td>194 STREET</td>\n",
       "      <td>113 ROAD</td>\n",
       "      <td>NaN</td>\n",
       "      <td>1</td>\n",
       "      <td>...</td>\n",
       "      <td>Unspecified</td>\n",
       "      <td>NaN</td>\n",
       "      <td>NaN</td>\n",
       "      <td>NaN</td>\n",
       "      <td>3193324</td>\n",
       "      <td>SPORT UTILITY / STATION WAGON</td>\n",
       "      <td>SPORT UTILITY / STATION WAGON</td>\n",
       "      <td>NaN</td>\n",
       "      <td>NaN</td>\n",
       "      <td>NaN</td>\n",
       "    </tr>\n",
       "    <tr>\n",
       "      <th>02/02/2015</th>\n",
       "      <td>8:00</td>\n",
       "      <td>BRONX</td>\n",
       "      <td>10475.0</td>\n",
       "      <td>40.886130</td>\n",
       "      <td>-73.827585</td>\n",
       "      <td>(40.8861303, -73.8275845)</td>\n",
       "      <td>BOSTON ROAD</td>\n",
       "      <td>NOELL AVENUE</td>\n",
       "      <td>NaN</td>\n",
       "      <td>0</td>\n",
       "      <td>...</td>\n",
       "      <td>Unspecified</td>\n",
       "      <td>NaN</td>\n",
       "      <td>NaN</td>\n",
       "      <td>NaN</td>\n",
       "      <td>3162339</td>\n",
       "      <td>UNKNOWN</td>\n",
       "      <td>UNKNOWN</td>\n",
       "      <td>NaN</td>\n",
       "      <td>NaN</td>\n",
       "      <td>NaN</td>\n",
       "    </tr>\n",
       "  </tbody>\n",
       "</table>\n",
       "<p>5 rows × 28 columns</p>\n",
       "</div>"
      ],
      "text/plain": [
       "             TIME        BOROUGH  ZIP CODE   LATITUDE  LONGITUDE  \\\n",
       "DATE                                                               \n",
       "09/07/2014  14:20      MANHATTAN   10016.0  40.746035 -73.976791   \n",
       "12/25/2012  14:56            NaN       NaN  40.846467 -73.945154   \n",
       "04/22/2013  18:45  STATEN ISLAND   10305.0  40.594152 -74.086580   \n",
       "03/27/2015   9:30         QUEENS   11412.0  40.699169 -73.760797   \n",
       "02/02/2015   8:00          BRONX   10475.0  40.886130 -73.827585   \n",
       "\n",
       "                             LOCATION   ON STREET NAME   CROSS STREET NAME  \\\n",
       "DATE                                                                         \n",
       "09/07/2014  (40.7460346, -73.9767909)   EAST 35 STREET  TUNNEL EXIT STREET   \n",
       "12/25/2012  (40.8464674, -73.9451536)              NaN                 NaN   \n",
       "04/22/2013  (40.5941523, -74.0865797)  HYLAN BOULEVARD         REID AVENUE   \n",
       "03/27/2015  (40.6991686, -73.7607975)       194 STREET            113 ROAD   \n",
       "02/02/2015  (40.8861303, -73.8275845)      BOSTON ROAD        NOELL AVENUE   \n",
       "\n",
       "           OFF STREET NAME  NUMBER OF PERSONS INJURED         ...          \\\n",
       "DATE                                                          ...           \n",
       "09/07/2014             NaN                          0         ...           \n",
       "12/25/2012             NaN                          0         ...           \n",
       "04/22/2013             NaN                          0         ...           \n",
       "03/27/2015             NaN                          1         ...           \n",
       "02/02/2015             NaN                          0         ...           \n",
       "\n",
       "            CONTRIBUTING FACTOR VEHICLE 2  CONTRIBUTING FACTOR VEHICLE 3  \\\n",
       "DATE                                                                       \n",
       "09/07/2014          Failure to Keep Right                            NaN   \n",
       "12/25/2012                    Unspecified                            NaN   \n",
       "04/22/2013                    Unspecified                            NaN   \n",
       "03/27/2015                    Unspecified                            NaN   \n",
       "02/02/2015                    Unspecified                            NaN   \n",
       "\n",
       "            CONTRIBUTING FACTOR VEHICLE 4  CONTRIBUTING FACTOR VEHICLE 5  \\\n",
       "DATE                                                                       \n",
       "09/07/2014                            NaN                            NaN   \n",
       "12/25/2012                            NaN                            NaN   \n",
       "04/22/2013                            NaN                            NaN   \n",
       "03/27/2015                            NaN                            NaN   \n",
       "02/02/2015                            NaN                            NaN   \n",
       "\n",
       "            UNIQUE KEY            VEHICLE TYPE CODE 1  \\\n",
       "DATE                                                    \n",
       "09/07/2014     1019969              PASSENGER VEHICLE   \n",
       "12/25/2012     2873041              PASSENGER VEHICLE   \n",
       "04/22/2013      297613              PASSENGER VEHICLE   \n",
       "03/27/2015     3193324  SPORT UTILITY / STATION WAGON   \n",
       "02/02/2015     3162339                        UNKNOWN   \n",
       "\n",
       "                      VEHICLE TYPE CODE 2 VEHICLE TYPE CODE 3  \\\n",
       "DATE                                                            \n",
       "09/07/2014                      AMBULANCE                 NaN   \n",
       "12/25/2012  SPORT UTILITY / STATION WAGON                 NaN   \n",
       "04/22/2013              PASSENGER VEHICLE                 NaN   \n",
       "03/27/2015  SPORT UTILITY / STATION WAGON                 NaN   \n",
       "02/02/2015                        UNKNOWN                 NaN   \n",
       "\n",
       "           VEHICLE TYPE CODE 4 VEHICLE TYPE CODE 5  \n",
       "DATE                                                \n",
       "09/07/2014                 NaN                 NaN  \n",
       "12/25/2012                 NaN                 NaN  \n",
       "04/22/2013                 NaN                 NaN  \n",
       "03/27/2015                 NaN                 NaN  \n",
       "02/02/2015                 NaN                 NaN  \n",
       "\n",
       "[5 rows x 28 columns]"
      ]
     },
     "execution_count": 11,
     "metadata": {},
     "output_type": "execute_result"
    }
   ],
   "source": [
    "import pandas as pd\n",
    "collisions = pd.read_csv(\"../data/nyc_collisions/NYPD_Motor_Vehicle_Collisions.csv\", index_col=0).sample(5000)\n",
    "collisions = collisions[collisions['LOCATION'].notnull()]\n",
    "collisions.head()"
   ]
  },
  {
   "cell_type": "code",
   "execution_count": 12,
   "metadata": {
    "collapsed": false
   },
   "outputs": [
    {
     "data": {
      "text/html": [
       "<div>\n",
       "<table border=\"1\" class=\"dataframe\">\n",
       "  <thead>\n",
       "    <tr style=\"text-align: right;\">\n",
       "      <th></th>\n",
       "      <th>LATITUDE</th>\n",
       "      <th>LONGITUDE</th>\n",
       "    </tr>\n",
       "    <tr>\n",
       "      <th>DATE</th>\n",
       "      <th></th>\n",
       "      <th></th>\n",
       "    </tr>\n",
       "  </thead>\n",
       "  <tbody>\n",
       "    <tr>\n",
       "      <th>09/07/2014</th>\n",
       "      <td>40.746035</td>\n",
       "      <td>-73.976791</td>\n",
       "    </tr>\n",
       "    <tr>\n",
       "      <th>12/25/2012</th>\n",
       "      <td>40.846467</td>\n",
       "      <td>-73.945154</td>\n",
       "    </tr>\n",
       "    <tr>\n",
       "      <th>04/22/2013</th>\n",
       "      <td>40.594152</td>\n",
       "      <td>-74.086580</td>\n",
       "    </tr>\n",
       "    <tr>\n",
       "      <th>03/27/2015</th>\n",
       "      <td>40.699169</td>\n",
       "      <td>-73.760797</td>\n",
       "    </tr>\n",
       "    <tr>\n",
       "      <th>02/02/2015</th>\n",
       "      <td>40.886130</td>\n",
       "      <td>-73.827585</td>\n",
       "    </tr>\n",
       "  </tbody>\n",
       "</table>\n",
       "</div>"
      ],
      "text/plain": [
       "             LATITUDE  LONGITUDE\n",
       "DATE                            \n",
       "09/07/2014  40.746035 -73.976791\n",
       "12/25/2012  40.846467 -73.945154\n",
       "04/22/2013  40.594152 -74.086580\n",
       "03/27/2015  40.699169 -73.760797\n",
       "02/02/2015  40.886130 -73.827585"
      ]
     },
     "execution_count": 12,
     "metadata": {},
     "output_type": "execute_result"
    }
   ],
   "source": [
    "collisions[['LATITUDE', 'LONGITUDE']].head()"
   ]
  },
  {
   "cell_type": "markdown",
   "metadata": {},
   "source": [
    "In that case we can import `shapely` directly, use it to define our own geometries, using the data from our `DataFrame`, and use that to initialize a `GeoDataFrame`."
   ]
  },
  {
   "cell_type": "code",
   "execution_count": 13,
   "metadata": {
    "collapsed": false
   },
   "outputs": [
    {
     "data": {
      "text/plain": [
       "DATE\n",
       "09/07/2014    POINT (-73.97679090000001 40.7460346)\n",
       "12/25/2012           POINT (-73.9451536 40.8464674)\n",
       "04/22/2013           POINT (-74.0865797 40.5941523)\n",
       "03/27/2015           POINT (-73.7607975 40.6991686)\n",
       "02/02/2015           POINT (-73.8275845 40.8861303)\n",
       "dtype: object"
      ]
     },
     "execution_count": 13,
     "metadata": {},
     "output_type": "execute_result"
    }
   ],
   "source": [
    "import shapely\n",
    "\n",
    "collision_points = collisions.apply(lambda srs: shapely.geometry.Point(srs['LONGITUDE'], srs['LATITUDE']),\n",
    "                                    axis='columns')\n",
    "collision_points.head()"
   ]
  },
  {
   "cell_type": "markdown",
   "metadata": {},
   "source": [
    "From there we pass this iterable of geometries to the `geometry` property of the `GeoDataFrame` initializer, and we're done!"
   ]
  },
  {
   "cell_type": "code",
   "execution_count": 14,
   "metadata": {
    "collapsed": false
   },
   "outputs": [
    {
     "data": {
      "text/html": [
       "<div>\n",
       "<table border=\"1\" class=\"dataframe\">\n",
       "  <thead>\n",
       "    <tr style=\"text-align: right;\">\n",
       "      <th></th>\n",
       "      <th>TIME</th>\n",
       "      <th>BOROUGH</th>\n",
       "      <th>ZIP CODE</th>\n",
       "      <th>LATITUDE</th>\n",
       "      <th>LONGITUDE</th>\n",
       "      <th>LOCATION</th>\n",
       "      <th>ON STREET NAME</th>\n",
       "      <th>CROSS STREET NAME</th>\n",
       "      <th>OFF STREET NAME</th>\n",
       "      <th>NUMBER OF PERSONS INJURED</th>\n",
       "      <th>...</th>\n",
       "      <th>CONTRIBUTING FACTOR VEHICLE 3</th>\n",
       "      <th>CONTRIBUTING FACTOR VEHICLE 4</th>\n",
       "      <th>CONTRIBUTING FACTOR VEHICLE 5</th>\n",
       "      <th>UNIQUE KEY</th>\n",
       "      <th>VEHICLE TYPE CODE 1</th>\n",
       "      <th>VEHICLE TYPE CODE 2</th>\n",
       "      <th>VEHICLE TYPE CODE 3</th>\n",
       "      <th>VEHICLE TYPE CODE 4</th>\n",
       "      <th>VEHICLE TYPE CODE 5</th>\n",
       "      <th>geometry</th>\n",
       "    </tr>\n",
       "    <tr>\n",
       "      <th>DATE</th>\n",
       "      <th></th>\n",
       "      <th></th>\n",
       "      <th></th>\n",
       "      <th></th>\n",
       "      <th></th>\n",
       "      <th></th>\n",
       "      <th></th>\n",
       "      <th></th>\n",
       "      <th></th>\n",
       "      <th></th>\n",
       "      <th></th>\n",
       "      <th></th>\n",
       "      <th></th>\n",
       "      <th></th>\n",
       "      <th></th>\n",
       "      <th></th>\n",
       "      <th></th>\n",
       "      <th></th>\n",
       "      <th></th>\n",
       "      <th></th>\n",
       "      <th></th>\n",
       "    </tr>\n",
       "  </thead>\n",
       "  <tbody>\n",
       "    <tr>\n",
       "      <th>09/07/2014</th>\n",
       "      <td>14:20</td>\n",
       "      <td>MANHATTAN</td>\n",
       "      <td>10016.0</td>\n",
       "      <td>40.746035</td>\n",
       "      <td>-73.976791</td>\n",
       "      <td>(40.7460346, -73.9767909)</td>\n",
       "      <td>EAST 35 STREET</td>\n",
       "      <td>TUNNEL EXIT STREET</td>\n",
       "      <td>NaN</td>\n",
       "      <td>0</td>\n",
       "      <td>...</td>\n",
       "      <td>NaN</td>\n",
       "      <td>NaN</td>\n",
       "      <td>NaN</td>\n",
       "      <td>1019969</td>\n",
       "      <td>PASSENGER VEHICLE</td>\n",
       "      <td>AMBULANCE</td>\n",
       "      <td>NaN</td>\n",
       "      <td>NaN</td>\n",
       "      <td>NaN</td>\n",
       "      <td>POINT (-73.97679090000001 40.7460346)</td>\n",
       "    </tr>\n",
       "    <tr>\n",
       "      <th>12/25/2012</th>\n",
       "      <td>14:56</td>\n",
       "      <td>NaN</td>\n",
       "      <td>NaN</td>\n",
       "      <td>40.846467</td>\n",
       "      <td>-73.945154</td>\n",
       "      <td>(40.8464674, -73.9451536)</td>\n",
       "      <td>NaN</td>\n",
       "      <td>NaN</td>\n",
       "      <td>NaN</td>\n",
       "      <td>0</td>\n",
       "      <td>...</td>\n",
       "      <td>NaN</td>\n",
       "      <td>NaN</td>\n",
       "      <td>NaN</td>\n",
       "      <td>2873041</td>\n",
       "      <td>PASSENGER VEHICLE</td>\n",
       "      <td>SPORT UTILITY / STATION WAGON</td>\n",
       "      <td>NaN</td>\n",
       "      <td>NaN</td>\n",
       "      <td>NaN</td>\n",
       "      <td>POINT (-73.9451536 40.8464674)</td>\n",
       "    </tr>\n",
       "    <tr>\n",
       "      <th>04/22/2013</th>\n",
       "      <td>18:45</td>\n",
       "      <td>STATEN ISLAND</td>\n",
       "      <td>10305.0</td>\n",
       "      <td>40.594152</td>\n",
       "      <td>-74.086580</td>\n",
       "      <td>(40.5941523, -74.0865797)</td>\n",
       "      <td>HYLAN BOULEVARD</td>\n",
       "      <td>REID AVENUE</td>\n",
       "      <td>NaN</td>\n",
       "      <td>0</td>\n",
       "      <td>...</td>\n",
       "      <td>NaN</td>\n",
       "      <td>NaN</td>\n",
       "      <td>NaN</td>\n",
       "      <td>297613</td>\n",
       "      <td>PASSENGER VEHICLE</td>\n",
       "      <td>PASSENGER VEHICLE</td>\n",
       "      <td>NaN</td>\n",
       "      <td>NaN</td>\n",
       "      <td>NaN</td>\n",
       "      <td>POINT (-74.0865797 40.5941523)</td>\n",
       "    </tr>\n",
       "    <tr>\n",
       "      <th>03/27/2015</th>\n",
       "      <td>9:30</td>\n",
       "      <td>QUEENS</td>\n",
       "      <td>11412.0</td>\n",
       "      <td>40.699169</td>\n",
       "      <td>-73.760797</td>\n",
       "      <td>(40.6991686, -73.7607975)</td>\n",
       "      <td>194 STREET</td>\n",
       "      <td>113 ROAD</td>\n",
       "      <td>NaN</td>\n",
       "      <td>1</td>\n",
       "      <td>...</td>\n",
       "      <td>NaN</td>\n",
       "      <td>NaN</td>\n",
       "      <td>NaN</td>\n",
       "      <td>3193324</td>\n",
       "      <td>SPORT UTILITY / STATION WAGON</td>\n",
       "      <td>SPORT UTILITY / STATION WAGON</td>\n",
       "      <td>NaN</td>\n",
       "      <td>NaN</td>\n",
       "      <td>NaN</td>\n",
       "      <td>POINT (-73.7607975 40.6991686)</td>\n",
       "    </tr>\n",
       "    <tr>\n",
       "      <th>02/02/2015</th>\n",
       "      <td>8:00</td>\n",
       "      <td>BRONX</td>\n",
       "      <td>10475.0</td>\n",
       "      <td>40.886130</td>\n",
       "      <td>-73.827585</td>\n",
       "      <td>(40.8861303, -73.8275845)</td>\n",
       "      <td>BOSTON ROAD</td>\n",
       "      <td>NOELL AVENUE</td>\n",
       "      <td>NaN</td>\n",
       "      <td>0</td>\n",
       "      <td>...</td>\n",
       "      <td>NaN</td>\n",
       "      <td>NaN</td>\n",
       "      <td>NaN</td>\n",
       "      <td>3162339</td>\n",
       "      <td>UNKNOWN</td>\n",
       "      <td>UNKNOWN</td>\n",
       "      <td>NaN</td>\n",
       "      <td>NaN</td>\n",
       "      <td>NaN</td>\n",
       "      <td>POINT (-73.8275845 40.8861303)</td>\n",
       "    </tr>\n",
       "  </tbody>\n",
       "</table>\n",
       "<p>5 rows × 29 columns</p>\n",
       "</div>"
      ],
      "text/plain": [
       "             TIME        BOROUGH  ZIP CODE   LATITUDE  LONGITUDE  \\\n",
       "DATE                                                               \n",
       "09/07/2014  14:20      MANHATTAN   10016.0  40.746035 -73.976791   \n",
       "12/25/2012  14:56            NaN       NaN  40.846467 -73.945154   \n",
       "04/22/2013  18:45  STATEN ISLAND   10305.0  40.594152 -74.086580   \n",
       "03/27/2015   9:30         QUEENS   11412.0  40.699169 -73.760797   \n",
       "02/02/2015   8:00          BRONX   10475.0  40.886130 -73.827585   \n",
       "\n",
       "                             LOCATION   ON STREET NAME   CROSS STREET NAME  \\\n",
       "DATE                                                                         \n",
       "09/07/2014  (40.7460346, -73.9767909)   EAST 35 STREET  TUNNEL EXIT STREET   \n",
       "12/25/2012  (40.8464674, -73.9451536)              NaN                 NaN   \n",
       "04/22/2013  (40.5941523, -74.0865797)  HYLAN BOULEVARD         REID AVENUE   \n",
       "03/27/2015  (40.6991686, -73.7607975)       194 STREET            113 ROAD   \n",
       "02/02/2015  (40.8861303, -73.8275845)      BOSTON ROAD        NOELL AVENUE   \n",
       "\n",
       "           OFF STREET NAME  NUMBER OF PERSONS INJURED  \\\n",
       "DATE                                                    \n",
       "09/07/2014             NaN                          0   \n",
       "12/25/2012             NaN                          0   \n",
       "04/22/2013             NaN                          0   \n",
       "03/27/2015             NaN                          1   \n",
       "02/02/2015             NaN                          0   \n",
       "\n",
       "                            ...                    \\\n",
       "DATE                        ...                     \n",
       "09/07/2014                  ...                     \n",
       "12/25/2012                  ...                     \n",
       "04/22/2013                  ...                     \n",
       "03/27/2015                  ...                     \n",
       "02/02/2015                  ...                     \n",
       "\n",
       "            CONTRIBUTING FACTOR VEHICLE 3  CONTRIBUTING FACTOR VEHICLE 4  \\\n",
       "DATE                                                                       \n",
       "09/07/2014                            NaN                            NaN   \n",
       "12/25/2012                            NaN                            NaN   \n",
       "04/22/2013                            NaN                            NaN   \n",
       "03/27/2015                            NaN                            NaN   \n",
       "02/02/2015                            NaN                            NaN   \n",
       "\n",
       "            CONTRIBUTING FACTOR VEHICLE 5  UNIQUE KEY  \\\n",
       "DATE                                                    \n",
       "09/07/2014                            NaN     1019969   \n",
       "12/25/2012                            NaN     2873041   \n",
       "04/22/2013                            NaN      297613   \n",
       "03/27/2015                            NaN     3193324   \n",
       "02/02/2015                            NaN     3162339   \n",
       "\n",
       "                      VEHICLE TYPE CODE 1            VEHICLE TYPE CODE 2  \\\n",
       "DATE                                                                       \n",
       "09/07/2014              PASSENGER VEHICLE                      AMBULANCE   \n",
       "12/25/2012              PASSENGER VEHICLE  SPORT UTILITY / STATION WAGON   \n",
       "04/22/2013              PASSENGER VEHICLE              PASSENGER VEHICLE   \n",
       "03/27/2015  SPORT UTILITY / STATION WAGON  SPORT UTILITY / STATION WAGON   \n",
       "02/02/2015                        UNKNOWN                        UNKNOWN   \n",
       "\n",
       "            VEHICLE TYPE CODE 3 VEHICLE TYPE CODE 4 VEHICLE TYPE CODE 5  \\\n",
       "DATE                                                                      \n",
       "09/07/2014                  NaN                 NaN                 NaN   \n",
       "12/25/2012                  NaN                 NaN                 NaN   \n",
       "04/22/2013                  NaN                 NaN                 NaN   \n",
       "03/27/2015                  NaN                 NaN                 NaN   \n",
       "02/02/2015                  NaN                 NaN                 NaN   \n",
       "\n",
       "                                         geometry  \n",
       "DATE                                               \n",
       "09/07/2014  POINT (-73.97679090000001 40.7460346)  \n",
       "12/25/2012         POINT (-73.9451536 40.8464674)  \n",
       "04/22/2013         POINT (-74.0865797 40.5941523)  \n",
       "03/27/2015         POINT (-73.7607975 40.6991686)  \n",
       "02/02/2015         POINT (-73.8275845 40.8861303)  \n",
       "\n",
       "[5 rows x 29 columns]"
      ]
     },
     "execution_count": 14,
     "metadata": {},
     "output_type": "execute_result"
    }
   ],
   "source": [
    "collisions_geocoded = gpd.GeoDataFrame(collisions, geometry=collision_points)\n",
    "collisions_geocoded.head(5)"
   ]
  },
  {
   "cell_type": "code",
   "execution_count": 15,
   "metadata": {
    "collapsed": false
   },
   "outputs": [
    {
     "data": {
      "text/plain": [
       "geopandas.geodataframe.GeoDataFrame"
      ]
     },
     "execution_count": 15,
     "metadata": {},
     "output_type": "execute_result"
    }
   ],
   "source": [
    "type(collisions_geocoded)"
   ]
  },
  {
   "cell_type": "markdown",
   "metadata": {},
   "source": [
    "In most cases, data with geospatial information provided in a CSV will be point data corresponding with individual coordinates. Sometimes, however, one may wish to define more complex geometry: square areas, for example, and *maybe* even complex polygons. While we won't cover these cases, they're quite similar to the extremely simple point case we've shown here. For further reference on such a task, refer to the `shapely` documentation."
   ]
  },
  {
   "cell_type": "markdown",
   "metadata": {},
   "source": [
    "## Projections\n",
    "\n",
    "Now that we know how to get our data into the form that we need it, we can move on to examining the library itself.\n",
    "\n",
    "The simplest starting point is `polyplot`. This rudimentary plot type which simply takes the geometry in the data and plops it down on a map: nothing more."
   ]
  },
  {
   "cell_type": "code",
   "execution_count": 16,
   "metadata": {
    "collapsed": false
   },
   "outputs": [],
   "source": [
    "import sys; sys.path.insert(0, '../')  # ignore this\n",
    "import geoplot as gplt\n",
    "%matplotlib inline"
   ]
  },
  {
   "cell_type": "code",
   "execution_count": 37,
   "metadata": {
    "collapsed": true
   },
   "outputs": [],
   "source": [
    "usa = gpd.read_file(\"../data/united_states/usa.geojson\")\n",
    "usa = usa[~usa['adm1_code'].isin(['USA-3517', 'USA-3563'])]"
   ]
  },
  {
   "cell_type": "code",
   "execution_count": 38,
   "metadata": {
    "collapsed": false
   },
   "outputs": [
    {
     "data": {
      "text/plain": [
       "<cartopy.mpl.geoaxes.GeoAxesSubplot at 0x11e0bd128>"
      ]
     },
     "execution_count": 38,
     "metadata": {},
     "output_type": "execute_result"
    },
    {
     "data": {
      "image/png": "[encoded data removed]",
      "text/plain": [
       "<matplotlib.figure.Figure at 0x112a314e0>"
      ]
     },
     "metadata": {},
     "output_type": "display_data"
    }
   ],
   "source": [
    "gplt.polyplot(usa)"
   ]
  },
  {
   "cell_type": "markdown",
   "metadata": {},
   "source": [
    "A plot of this kind is called an **unprojected plot**. It faithfully reproduces exact latitude and longitudes as Cartesian coordinates on a plane.\n",
    "\n",
    "But remember, the Earth is not a flat surface; it's a sphere. This isn't a map of the United States that you'd seen in print anywhere because it badly distorts both of the [two criteria](http://www.geo.hunter.cuny.edu/~jochen/gtech201/lectures/lec6concepts/Map%20coordinate%20systems/How%20to%20choose%20a%20projection.htm) most projections are evaluated on: *shape* and *area*.\n",
    "\n",
    "Nevertheless, unprojected plots have their uses. Firstly, for small features, unprojected plots are usually OK. Second of all, there is the fact that when not provided a projection ``geoplot`` tries to output a pure ``matplotlib`` figure, which means that this tool can be easily incorporated with other ``matplotlib`` figures or with other tools, like ``mplleaflet``, which expect ``matplotlib`` input.\n",
    "\n",
    "But if we're not trying to achieve either of these things, it's better to pick a good projection and use that instead.\n",
    "\n",
    "In the case of the contiguous United States, the coordinate reference system most often used is known as the Albers Equal Area projection. To place our plot in a projection, we need to pass the projection of interest to the `projection` keyword parameter. ``geoplot`` functions expect input to come from the `geoplot.crs` module, imported as ``ccrs`` by convention."
   ]
  },
  {
   "cell_type": "code",
   "execution_count": 39,
   "metadata": {
    "collapsed": false
   },
   "outputs": [
    {
     "data": {
      "text/plain": [
       "<cartopy.mpl.geoaxes.GeoAxesSubplot at 0x1145887f0>"
      ]
     },
     "execution_count": 39,
     "metadata": {},
     "output_type": "execute_result"
    },
    {
     "data": {
      "image/png": "[encoded data removed]",
      "text/plain": [
       "<matplotlib.figure.Figure at 0x114572400>"
      ]
     },
     "metadata": {},
     "output_type": "display_data"
    }
   ],
   "source": [
    "import geoplot.crs as ccrs\n",
    "gplt.polyplot(usa, projection=ccrs.AlbersEqualArea())"
   ]
  },
  {
   "cell_type": "markdown",
   "metadata": {},
   "source": [
    "``geoplot`` projections are a very thin wrapper on ``cartopy.crs`` projections, and every ``cartopy`` projection is implemented in ``geoplot.crs``. As such, for a list of implemented projections [refer to the Cartopy documentation](http://scitools.org.uk/cartopy/docs/latest/crs/projections.html).\n",
    "\n",
    "You may be wondering, if ``geoplot.crs`` is a wrapper on ``cartopy.crs``, why not just use Cartopy CRS objects directly? This comes down to an important implementation detail: when Cartopy CRS objects are used as the library  intends for them to be used, projection geolocation settings are supposed to be defined as parameters to the projection and cannot be modified after instantiation. This means that if you don't explicitly specify otherwise yourself, a Cartopy CRS object will result in a map centered on mid-Africa&mdash;coordinate `(0, 0)`!\n",
    "\n",
    "``geoplot`` avoids forcing this extra work on the user by computing sensible defaults, based on the data provided, when exact settings are not provided. This is why the plot above \"just works\": ``geoplot`` computed the mean centroid of the polygons and centered the plot on that coordinate in the background. This feature comes at the cost of a little bit of awkwardness, requiring our wrapper classes, but overall the tradeoff seems to be very \"worth it\".\n",
    "\n",
    "The defaults aren't perfect, however. If you look closely at this figure you'll notice that our copy of the United States is ever so slightly skewed downwards and to the right, indicating that our settings are a teeny bit wrong. We can correct this by specifying the centering coordinates ourselves.\n",
    "\n",
    "The [center of the contiguous United States](https://en.wikipedia.org/wiki/Geographic_center_of_the_contiguous_United_States) is 39°50′N 98°35′W. If we provide approximately these coordinates as `central_latitude` and `central_longitude` coordinates to our projection, our skew is fixed!\n",
    "\n",
    "[Note: a future version of this library might fix this issue with more accurate approximations.]"
   ]
  },
  {
   "cell_type": "code",
   "execution_count": 40,
   "metadata": {
    "collapsed": false
   },
   "outputs": [
    {
     "data": {
      "text/plain": [
       "<cartopy.mpl.geoaxes.GeoAxesSubplot at 0x1187b8b70>"
      ]
     },
     "execution_count": 40,
     "metadata": {},
     "output_type": "execute_result"
    },
    {
     "data": {
      "image/png": "[encoded data removed]",
      "text/plain": [
       "<matplotlib.figure.Figure at 0x113c82470>"
      ]
     },
     "metadata": {},
     "output_type": "display_data"
    }
   ],
   "source": [
    "gplt.polyplot(usa, projection=ccrs.AlbersEqualArea(central_longitude=-98, central_latitude=39.5))"
   ]
  },
  {
   "cell_type": "markdown",
   "metadata": {},
   "source": [
    "This is the version of the map of the United States that you're probably most familiar with."
   ]
  },
  {
   "cell_type": "markdown",
   "metadata": {},
   "source": [
    "TODO: Geostationary demo (but why doesn't it work? Sigh...)"
   ]
  }
 ],
 "metadata": {
  "anaconda-cloud": {},
  "kernelspec": {
   "display_name": "Python [conda env:geoplot]",
   "language": "python",
   "name": "conda-env-geoplot-py"
  },
  "language_info": {
   "codemirror_mode": {
    "name": "ipython",
    "version": 3
   },
   "file_extension": ".py",
   "mimetype": "text/x-python",
   "name": "python",
   "nbconvert_exporter": "python",
   "pygments_lexer": "ipython3",
   "version": "3.5.2"
  }
 },
 "nbformat": 4,
 "nbformat_minor": 2
}
