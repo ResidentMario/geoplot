{
 "cells": [
  {
   "cell_type": "code",
   "execution_count": 2,
   "metadata": {
    "collapsed": true
   },
   "outputs": [],
   "source": [
    "%load_ext autoreload\n",
    "%autoreload 2\n",
    "import pandas as pd\n",
    "import geopandas as gpd\n",
    "from shapely.geometry import Point\n",
    "import numpy as np\n",
    "import matplotlib.pyplot as plt\n",
    "import sys; sys.path.insert(0, '../')\n",
    "import geoplot.crs as ccrs\n",
    "import geoplot as gplt\n",
    "%matplotlib inline"
   ]
  },
  {
   "cell_type": "code",
   "execution_count": 3,
   "metadata": {
    "collapsed": false
   },
   "outputs": [],
   "source": [
    "# Boroughs\n",
    "boroughs = gpd.read_file(\"../data/nyc_boroughs/boroughs.geojson\", driver='GeoJSON')\n",
    "boroughs['Population'] = [378, 1951, 2300, 1487, 1203]\n",
    "boroughs['Population Density'] = boroughs['Population'] / boroughs['Shape_Area']\n",
    "boroughs = boroughs.set_index('BoroName')\n",
    "boroughs.index = [b.upper() for b in boroughs.index]\n",
    "\n",
    "# Collisions\n",
    "cdata = pd.read_csv(\"../data/nyc_collisions/NYPD_Motor_Vehicle_Collisions.csv\", index_col=0)\n",
    "def pointify(srs):\n",
    "    lat, long = srs['LATITUDE'], srs['LONGITUDE']\n",
    "    if pd.isnull(lat) or pd.isnull(long):\n",
    "        return Point(0, 0)\n",
    "    else:\n",
    "        return Point(long, lat)\n",
    "collisions = gpd.GeoDataFrame(cdata.head(10000), geometry=cdata.head(10000).apply(pointify, axis='columns'))\n",
    "collisions = collisions[collisions.geometry.map(lambda srs: not (srs.x == 0))]\n",
    "del cdata\n",
    "\n",
    "# Citibike (Network)\n",
    "citibike = pd.read_csv(\"https://raw.githubusercontent.com/ResidentMario/citibike-sankey/master/data/linesegments.csv\", index_col=0)\n",
    "def geometries(srs):\n",
    "    start = Point(srs['Start Y'], srs['Start X'])\n",
    "    end = Point(srs['End Y'], srs['End X'])\n",
    "    return pd.Series({'From': start, 'To': end})\n",
    "to_and_from = citibike.sample(1000).apply(geometries, axis='columns')\n",
    "\n",
    "# Cities\n",
    "cities = gpd.read_file(\"../data/cities/citiesx010g.shp\")\n",
    "cities = cities[cities['STATE'].map(lambda s: s not in ['PR', 'AK', 'HI', 'VI'])]\n",
    "\n",
    "# Census Tracts\n",
    "census_tracts = gpd.read_file(\"../data/nyc_census_tracts/census_tracts_2010.geojson\", driver='GeoJSON')\n",
    "from random import randint\n",
    "census_tracts['mock_data'] = [randint(10, 1000) for _ in range(len(census_tracts))]"
   ]
  },
  {
   "cell_type": "code",
   "execution_count": null,
   "metadata": {
    "collapsed": true
   },
   "outputs": [],
   "source": [
    "gplt.pointplot(gpd.GeoDataFrame(geometry=to_and_from['To']))"
   ]
  }
 ],
 "metadata": {
  "anaconda-cloud": {},
  "kernelspec": {
   "display_name": "Python [conda env:geoplot]",
   "language": "python",
   "name": "conda-env-geoplot-py"
  },
  "language_info": {
   "codemirror_mode": {
    "name": "ipython",
    "version": 3
   },
   "file_extension": ".py",
   "mimetype": "text/x-python",
   "name": "python",
   "nbconvert_exporter": "python",
   "pygments_lexer": "ipython3",
   "version": "3.5.2"
  }
 },
 "nbformat": 4,
 "nbformat_minor": 2
}
