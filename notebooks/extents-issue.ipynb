{
 "cells": [
  {
   "cell_type": "code",
   "execution_count": 1,
   "metadata": {
    "collapsed": false
   },
   "outputs": [],
   "source": [
    "%load_ext autoreload\n",
    "%autoreload 2\n",
    "import pandas as pd\n",
    "import geopandas as gpd\n",
    "import numpy as np\n",
    "import matplotlib.pyplot as plt\n",
    "import cartopy.crs as ccrs\n",
    "from shapely.geometry import Point\n",
    "import seaborn as sns\n",
    "%matplotlib inline"
   ]
  },
  {
   "cell_type": "code",
   "execution_count": 2,
   "metadata": {
    "collapsed": false
   },
   "outputs": [],
   "source": [
    "# Shim to download the dataset being used here, if it has not been downloaded already.\n",
    "# cf. https://data.cityofnewyork.us/Public-Safety/NYPD-Motor-Vehicle-Collisions/h9gi-nx95\n",
    "import os\n",
    "\n",
    "if not os.path.isfile(\"../data/nyc_collisions/NYPD_Motor_Vehicle_Collisions.csv\"):\n",
    "    import requests\n",
    "    with open(\"../data/NYPD Motor Vehicle Collisions.csv\", \"w\") as f:\n",
    "        f.write(requests.get(\"https://data.cityofnewyork.us/api/views/h9gi-nx95/rows.csv?accessType=DOWNLOAD\").text)"
   ]
  },
  {
   "cell_type": "code",
   "execution_count": 3,
   "metadata": {
    "collapsed": false
   },
   "outputs": [],
   "source": [
    "cdata = pd.read_csv(\"../data/nyc_collisions/NYPD_Motor_Vehicle_Collisions.csv\", index_col=0)\n",
    "\n",
    "def pointify(srs):\n",
    "    lat, long = srs['LATITUDE'], srs['LONGITUDE']\n",
    "    if pd.isnull(lat) or pd.isnull(long):\n",
    "        return Point(0, 0)\n",
    "    else:\n",
    "        return Point(lat, long)\n",
    "\n",
    "collisions = gpd.GeoDataFrame(cdata.head(1000), geometry=cdata.head(1000).apply(pointify, axis='columns'))\n",
    "collisions = collisions[collisions.geometry.map(lambda srs: not (srs.x == 0))]\n",
    "\n",
    "del cdata"
   ]
  },
  {
   "cell_type": "code",
   "execution_count": 4,
   "metadata": {
    "collapsed": false
   },
   "outputs": [
    {
     "name": "stdout",
     "output_type": "stream",
     "text": [
      "Original extent:  (-180.0, 180.0, -90.0, 90.0)\n",
      "Extent after adding KDE:  (40.42536533391019, 40.989181166089814, -74.32880518280508, -73.6337301171949)\n",
      "Bounds to be used for re-setting extent again:  (40.505369000000002, 40.909177500000006, -74.245621999999997, -73.716913299999987)\n",
      "New plot extent:  (114.43197801520002, 114.8357865152, -74.245622, -73.71691329999999)\n"
     ]
    },
    {
     "data": {
      "image/png": "[encoded data removed]",
      "text/plain": [
       "<matplotlib.figure.Figure at 0x11dddfe48>"
      ]
     },
     "metadata": {},
     "output_type": "display_data"
    }
   ],
   "source": [
    "ax = plt.subplot(111, projection=ccrs.PlateCarree(central_longitude=-73.9266090152))\n",
    "ax.background_patch.set_visible(False)\n",
    "ax.outline_patch.set_visible(False)\n",
    "print(\"Original extent: \", ax.get_extent())\n",
    "sns.reset_orig()\n",
    "sns.kdeplot(pd.Series([p.x for p in collisions.geometry]), pd.Series([p.y for p in collisions.geometry]), ax=ax)\n",
    "print(\"Extent after adding KDE: \", ax.get_extent())\n",
    "# At this point the plot is working as expected. But what if we then attempt to set extent ourselves?\n",
    "\n",
    "xs = np.array([p.x for p in collisions.geometry])\n",
    "ys = np.array([p.y for p in collisions.geometry])\n",
    "print(\"Bounds to be used for re-setting extent again: \", (np.min(xs), np.max(xs), np.min(ys), np.max(ys)))\n",
    "ax.set_extent((np.min(xs), np.max(xs), np.min(ys), np.max(ys)), crs=ccrs.PlateCarree())\n",
    "print(\"New plot extent: \", ax.get_extent())\n",
    "# These last two values don't match at all. This is an error!"
   ]
  }
 ],
 "metadata": {
  "kernelspec": {
   "display_name": "Python [conda env:geoplot]",
   "language": "python",
   "name": "conda-env-geoplot-py"
  },
  "language_info": {
   "codemirror_mode": {
    "name": "ipython",
    "version": 3
   },
   "file_extension": ".py",
   "mimetype": "text/x-python",
   "name": "python",
   "nbconvert_exporter": "python",
   "pygments_lexer": "ipython3",
   "version": "3.5.2"
  }
 },
 "nbformat": 4,
 "nbformat_minor": 2
}
