{
 "cells": [
  {
   "cell_type": "code",
   "execution_count": 6,
   "metadata": {
    "collapsed": false
   },
   "outputs": [
    {
     "name": "stdout",
     "output_type": "stream",
     "text": [
      "The autoreload extension is already loaded. To reload it, use:\n",
      "  %reload_ext autoreload\n"
     ]
    }
   ],
   "source": [
    "import sys; sys.path.insert(0, '../')\n",
    "import geoplot as gplt\n",
    "import geoplot.crs as ccrs\n",
    "import geopandas as gpd\n",
    "import pandas as pd\n",
    "import numpy as np\n",
    "%matplotlib inline\n",
    "%load_ext autoreload\n",
    "%autoreload 2"
   ]
  },
  {
   "cell_type": "code",
   "execution_count": 2,
   "metadata": {
    "collapsed": true
   },
   "outputs": [],
   "source": [
    "manhattan = gpd.read_file(\"../data/manhattan_mappluto/MNMapPLUTO.shp\")"
   ]
  },
  {
   "cell_type": "code",
   "execution_count": 13,
   "metadata": {
    "collapsed": false
   },
   "outputs": [],
   "source": [
    "manhattan['YearBuilt'] = manhattan['YearBuilt'].replace(0, np.nan)\n",
    "manhattan = manhattan[['geometry', 'YearBuilt']].dropna()"
   ]
  },
  {
   "cell_type": "code",
   "execution_count": 23,
   "metadata": {
    "collapsed": false
   },
   "outputs": [],
   "source": [
    "manhattan = manhattan.reset_index().rename(columns={'index': 'n'})"
   ]
  },
  {
   "cell_type": "code",
   "execution_count": 37,
   "metadata": {
    "collapsed": false
   },
   "outputs": [
    {
     "data": {
      "text/plain": [
       "0    POLYGON ((973154.7117999941 194614.3315999955,...\n",
       "1    POLYGON ((980492.3622000068 195423.9451999962,...\n",
       "2    POLYGON ((979999.0820000023 196493.2800000012,...\n",
       "3    POLYGON ((980424.4003999978 196274.334800005, ...\n",
       "4    POLYGON ((979561.8711999953 191884.2495999932,...\n",
       "5    (POLYGON ((972058.3400000036 190689.2802000046...\n",
       "Name: geometry, dtype: object"
      ]
     },
     "execution_count": 37,
     "metadata": {},
     "output_type": "execute_result"
    }
   ],
   "source": [
    "manhattan.geometry.head(6)"
   ]
  },
  {
   "cell_type": "code",
   "execution_count": 44,
   "metadata": {
    "collapsed": false
   },
   "outputs": [
    {
     "name": "stdout",
     "output_type": "stream",
     "text": [
      "0    POLYGON ((973154.7117999941 194614.3315999955,...\n",
      "1    POLYGON ((980492.3622000068 195423.9451999962,...\n",
      "2    POLYGON ((979999.0820000023 196493.2800000012,...\n",
      "3    POLYGON ((980424.4003999978 196274.334800005, ...\n",
      "4    POLYGON ((979561.8711999953 191884.2495999932,...\n",
      "5    (POLYGON ((972058.3400000036 190689.2802000046...\n",
      "Name: geometry, dtype: object\n"
     ]
    },
    {
     "ename": "ValueError",
     "evalue": "Failed to determine the required bounds in projection coordinates. Check that the values provided are within the valid range (x_limits=[inf, inf], y_limits=[inf, inf]).",
     "output_type": "error",
     "traceback": [
      "\u001b[0;31m---------------------------------------------------------------------------\u001b[0m",
      "\u001b[0;31mValueError\u001b[0m                                Traceback (most recent call last)",
      "\u001b[0;32m/Users/Honors/anaconda/envs/geoplot/lib/python3.5/site-packages/cartopy/mpl/geoaxes.py\u001b[0m in \u001b[0;36mset_extent\u001b[0;34m(self, extents, crs)\u001b[0m\n\u001b[1;32m    644\u001b[0m             \u001b[0;31m# the projection extents, so try and give a better error message.\u001b[0m\u001b[0;34m\u001b[0m\u001b[0;34m\u001b[0m\u001b[0m\n\u001b[0;32m--> 645\u001b[0;31m             \u001b[0mx1\u001b[0m\u001b[0;34m,\u001b[0m \u001b[0my1\u001b[0m\u001b[0;34m,\u001b[0m \u001b[0mx2\u001b[0m\u001b[0;34m,\u001b[0m \u001b[0my2\u001b[0m \u001b[0;34m=\u001b[0m \u001b[0mprojected\u001b[0m\u001b[0;34m.\u001b[0m\u001b[0mbounds\u001b[0m\u001b[0;34m\u001b[0m\u001b[0m\n\u001b[0m\u001b[1;32m    646\u001b[0m         \u001b[0;32mexcept\u001b[0m \u001b[0mValueError\u001b[0m\u001b[0;34m:\u001b[0m\u001b[0;34m\u001b[0m\u001b[0m\n",
      "\u001b[0;31mValueError\u001b[0m: not enough values to unpack (expected 4, got 0)",
      "\nDuring handling of the above exception, another exception occurred:\n",
      "\u001b[0;31mValueError\u001b[0m                                Traceback (most recent call last)",
      "\u001b[0;32m<ipython-input-44-9100b7652ec4>\u001b[0m in \u001b[0;36m<module>\u001b[0;34m()\u001b[0m\n\u001b[1;32m      3\u001b[0m              \u001b[0mgeometry\u001b[0m\u001b[0;34m=\u001b[0m\u001b[0mmanhattan\u001b[0m\u001b[0;34m.\u001b[0m\u001b[0mgeometry\u001b[0m\u001b[0;34m.\u001b[0m\u001b[0mhead\u001b[0m\u001b[0;34m(\u001b[0m\u001b[0;36m6\u001b[0m\u001b[0;34m)\u001b[0m\u001b[0;34m,\u001b[0m\u001b[0;34m\u001b[0m\u001b[0m\n\u001b[1;32m      4\u001b[0m              \u001b[0mby\u001b[0m\u001b[0;34m=\u001b[0m\u001b[0;34m'n'\u001b[0m\u001b[0;34m,\u001b[0m\u001b[0;34m\u001b[0m\u001b[0m\n\u001b[0;32m----> 5\u001b[0;31m              hue='YearBuilt')\n\u001b[0m",
      "\u001b[0;32m/Users/Honors/Desktop/geoplot/geoplot/geoplot.py\u001b[0m in \u001b[0;36maggplot\u001b[0;34m(df, projection, hue, by, geometry, nmax, nmin, nsig, agg, cmap, vmin, vmax, legend, legend_kwargs, extent, figsize, ax, **kwargs)\u001b[0m\n\u001b[1;32m    971\u001b[0m         \u001b[0;31m# Set extent.\u001b[0m\u001b[0;34m\u001b[0m\u001b[0;34m\u001b[0m\u001b[0m\n\u001b[1;32m    972\u001b[0m         \u001b[0mextrema\u001b[0m \u001b[0;34m=\u001b[0m \u001b[0;34m(\u001b[0m\u001b[0mbxmin\u001b[0m\u001b[0;34m,\u001b[0m \u001b[0mbxmax\u001b[0m\u001b[0;34m,\u001b[0m \u001b[0mbymin\u001b[0m\u001b[0;34m,\u001b[0m \u001b[0mbymax\u001b[0m\u001b[0;34m)\u001b[0m\u001b[0;34m\u001b[0m\u001b[0m\n\u001b[0;32m--> 973\u001b[0;31m         \u001b[0m_set_extent\u001b[0m\u001b[0;34m(\u001b[0m\u001b[0max\u001b[0m\u001b[0;34m,\u001b[0m \u001b[0mprojection\u001b[0m\u001b[0;34m,\u001b[0m \u001b[0mextent\u001b[0m\u001b[0;34m,\u001b[0m \u001b[0mextrema\u001b[0m\u001b[0;34m)\u001b[0m\u001b[0;34m\u001b[0m\u001b[0m\n\u001b[0m\u001b[1;32m    974\u001b[0m \u001b[0;34m\u001b[0m\u001b[0m\n\u001b[1;32m    975\u001b[0m     \u001b[0;32melse\u001b[0m\u001b[0;34m:\u001b[0m\u001b[0;34m\u001b[0m\u001b[0m\n",
      "\u001b[0;32m/Users/Honors/Desktop/geoplot/geoplot/geoplot.py\u001b[0m in \u001b[0;36m_set_extent\u001b[0;34m(ax, projection, extent, extrema)\u001b[0m\n\u001b[1;32m   2027\u001b[0m     \u001b[0;32mif\u001b[0m \u001b[0;32mnot\u001b[0m \u001b[0mextent\u001b[0m \u001b[0;32mand\u001b[0m \u001b[0mprojection\u001b[0m\u001b[0;34m:\u001b[0m  \u001b[0;31m# Input ``extrema`` into set_extent.\u001b[0m\u001b[0;34m\u001b[0m\u001b[0m\n\u001b[1;32m   2028\u001b[0m         \u001b[0mxmin\u001b[0m\u001b[0;34m,\u001b[0m \u001b[0mxmax\u001b[0m\u001b[0;34m,\u001b[0m \u001b[0mymin\u001b[0m\u001b[0;34m,\u001b[0m \u001b[0mymax\u001b[0m \u001b[0;34m=\u001b[0m \u001b[0mextrema\u001b[0m\u001b[0;34m\u001b[0m\u001b[0m\n\u001b[0;32m-> 2029\u001b[0;31m         \u001b[0max\u001b[0m\u001b[0;34m.\u001b[0m\u001b[0mset_extent\u001b[0m\u001b[0;34m(\u001b[0m\u001b[0;34m(\u001b[0m\u001b[0mxmin\u001b[0m\u001b[0;34m,\u001b[0m \u001b[0mxmax\u001b[0m\u001b[0;34m,\u001b[0m \u001b[0mymin\u001b[0m\u001b[0;34m,\u001b[0m \u001b[0mymax\u001b[0m\u001b[0;34m)\u001b[0m\u001b[0;34m)\u001b[0m\u001b[0;34m\u001b[0m\u001b[0m\n\u001b[0m\u001b[1;32m   2030\u001b[0m     \u001b[0;32mif\u001b[0m \u001b[0;32mnot\u001b[0m \u001b[0mextent\u001b[0m \u001b[0;32mand\u001b[0m \u001b[0;32mnot\u001b[0m \u001b[0mprojection\u001b[0m\u001b[0;34m:\u001b[0m  \u001b[0;31m# Input ``extrema`` into set_ylim, set_xlim.\u001b[0m\u001b[0;34m\u001b[0m\u001b[0m\n\u001b[1;32m   2031\u001b[0m         \u001b[0mxmin\u001b[0m\u001b[0;34m,\u001b[0m \u001b[0mxmax\u001b[0m\u001b[0;34m,\u001b[0m \u001b[0mymin\u001b[0m\u001b[0;34m,\u001b[0m \u001b[0mymax\u001b[0m \u001b[0;34m=\u001b[0m \u001b[0mextrema\u001b[0m\u001b[0;34m\u001b[0m\u001b[0m\n",
      "\u001b[0;32m/Users/Honors/anaconda/envs/geoplot/lib/python3.5/site-packages/cartopy/mpl/geoaxes.py\u001b[0m in \u001b[0;36mset_extent\u001b[0;34m(self, extents, crs)\u001b[0m\n\u001b[1;32m    650\u001b[0m                    'y_limits=[{ylim[0]}, {ylim[1]}]).')\n\u001b[1;32m    651\u001b[0m             raise ValueError(msg.format(xlim=self.projection.x_limits,\n\u001b[0;32m--> 652\u001b[0;31m                                         ylim=self.projection.y_limits))\n\u001b[0m\u001b[1;32m    653\u001b[0m         \u001b[0mself\u001b[0m\u001b[0;34m.\u001b[0m\u001b[0mset_xlim\u001b[0m\u001b[0;34m(\u001b[0m\u001b[0;34m[\u001b[0m\u001b[0mx1\u001b[0m\u001b[0;34m,\u001b[0m \u001b[0mx2\u001b[0m\u001b[0;34m]\u001b[0m\u001b[0;34m)\u001b[0m\u001b[0;34m\u001b[0m\u001b[0m\n\u001b[1;32m    654\u001b[0m         \u001b[0mself\u001b[0m\u001b[0;34m.\u001b[0m\u001b[0mset_ylim\u001b[0m\u001b[0;34m(\u001b[0m\u001b[0;34m[\u001b[0m\u001b[0my1\u001b[0m\u001b[0;34m,\u001b[0m \u001b[0my2\u001b[0m\u001b[0;34m]\u001b[0m\u001b[0;34m)\u001b[0m\u001b[0;34m\u001b[0m\u001b[0m\n",
      "\u001b[0;31mValueError\u001b[0m: Failed to determine the required bounds in projection coordinates. Check that the values provided are within the valid range (x_limits=[inf, inf], y_limits=[inf, inf])."
     ]
    },
    {
     "name": "stderr",
     "output_type": "stream",
     "text": [
      "/Users/Honors/anaconda/envs/geoplot/lib/python3.5/site-packages/cartopy/mpl/feature_artist.py:133: UserWarning: Unable to determine extent. Defaulting to global.\n",
      "  warnings.warn('Unable to determine extent. Defaulting to global.')\n"
     ]
    },
    {
     "data": {
      "image/png": "[encoded data removed]",
      "text/plain": [
       "<matplotlib.figure.Figure at 0x111290da0>"
      ]
     },
     "metadata": {},
     "output_type": "display_data"
    }
   ],
   "source": [
    "gplt.aggplot(manhattan.head(6), \n",
    "             projection=ccrs.AlbersEqualArea(), \n",
    "             geometry=manhattan.geometry.head(6), \n",
    "             by='n',\n",
    "             hue='YearBuilt')"
   ]
  },
  {
   "cell_type": "code",
   "execution_count": 33,
   "metadata": {
    "collapsed": false
   },
   "outputs": [
    {
     "data": {
      "text/plain": [
       "0    POLYGON ((973154.7117999941 194614.3315999955,...\n",
       "1    POLYGON ((980492.3622000068 195423.9451999962,...\n",
       "2    POLYGON ((979999.0820000023 196493.2800000012,...\n",
       "3    POLYGON ((980424.4003999978 196274.334800005, ...\n",
       "4    POLYGON ((979561.8711999953 191884.2495999932,...\n",
       "Name: geometry, dtype: object"
      ]
     },
     "execution_count": 33,
     "metadata": {},
     "output_type": "execute_result"
    }
   ],
   "source": [
    "manhattan.geometry.head(5)"
   ]
  },
  {
   "cell_type": "code",
   "execution_count": null,
   "metadata": {
    "collapsed": true
   },
   "outputs": [],
   "source": []
  }
 ],
 "metadata": {
  "kernelspec": {
   "display_name": "Python [conda env:geoplot]",
   "language": "python",
   "name": "conda-env-geoplot-py"
  },
  "language_info": {
   "codemirror_mode": {
    "name": "ipython",
    "version": 3
   },
   "file_extension": ".py",
   "mimetype": "text/x-python",
   "name": "python",
   "nbconvert_exporter": "python",
   "pygments_lexer": "ipython3",
   "version": "3.5.2"
  }
 },
 "nbformat": 4,
 "nbformat_minor": 2
}
