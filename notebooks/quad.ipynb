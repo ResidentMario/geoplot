{
 "cells": [
  {
   "cell_type": "code",
   "execution_count": 57,
   "metadata": {
    "collapsed": false
   },
   "outputs": [
    {
     "name": "stdout",
     "output_type": "stream",
     "text": [
      "The autoreload extension is already loaded. To reload it, use:\n",
      "  %reload_ext autoreload\n"
     ]
    }
   ],
   "source": [
    "%load_ext autoreload\n",
    "%autoreload 2"
   ]
  },
  {
   "cell_type": "code",
   "execution_count": 71,
   "metadata": {
    "collapsed": false
   },
   "outputs": [],
   "source": [
    "from geoplot.quad import QuadTree\n",
    "import pandas as pd\n",
    "import geopandas as gpd\n",
    "from shapely.geometry import Point"
   ]
  },
  {
   "cell_type": "code",
   "execution_count": 9,
   "metadata": {
    "collapsed": false
   },
   "outputs": [],
   "source": [
    "collisions = pd.read_csv(\"./data/NYPD Motor Vehicle Collisions.csv\", index_col=0)\n",
    "collisions = gpd.GeoDataFrame(collisions, geometry=collisions.apply(lambda srs: Point(srs['LONGITUDE'], srs['LATITUDE']), axis='columns'))"
   ]
  },
  {
   "cell_type": "code",
   "execution_count": 68,
   "metadata": {
    "collapsed": false
   },
   "outputs": [
    {
     "name": "stdout",
     "output_type": "stream",
     "text": [
      "> /Users/Honors/Desktop/geoplot/geoplot/quad.py(9)__init__()\n",
      "-> if bounds:\n",
      "(Pdb) c\n"
     ]
    },
    {
     "data": {
      "text/plain": [
       "<geoplot.quad.QuadTree at 0x1143e7240>"
      ]
     },
     "execution_count": 68,
     "metadata": {},
     "output_type": "execute_result"
    }
   ],
   "source": [
    "QuadTree(collisions.sample(10))"
   ]
  },
  {
   "cell_type": "code",
   "execution_count": 115,
   "metadata": {
    "collapsed": true
   },
   "outputs": [],
   "source": [
    "sample = collisions.sample(1000)"
   ]
  },
  {
   "cell_type": "code",
   "execution_count": 117,
   "metadata": {
    "collapsed": false
   },
   "outputs": [],
   "source": [
    "# sample['LOCATION']"
   ]
  },
  {
   "cell_type": "code",
   "execution_count": 118,
   "metadata": {
    "collapsed": false
   },
   "outputs": [
    {
     "data": {
      "text/plain": [
       "800"
      ]
     },
     "execution_count": 118,
     "metadata": {},
     "output_type": "execute_result"
    }
   ],
   "source": [
    "QuadTree(sample).n"
   ]
  },
  {
   "cell_type": "code",
   "execution_count": 119,
   "metadata": {
    "collapsed": false
   },
   "outputs": [
    {
     "data": {
      "text/plain": [
       "(-74.234916799999993,\n",
       " -73.701905199999999,\n",
       " 40.522782700000008,\n",
       " 40.898785700000005)"
      ]
     },
     "execution_count": 119,
     "metadata": {},
     "output_type": "execute_result"
    }
   ],
   "source": [
    "QuadTree(sample).bounds"
   ]
  },
  {
   "cell_type": "code",
   "execution_count": 120,
   "metadata": {
    "collapsed": false
   },
   "outputs": [],
   "source": [
    "test = QuadTree(sample).split()"
   ]
  },
  {
   "cell_type": "code",
   "execution_count": 121,
   "metadata": {
    "collapsed": false
   },
   "outputs": [
    {
     "data": {
      "text/plain": [
       "[125, 113, 331, 228]"
      ]
     },
     "execution_count": 121,
     "metadata": {},
     "output_type": "execute_result"
    }
   ],
   "source": [
    "[b.n for b in test]"
   ]
  },
  {
   "cell_type": "code",
   "execution_count": 32,
   "metadata": {
    "collapsed": false
   },
   "outputs": [],
   "source": [
    "import shapely.geometry"
   ]
  },
  {
   "cell_type": "code",
   "execution_count": 35,
   "metadata": {
    "collapsed": false
   },
   "outputs": [],
   "source": [
    "shapely.geometry.Point.bounds?"
   ]
  },
  {
   "cell_type": "code",
   "execution_count": 39,
   "metadata": {
    "collapsed": false
   },
   "outputs": [
    {
     "data": {
      "text/plain": [
       "DATE\n",
       "11/10/2016                          POINT (nan nan)\n",
       "11/10/2016                          POINT (nan nan)\n",
       "11/10/2016                          POINT (nan nan)\n",
       "11/10/2016            POINT (-73.9049732 40.599075)\n",
       "11/10/2016    POINT (-73.79169940000001 40.6663098)\n",
       "11/10/2016                          POINT (nan nan)\n",
       "11/10/2016                          POINT (nan nan)\n",
       "11/10/2016           POINT (-73.9313824 40.6661246)\n",
       "11/10/2016     POINT (-73.95549150000001 40.620949)\n",
       "11/10/2016                          POINT (nan nan)\n",
       "Name: geometry, dtype: object"
      ]
     },
     "execution_count": 39,
     "metadata": {},
     "output_type": "execute_result"
    }
   ],
   "source": [
    "collisions.head(10).geometry"
   ]
  },
  {
   "cell_type": "code",
   "execution_count": 38,
   "metadata": {
    "collapsed": false
   },
   "outputs": [
    {
     "data": {
      "text/html": [
       "<div>\n",
       "<table border=\"1\" class=\"dataframe\">\n",
       "  <thead>\n",
       "    <tr style=\"text-align: right;\">\n",
       "      <th></th>\n",
       "      <th>minx</th>\n",
       "      <th>miny</th>\n",
       "      <th>maxx</th>\n",
       "      <th>maxy</th>\n",
       "    </tr>\n",
       "    <tr>\n",
       "      <th>DATE</th>\n",
       "      <th></th>\n",
       "      <th></th>\n",
       "      <th></th>\n",
       "      <th></th>\n",
       "    </tr>\n",
       "  </thead>\n",
       "  <tbody>\n",
       "    <tr>\n",
       "      <th>11/10/2016</th>\n",
       "      <td>NaN</td>\n",
       "      <td>NaN</td>\n",
       "      <td>NaN</td>\n",
       "      <td>NaN</td>\n",
       "    </tr>\n",
       "    <tr>\n",
       "      <th>11/10/2016</th>\n",
       "      <td>NaN</td>\n",
       "      <td>NaN</td>\n",
       "      <td>NaN</td>\n",
       "      <td>NaN</td>\n",
       "    </tr>\n",
       "    <tr>\n",
       "      <th>11/10/2016</th>\n",
       "      <td>NaN</td>\n",
       "      <td>NaN</td>\n",
       "      <td>NaN</td>\n",
       "      <td>NaN</td>\n",
       "    </tr>\n",
       "    <tr>\n",
       "      <th>11/10/2016</th>\n",
       "      <td>-73.904973</td>\n",
       "      <td>40.599075</td>\n",
       "      <td>-73.904973</td>\n",
       "      <td>40.599075</td>\n",
       "    </tr>\n",
       "    <tr>\n",
       "      <th>11/10/2016</th>\n",
       "      <td>-73.791699</td>\n",
       "      <td>40.666310</td>\n",
       "      <td>-73.791699</td>\n",
       "      <td>40.666310</td>\n",
       "    </tr>\n",
       "    <tr>\n",
       "      <th>11/10/2016</th>\n",
       "      <td>NaN</td>\n",
       "      <td>NaN</td>\n",
       "      <td>NaN</td>\n",
       "      <td>NaN</td>\n",
       "    </tr>\n",
       "    <tr>\n",
       "      <th>11/10/2016</th>\n",
       "      <td>NaN</td>\n",
       "      <td>NaN</td>\n",
       "      <td>NaN</td>\n",
       "      <td>NaN</td>\n",
       "    </tr>\n",
       "    <tr>\n",
       "      <th>11/10/2016</th>\n",
       "      <td>-73.931382</td>\n",
       "      <td>40.666125</td>\n",
       "      <td>-73.931382</td>\n",
       "      <td>40.666125</td>\n",
       "    </tr>\n",
       "    <tr>\n",
       "      <th>11/10/2016</th>\n",
       "      <td>-73.955492</td>\n",
       "      <td>40.620949</td>\n",
       "      <td>-73.955492</td>\n",
       "      <td>40.620949</td>\n",
       "    </tr>\n",
       "    <tr>\n",
       "      <th>11/10/2016</th>\n",
       "      <td>NaN</td>\n",
       "      <td>NaN</td>\n",
       "      <td>NaN</td>\n",
       "      <td>NaN</td>\n",
       "    </tr>\n",
       "  </tbody>\n",
       "</table>\n",
       "</div>"
      ],
      "text/plain": [
       "                 minx       miny       maxx       maxy\n",
       "DATE                                                  \n",
       "11/10/2016        NaN        NaN        NaN        NaN\n",
       "11/10/2016        NaN        NaN        NaN        NaN\n",
       "11/10/2016        NaN        NaN        NaN        NaN\n",
       "11/10/2016 -73.904973  40.599075 -73.904973  40.599075\n",
       "11/10/2016 -73.791699  40.666310 -73.791699  40.666310\n",
       "11/10/2016        NaN        NaN        NaN        NaN\n",
       "11/10/2016        NaN        NaN        NaN        NaN\n",
       "11/10/2016 -73.931382  40.666125 -73.931382  40.666125\n",
       "11/10/2016 -73.955492  40.620949 -73.955492  40.620949\n",
       "11/10/2016        NaN        NaN        NaN        NaN"
      ]
     },
     "execution_count": 38,
     "metadata": {},
     "output_type": "execute_result"
    }
   ],
   "source": [
    "collisions.head(10).geometry.bounds.m"
   ]
  },
  {
   "cell_type": "code",
   "execution_count": 41,
   "metadata": {
    "collapsed": false
   },
   "outputs": [
    {
     "data": {
      "text/plain": [
       "minx   -73.955492\n",
       "miny    40.599075\n",
       "dtype: float64"
      ]
     },
     "execution_count": 41,
     "metadata": {},
     "output_type": "execute_result"
    }
   ],
   "source": [
    "collisions.head(10).geometry.bounds[['minx', 'miny']].min()"
   ]
  },
  {
   "cell_type": "code",
   "execution_count": null,
   "metadata": {
    "collapsed": true
   },
   "outputs": [],
   "source": []
  }
 ],
 "metadata": {
  "kernelspec": {
   "display_name": "Python 3",
   "language": "python",
   "name": "python3"
  },
  "language_info": {
   "codemirror_mode": {
    "name": "ipython",
    "version": 3
   },
   "file_extension": ".py",
   "mimetype": "text/x-python",
   "name": "python",
   "nbconvert_exporter": "python",
   "pygments_lexer": "ipython3",
   "version": "3.5.2"
  }
 },
 "nbformat": 4,
 "nbformat_minor": 0
}
