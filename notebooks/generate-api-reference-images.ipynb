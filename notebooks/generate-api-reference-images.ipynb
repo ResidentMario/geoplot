{
 "cells": [
  {
   "cell_type": "code",
   "execution_count": null,
   "metadata": {},
   "outputs": [],
   "source": [
    "%load_ext autoreload\n",
    "%autoreload 2"
   ]
  },
  {
   "cell_type": "code",
   "execution_count": null,
   "metadata": {},
   "outputs": [],
   "source": [
    "from geoplot import utils\n",
    "import geoplot as gplt\n",
    "from geoplot import crs as gcrs\n",
    "import geopandas as gpd\n",
    "import pandas as pd\n",
    "import shapely\n",
    "import numpy as np\n",
    "import matplotlib.pyplot as plt"
   ]
  },
  {
   "cell_type": "code",
   "execution_count": null,
   "metadata": {},
   "outputs": [],
   "source": [
    "savefig_kwargs = {'bbox_inches': 'tight', 'pad_inches': 0.25}"
   ]
  },
  {
   "cell_type": "code",
   "execution_count": null,
   "metadata": {},
   "outputs": [],
   "source": [
    "!mkdir ../figures/pointplot\n",
    "!mkdir ../figures/kdeplot\n",
    "!mkdir ../figures/polyplot\n",
    "!mkdir ../figures/cartogram\n",
    "!mkdir ../figures/sankey\n",
    "!mkdir ../figures/choropleth\n",
    "!mkdir ../figures/voronoi\n",
    "!mkdir ../figures/quadtree"
   ]
  },
  {
   "cell_type": "markdown",
   "metadata": {},
   "source": [
    "# Load example data"
   ]
  },
  {
   "cell_type": "markdown",
   "metadata": {},
   "source": [
    "# Pointplot"
   ]
  },
  {
   "cell_type": "code",
   "execution_count": null,
   "metadata": {},
   "outputs": [],
   "source": [
    "cities = gpd.read_file(gplt.datasets.get_path('usa_cities'))"
   ]
  },
  {
   "cell_type": "code",
   "execution_count": null,
   "metadata": {},
   "outputs": [],
   "source": [
    "gplt.pointplot(cities)\n",
    "plt.savefig('../figures/pointplot/pointplot-initial.png', **savefig_kwargs)"
   ]
  },
  {
   "cell_type": "code",
   "execution_count": null,
   "metadata": {},
   "outputs": [],
   "source": [
    "gplt.pointplot(cities, projection=gcrs.AlbersEqualArea(), hue='ELEV_IN_FT', legend=True)\n",
    "plt.savefig('../figures/pointplot/pointplot-legend.png', **savefig_kwargs)"
   ]
  },
  {
   "cell_type": "code",
   "execution_count": null,
   "metadata": {},
   "outputs": [],
   "source": [
    "gplt.pointplot(\n",
    "    cities, projection=gcrs.AlbersEqualArea(), \n",
    "    hue='ELEV_IN_FT',\n",
    "    legend=True, legend_kwargs={'loc': 'upper left'},\n",
    "    edgecolor='lightgray', linewidth=0.5\n",
    ")\n",
    "plt.savefig('../figures/pointplot/pointplot-kwargs.png', **savefig_kwargs)"
   ]
  },
  {
   "cell_type": "code",
   "execution_count": null,
   "metadata": {},
   "outputs": [],
   "source": [
    "gplt.pointplot(\n",
    "    cities, projection=gcrs.AlbersEqualArea(),\n",
    "    hue='ELEV_IN_FT', k=8, cmap='inferno_r',\n",
    "    legend=True\n",
    ")\n",
    "plt.savefig('../figures/pointplot/pointplot-k.png', **savefig_kwargs)"
   ]
  },
  {
   "cell_type": "code",
   "execution_count": null,
   "metadata": {
    "scrolled": false
   },
   "outputs": [],
   "source": [
    "gplt.pointplot(\n",
    "    cities, projection=gcrs.AlbersEqualArea(), \n",
    "    hue='ELEV_IN_FT', scale='ELEV_IN_FT', limits=(5, 10), cmap='inferno_r',\n",
    "    legend=True, legend_var='scale'\n",
    ")\n",
    "plt.savefig('../figures/pointplot/pointplot-scale.png', **savefig_kwargs)"
   ]
  },
  {
   "cell_type": "markdown",
   "metadata": {},
   "source": [
    "# Polyplot"
   ]
  },
  {
   "cell_type": "code",
   "execution_count": null,
   "metadata": {},
   "outputs": [],
   "source": [
    "boroughs = gpd.read_file(gplt.datasets.get_path('nyc_boroughs'))\n",
    "collisions = gpd.read_file(gplt.datasets.get_path('nyc_collision_factors'))"
   ]
  },
  {
   "cell_type": "code",
   "execution_count": null,
   "metadata": {},
   "outputs": [],
   "source": [
    "gplt.polyplot(boroughs, projection=gcrs.AlbersEqualArea())\n",
    "plt.savefig('../figures/polyplot/polyplot-initial.png', **savefig_kwargs)"
   ]
  },
  {
   "cell_type": "code",
   "execution_count": null,
   "metadata": {},
   "outputs": [],
   "source": [
    "ax = gplt.polyplot(\n",
    "    boroughs, projection=gcrs.AlbersEqualArea(),\n",
    "    edgecolor='None', facecolor='lightgray'\n",
    ")\n",
    "gplt.pointplot(\n",
    "    collisions[collisions['BOROUGH'].notnull()],\n",
    "    hue='BOROUGH', ax=ax, legend=True\n",
    ")\n",
    "plt.savefig('../figures/polyplot/polyplot-stacked.png', **savefig_kwargs)"
   ]
  },
  {
   "cell_type": "markdown",
   "metadata": {
    "collapsed": true
   },
   "source": [
    "# Choropleth"
   ]
  },
  {
   "cell_type": "code",
   "execution_count": null,
   "metadata": {},
   "outputs": [],
   "source": [
    "contiguous_usa = gpd.read_file(gplt.datasets.get_path('contiguous_usa'))"
   ]
  },
  {
   "cell_type": "code",
   "execution_count": null,
   "metadata": {},
   "outputs": [],
   "source": [
    "gplt.choropleth(contiguous_usa, hue='population')\n",
    "plt.savefig('../figures/choropleth/choropleth-initial.png', **savefig_kwargs)"
   ]
  },
  {
   "cell_type": "code",
   "execution_count": null,
   "metadata": {},
   "outputs": [],
   "source": [
    "gplt.choropleth(\n",
    "    contiguous_usa, hue='population', projection=gcrs.AlbersEqualArea(),\n",
    "    cmap='Greens', k=5, legend=True\n",
    ")\n",
    "plt.savefig('../figures/choropleth/choropleth-cmap.png', **savefig_kwargs)"
   ]
  },
  {
   "cell_type": "code",
   "execution_count": null,
   "metadata": {},
   "outputs": [],
   "source": [
    "gplt.choropleth(\n",
    "    contiguous_usa, hue='population', projection=gcrs.AlbersEqualArea(),\n",
    "    edgecolor='white', linewidth=1,\n",
    "    cmap='Greens', legend=True, legend_kwargs={'loc': 'lower left'}\n",
    ")\n",
    "plt.savefig('../figures/choropleth/choropleth-legend-kwargs.png', **savefig_kwargs)"
   ]
  },
  {
   "cell_type": "code",
   "execution_count": null,
   "metadata": {},
   "outputs": [],
   "source": [
    "gplt.choropleth(\n",
    "    contiguous_usa, hue='population', projection=gcrs.AlbersEqualArea(),\n",
    "    edgecolor='white', linewidth=1,\n",
    "    cmap='Greens', legend=True, legend_kwargs={'loc': 'lower left'},\n",
    "    scheme='fisher_jenks'\n",
    ")\n",
    "plt.savefig('../figures/choropleth/choropleth-scheme.png', **savefig_kwargs)"
   ]
  },
  {
   "cell_type": "code",
   "execution_count": null,
   "metadata": {},
   "outputs": [],
   "source": [
    "gplt.choropleth(\n",
    "    contiguous_usa, hue='population', projection=gcrs.AlbersEqualArea(),\n",
    "    edgecolor='white', linewidth=1,\n",
    "    cmap='Greens', legend=True, legend_kwargs={'loc': 'lower left'},\n",
    "    scheme='fisher_jenks',\n",
    "    legend_labels=[\n",
    "        '<3 million', '3-6.7 million', '6.7-12.8 million',\n",
    "        '12.8-25 million', '25-37 million'\n",
    "    ]\n",
    ")\n",
    "plt.savefig('../figures/choropleth/choropleth-labels.png', **savefig_kwargs)"
   ]
  },
  {
   "cell_type": "markdown",
   "metadata": {
    "collapsed": true
   },
   "source": [
    "# Cartogram"
   ]
  },
  {
   "cell_type": "code",
   "execution_count": null,
   "metadata": {},
   "outputs": [],
   "source": [
    "boroughs = gpd.read_file(gplt.datasets.get_path('nyc_boroughs'))\n",
    "contiguous_usa = gpd.read_file(gplt.datasets.get_path('contiguous_usa'))"
   ]
  },
  {
   "cell_type": "code",
   "execution_count": null,
   "metadata": {},
   "outputs": [],
   "source": [
    "gplt.cartogram(contiguous_usa, scale='population', projection=gcrs.AlbersEqualArea())\n",
    "plt.savefig('../figures/cartogram/cartogram-initial.png', **savefig_kwargs)"
   ]
  },
  {
   "cell_type": "code",
   "execution_count": null,
   "metadata": {},
   "outputs": [],
   "source": [
    "gplt.cartogram(\n",
    "    contiguous_usa, scale='population', trace=False, projection=gcrs.AlbersEqualArea(),\n",
    "    legend=True, legend_kwargs={'loc': 'lower right'}\n",
    ")\n",
    "plt.savefig('../figures/cartogram/cartogram-trace-legend.png', **savefig_kwargs)"
   ]
  },
  {
   "cell_type": "code",
   "execution_count": null,
   "metadata": {},
   "outputs": [],
   "source": [
    "gplt.cartogram(\n",
    "    contiguous_usa, scale='population', projection=gcrs.AlbersEqualArea(),\n",
    "    trace_kwargs={'facecolor': 'lightgray', 'edgecolor': 'white'},\n",
    "    legend=True, legend_kwargs={'loc': 'lower right'}\n",
    ")"
   ]
  },
  {
   "cell_type": "markdown",
   "metadata": {},
   "source": [
    "TODO: break from below."
   ]
  },
  {
   "cell_type": "code",
   "execution_count": null,
   "metadata": {},
   "outputs": [],
   "source": [
    "# gplt.cartogram(boroughs, scale='Population Density', projection=gcrs.AlbersEqualArea(),\n",
    "#                trace=False, legend=True, legend_kwargs={'loc': 'upper left'})\n",
    "# plt.savefig('../figures/cartogram/cartogram-legend-kwargs.png', **savefig_kwargs)"
   ]
  },
  {
   "cell_type": "code",
   "execution_count": null,
   "metadata": {},
   "outputs": [],
   "source": [
    "# gplt.cartogram(boroughs, scale='Population Density', projection=gcrs.AlbersEqualArea(), legend=True,\n",
    "#                legend_values=[2.32779655e-07, 6.39683197e-07, 1.01364661e-06, 1.17380941e-06, 2.33642596e-06][::-1],\n",
    "#                legend_labels=['Manhattan', 'Brooklyn', 'Queens', 'The Bronx', 'Staten Island'],\n",
    "#                legend_kwargs={'loc': 'upper left'})\n",
    "# plt.savefig('../figures/cartogram/cartogram-legend-labels.png', **savefig_kwargs)"
   ]
  },
  {
   "cell_type": "code",
   "execution_count": null,
   "metadata": {
    "scrolled": false
   },
   "outputs": [],
   "source": [
    "# gplt.cartogram(boroughs, scale='Population Density', projection=gcrs.AlbersEqualArea(),\n",
    "#                edgecolor='darkgreen')\n",
    "# plt.savefig('../figures/cartogram/cartogram-kwargs.png', **savefig_kwargs)"
   ]
  },
  {
   "cell_type": "code",
   "execution_count": null,
   "metadata": {},
   "outputs": [],
   "source": [
    "# gplt.cartogram(boroughs, scale='Population Density', projection=gcrs.AlbersEqualArea(),\n",
    "#                trace_kwargs={'edgecolor': 'lightgreen'})\n",
    "# plt.savefig('../figures/cartogram/cartogram-trace-kwargs.png', **savefig_kwargs)"
   ]
  },
  {
   "cell_type": "code",
   "execution_count": null,
   "metadata": {},
   "outputs": [],
   "source": [
    "# gplt.cartogram(boroughs, scale='Population Density', projection=gcrs.AlbersEqualArea(),\n",
    "#                limits=(0.5, 1))\n",
    "# plt.savefig('../figures/cartogram/cartogram-limits.png', **savefig_kwargs)"
   ]
  },
  {
   "cell_type": "code",
   "execution_count": null,
   "metadata": {},
   "outputs": [],
   "source": [
    "# def trivial_scale(minval, maxval):\n",
    "#     def scalar(val):\n",
    "#         return 0.5\n",
    "#     return scalar\n",
    "\n",
    "# gplt.cartogram(boroughs, scale='Population Density', projection=gcrs.AlbersEqualArea(),\n",
    "#                limits=(0.5, 1), scale_func=trivial_scale)\n",
    "# plt.savefig('../figures/cartogram/cartogram-scale-func.png', **savefig_kwargs)"
   ]
  },
  {
   "cell_type": "code",
   "execution_count": null,
   "metadata": {},
   "outputs": [],
   "source": [
    "# gplt.cartogram(boroughs, scale='Population Density', projection=gcrs.AlbersEqualArea(),\n",
    "#                hue='Population Density', k=None, cmap='Blues')\n",
    "# plt.savefig('../figures/cartogram/cartogram-hue.png', **savefig_kwargs)"
   ]
  },
  {
   "cell_type": "markdown",
   "metadata": {
    "collapsed": true
   },
   "source": [
    "## KDEPlot"
   ]
  },
  {
   "cell_type": "code",
   "execution_count": null,
   "metadata": {},
   "outputs": [],
   "source": [
    "boroughs = gpd.read_file(gplt.datasets.get_path('nyc_boroughs'))\n",
    "collisions = gpd.read_file(gplt.datasets.get_path('nyc_collision_factors'))"
   ]
  },
  {
   "cell_type": "code",
   "execution_count": null,
   "metadata": {},
   "outputs": [],
   "source": [
    "ax = gplt.kdeplot(collisions, projection=gcrs.AlbersEqualArea())\n",
    "gplt.polyplot(boroughs, ax=ax)\n",
    "plt.savefig('../figures/kdeplot/kdeplot-initial.png', **savefig_kwargs)"
   ]
  },
  {
   "cell_type": "code",
   "execution_count": null,
   "metadata": {},
   "outputs": [],
   "source": [
    "ax = gplt.kdeplot(collisions, projection=gcrs.AlbersEqualArea(), n_levels=20, cmap='Reds')\n",
    "gplt.polyplot(boroughs, ax=ax)\n",
    "plt.savefig('../figures/kdeplot/kdeplot-shade.png', **savefig_kwargs)"
   ]
  },
  {
   "cell_type": "code",
   "execution_count": null,
   "metadata": {},
   "outputs": [],
   "source": [
    "ax = gplt.kdeplot(\n",
    "    collisions, projection=gcrs.AlbersEqualArea(), cmap='Reds',\n",
    "    shade=True,\n",
    "    clip=boroughs\n",
    ")\n",
    "gplt.polyplot(boroughs, ax=ax, zorder=1)\n",
    "plt.savefig('../figures/kdeplot/kdeplot-clip.png', **savefig_kwargs)"
   ]
  },
  {
   "cell_type": "code",
   "execution_count": null,
   "metadata": {},
   "outputs": [],
   "source": [
    "ax = gplt.kdeplot(\n",
    "    collisions, projection=gcrs.AlbersEqualArea(), cmap='Reds',\n",
    "    shade=True, shade_lowest=True,\n",
    "    clip=boroughs.geometry\n",
    ")\n",
    "gplt.polyplot(boroughs, ax=ax, zorder=1)\n",
    "plt.savefig('../figures/kdeplot/kdeplot-shade-lowest.png', **savefig_kwargs)"
   ]
  },
  {
   "cell_type": "markdown",
   "metadata": {},
   "source": [
    "## Sankey"
   ]
  },
  {
   "cell_type": "code",
   "execution_count": null,
   "metadata": {},
   "outputs": [],
   "source": [
    "la_flights = gpd.read_file(gplt.datasets.get_path('la_flights'))\n",
    "world = gpd.read_file(gplt.datasets.get_path('world'))\n",
    "dc = gpd.read_file(gplt.datasets.get_path('dc_roads'))"
   ]
  },
  {
   "cell_type": "code",
   "execution_count": null,
   "metadata": {},
   "outputs": [],
   "source": [
    "ax = gplt.sankey(\n",
    "    la_flights, projection=gcrs.Mollweide()\n",
    ")\n",
    "gplt.polyplot(\n",
    "    world, ax=ax, facecolor='lightgray', edgecolor='white'\n",
    ")\n",
    "ax.set_global(); ax.outline_patch.set_visible(True)\n",
    "plt.savefig('../figures/sankey/sankey-geospatial-context.png', **savefig_kwargs)"
   ]
  },
  {
   "cell_type": "code",
   "execution_count": null,
   "metadata": {},
   "outputs": [],
   "source": [
    "ax = gplt.sankey(\n",
    "    la_flights, projection=gcrs.Mollweide(),\n",
    "    hue='Passengers', cmap='Greens', legend=True\n",
    ")\n",
    "gplt.polyplot(\n",
    "    world, ax=ax, facecolor='lightgray', edgecolor='white'\n",
    ")\n",
    "ax.set_global(); ax.outline_patch.set_visible(True)\n",
    "plt.savefig('../figures/sankey/sankey-cmap.png', **savefig_kwargs)"
   ]
  },
  {
   "cell_type": "code",
   "execution_count": null,
   "metadata": {},
   "outputs": [],
   "source": [
    "ax = gplt.sankey(\n",
    "    la_flights, projection=gcrs.Mollweide(),\n",
    "    scale='Passengers', limits=(1, 10),\n",
    "    hue='Passengers', cmap='Greens', legend=True\n",
    ")\n",
    "gplt.polyplot(\n",
    "    world, ax=ax, facecolor='lightgray', edgecolor='white'\n",
    ")\n",
    "ax.set_global(); ax.outline_patch.set_visible(True)\n",
    "plt.savefig('../figures/sankey/sankey-scale.png', **savefig_kwargs)"
   ]
  },
  {
   "cell_type": "code",
   "execution_count": null,
   "metadata": {},
   "outputs": [],
   "source": [
    "ax = gplt.sankey(\n",
    "    la_flights, projection=gcrs.Mollweide(),\n",
    "    scale='Passengers', limits=(1, 10),\n",
    "    hue='Passengers', cmap='Greens',\n",
    "    legend=True, legend_kwargs={'loc': 'lower left'}\n",
    ")\n",
    "gplt.polyplot(\n",
    "    world, ax=ax, facecolor='lightgray', edgecolor='white'\n",
    ")\n",
    "ax.set_global(); ax.outline_patch.set_visible(True)\n",
    "plt.savefig('../figures/sankey/sankey-legend-kwargs.png', **savefig_kwargs)"
   ]
  },
  {
   "cell_type": "code",
   "execution_count": null,
   "metadata": {},
   "outputs": [],
   "source": [
    "gplt.sankey(dc, scale='aadt', edgecolor='black', limits=(0.1, 10), projection=gcrs.AlbersEqualArea())\n",
    "plt.savefig('../figures/sankey/sankey-dc.png', **savefig_kwargs)"
   ]
  },
  {
   "cell_type": "markdown",
   "metadata": {},
   "source": [
    "## Voronoi"
   ]
  },
  {
   "cell_type": "code",
   "execution_count": null,
   "metadata": {},
   "outputs": [],
   "source": [
    "boroughs = gpd.read_file(gplt.datasets.get_path('nyc_boroughs'))\n",
    "injurious_collisions = gpd.read_file(gplt.datasets.get_path('nyc_injurious_collisions'))"
   ]
  },
  {
   "cell_type": "code",
   "execution_count": null,
   "metadata": {},
   "outputs": [],
   "source": [
    "ax = gplt.voronoi(injurious_collisions.head(1000))\n",
    "gplt.polyplot(boroughs, ax=ax)\n",
    "plt.savefig('../figures/voronoi/voronoi-simple.png', **savefig_kwargs)"
   ]
  },
  {
   "cell_type": "code",
   "execution_count": null,
   "metadata": {},
   "outputs": [],
   "source": [
    "ax = gplt.voronoi(injurious_collisions.head(1000), hue='NUMBER OF PERSONS INJURED', cmap='Reds')\n",
    "gplt.polyplot(boroughs, ax=ax)\n",
    "plt.savefig('../figures/voronoi/voronoi-cmap.png', **savefig_kwargs)"
   ]
  },
  {
   "cell_type": "code",
   "execution_count": null,
   "metadata": {},
   "outputs": [],
   "source": [
    "ax = gplt.voronoi(injurious_collisions.head(1000), hue='NUMBER OF PERSONS INJURED', cmap='Reds', \n",
    "                  clip=boroughs)\n",
    "gplt.polyplot(boroughs, ax=ax)\n",
    "plt.savefig('../figures/voronoi/voronoi-clip.png', **savefig_kwargs)"
   ]
  },
  {
   "cell_type": "code",
   "execution_count": null,
   "metadata": {},
   "outputs": [],
   "source": [
    "ax = gplt.voronoi(injurious_collisions.head(1000), hue='NUMBER OF PERSONS INJURED', cmap='Reds',\n",
    "                  clip=boroughs.geometry,\n",
    "                  legend=True, legend_kwargs={'loc': 'upper left'},\n",
    "                  linewidth=0.5, edgecolor='white',\n",
    "                 )\n",
    "gplt.polyplot(boroughs, ax=ax)\n",
    "plt.savefig('../figures/voronoi/voronoi-kwargs.png', **savefig_kwargs)"
   ]
  },
  {
   "cell_type": "code",
   "execution_count": null,
   "metadata": {},
   "outputs": [],
   "source": [
    "ax = gplt.voronoi(injurious_collisions.head(1000), \n",
    "                  hue='NUMBER OF PERSONS INJURED', cmap='Reds', k=5, scheme='fisher_jenks',\n",
    "                  clip=boroughs.geometry,\n",
    "                  legend=True, legend_kwargs={'loc': 'upper left'},\n",
    "                  linewidth=0.5, edgecolor='white', \n",
    "                 )\n",
    "gplt.polyplot(boroughs, ax=ax)\n",
    "plt.savefig('../figures/voronoi/voronoi-scheme.png', **savefig_kwargs)"
   ]
  },
  {
   "cell_type": "code",
   "execution_count": null,
   "metadata": {},
   "outputs": [],
   "source": [
    "ax = gplt.voronoi(injurious_collisions.head(1000), hue='NUMBER OF PERSONS INJURED', cmap='Reds',\n",
    "                  edgecolor='white', clip=boroughs.geometry,\n",
    "                  legend=True,\n",
    "                  linewidth=0.5\n",
    "             )\n",
    "gplt.polyplot(boroughs, linewidth=1, ax=ax)\n",
    "plt.savefig('../figures/voronoi/voronoi-multiparty.png', **savefig_kwargs)"
   ]
  },
  {
   "cell_type": "markdown",
   "metadata": {},
   "source": [
    "# Quadtree"
   ]
  },
  {
   "cell_type": "code",
   "execution_count": null,
   "metadata": {},
   "outputs": [],
   "source": [
    "boroughs = gpd.read_file(gplt.datasets.get_path('nyc_boroughs'))\n",
    "collisions = gpd.read_file(gplt.datasets.get_path('nyc_collision_factors'))"
   ]
  },
  {
   "cell_type": "code",
   "execution_count": null,
   "metadata": {},
   "outputs": [],
   "source": [
    "gplt.quadtree(collisions, nmax=1)\n",
    "plt.savefig('../figures/quadtree/quadtree-initial.png', **savefig_kwargs)"
   ]
  },
  {
   "cell_type": "code",
   "execution_count": null,
   "metadata": {},
   "outputs": [],
   "source": [
    "gplt.quadtree(\n",
    "    collisions, nmax=1,\n",
    "    projection=gcrs.AlbersEqualArea(), clip=boroughs,\n",
    "    facecolor='lightgray', edgecolor='white'\n",
    ")\n",
    "plt.savefig('../figures/quadtree/quadtree-clip.png', **savefig_kwargs)"
   ]
  },
  {
   "cell_type": "code",
   "execution_count": null,
   "metadata": {},
   "outputs": [],
   "source": [
    "gplt.quadtree(\n",
    "    collisions, nmax=1,\n",
    "    projection=gcrs.AlbersEqualArea(), clip=boroughs,\n",
    "    hue='NUMBER OF PEDESTRIANS INJURED', cmap='Reds',\n",
    "    edgecolor='white', legend=True\n",
    ")\n",
    "plt.savefig('../figures/quadtree/quadtree-hue.png', **savefig_kwargs)"
   ]
  },
  {
   "cell_type": "code",
   "execution_count": null,
   "metadata": {},
   "outputs": [],
   "source": [
    "gplt.quadtree(\n",
    "    collisions, nmax=1,\n",
    "    projection=gcrs.AlbersEqualArea(), clip=boroughs,\n",
    "    hue='NUMBER OF PEDESTRIANS INJURED', cmap='Reds', k=None,\n",
    "    edgecolor='white', legend=True,\n",
    ")\n",
    "plt.savefig('../figures/quadtree/quadtree-k.png', **savefig_kwargs)"
   ]
  },
  {
   "cell_type": "code",
   "execution_count": null,
   "metadata": {},
   "outputs": [],
   "source": [
    "gplt.quadtree(\n",
    "    collisions, nmax=1,\n",
    "    projection=gcrs.AlbersEqualArea(), clip=boroughs,\n",
    "    hue='NUMBER OF PEDESTRIANS INJURED', cmap='Reds', agg=np.max,\n",
    "    edgecolor='white', legend=True, k=None\n",
    ")\n",
    "plt.savefig('../figures/quadtree/quadtree-agg.png', **savefig_kwargs)"
   ]
  },
  {
   "cell_type": "code",
   "execution_count": null,
   "metadata": {},
   "outputs": [],
   "source": [
    "ax = gplt.quadtree(\n",
    "    collisions, nmax=1,\n",
    "    projection=gcrs.AlbersEqualArea(), clip=boroughs,\n",
    "    facecolor='lightgray', edgecolor='white', zorder=0\n",
    ")\n",
    "gplt.pointplot(\n",
    "    collisions,\n",
    "    s=1, ax=ax\n",
    ")\n",
    "plt.savefig('../figures/quadtree/quadtree-basemap.png', **savefig_kwargs)"
   ]
  }
 ],
 "metadata": {
  "anaconda-cloud": {},
  "kernelspec": {
   "display_name": "Python 3",
   "language": "python",
   "name": "python3"
  },
  "language_info": {
   "codemirror_mode": {
    "name": "ipython",
    "version": 3
   },
   "file_extension": ".py",
   "mimetype": "text/x-python",
   "name": "python",
   "nbconvert_exporter": "python",
   "pygments_lexer": "ipython3",
   "version": "3.6.7"
  }
 },
 "nbformat": 4,
 "nbformat_minor": 1
}
