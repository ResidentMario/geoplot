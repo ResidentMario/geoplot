{
 "cells": [
  {
   "cell_type": "code",
   "execution_count": null,
   "metadata": {},
   "outputs": [],
   "source": [
    "from geoplot import utils\n",
    "import geoplot as gplt\n",
    "from geoplot import crs as gcrs\n",
    "import geopandas as gpd\n",
    "import pandas as pd\n",
    "import shapely\n",
    "import numpy as np\n",
    "import matplotlib.pyplot as plt"
   ]
  },
  {
   "cell_type": "code",
   "execution_count": null,
   "metadata": {},
   "outputs": [],
   "source": [
    "savefig_kwargs = {'bbox_inches': 'tight', 'pad_inches': 0.25}"
   ]
  },
  {
   "cell_type": "code",
   "execution_count": null,
   "metadata": {},
   "outputs": [],
   "source": [
    "!mkdir ../figures/pointplot\n",
    "!mkdir ../figures/kdeplot\n",
    "!mkdir ../figures/polyplot\n",
    "!mkdir ../figures/cartogram\n",
    "!mkdir ../figures/aggplot\n",
    "!mkdir ../figures/sankey\n",
    "!mkdir ../figures/choropleth\n",
    "!mkdir ../figures/voronoi"
   ]
  },
  {
   "cell_type": "markdown",
   "metadata": {},
   "source": [
    "# Load example data"
   ]
  },
  {
   "cell_type": "code",
   "execution_count": null,
   "metadata": {},
   "outputs": [],
   "source": [
    "cities = gpd.read_file(gplt.datasets.get_path('usa_cities'))\n",
    "boroughs = gpd.read_file(gplt.datasets.get_path('nyc_boroughs'))\n",
    "dc = gpd.read_file(gplt.datasets.get_path('dc_roads'))\n",
    "census_tracts = gpd.read_file(gplt.datasets.get_path('ny_census'))\n",
    "collisions = gpd.read_file(gplt.datasets.get_path('nyc_collision_factors'))\n",
    "contiguous_usa = gpd.read_file(gplt.datasets.get_path('contiguous_usa'))"
   ]
  },
  {
   "cell_type": "markdown",
   "metadata": {},
   "source": [
    "# Pointplot"
   ]
  },
  {
   "cell_type": "code",
   "execution_count": null,
   "metadata": {},
   "outputs": [],
   "source": [
    "points = utils.gaussian_points()\n",
    "gplt.pointplot(cities)\n",
    "plt.savefig('../figures/pointplot/pointplot-initial.png', **savefig_kwargs)"
   ]
  },
  {
   "cell_type": "code",
   "execution_count": null,
   "metadata": {},
   "outputs": [],
   "source": [
    "gplt.pointplot(cities, projection=gcrs.AlbersEqualArea(), hue='ELEV_IN_FT', legend=True)\n",
    "plt.savefig('../figures/pointplot/pointplot-legend.png', **savefig_kwargs)"
   ]
  },
  {
   "cell_type": "code",
   "execution_count": null,
   "metadata": {},
   "outputs": [],
   "source": [
    "gplt.pointplot(\n",
    "    cities, projection=gcrs.AlbersEqualArea(), \n",
    "    hue='ELEV_IN_FT',\n",
    "    legend=True, legend_kwargs={'loc': 'upper left'},\n",
    "    edgecolor='lightgray', linewidth=0.5\n",
    ")\n",
    "plt.savefig('../figures/pointplot/pointplot-kwargs.png', **savefig_kwargs)"
   ]
  },
  {
   "cell_type": "code",
   "execution_count": null,
   "metadata": {},
   "outputs": [],
   "source": [
    "gplt.pointplot(\n",
    "    cities, projection=gcrs.AlbersEqualArea(),\n",
    "    hue='ELEV_IN_FT', k=8, cmap='inferno_r',\n",
    "    legend=True\n",
    ")\n",
    "plt.savefig('../figures/pointplot/pointplot-k.png', **savefig_kwargs)"
   ]
  },
  {
   "cell_type": "code",
   "execution_count": null,
   "metadata": {
    "scrolled": false
   },
   "outputs": [],
   "source": [
    "gplt.pointplot(\n",
    "    cities, projection=gcrs.AlbersEqualArea(), \n",
    "    hue='ELEV_IN_FT', scale='ELEV_IN_FT', limits=(0.1, 3), cmap='inferno_r',\n",
    "    legend=True, legend_var='scale'\n",
    ")\n",
    "plt.savefig('../figures/pointplot/pointplot-scale.png', **savefig_kwargs)"
   ]
  },
  {
   "cell_type": "markdown",
   "metadata": {},
   "source": [
    "# Polyplot"
   ]
  },
  {
   "cell_type": "code",
   "execution_count": null,
   "metadata": {},
   "outputs": [],
   "source": [
    "gplt.polyplot(boroughs, projection=gcrs.AlbersEqualArea())\n",
    "plt.savefig('../figures/polyplot/polyplot-initial.png', **savefig_kwargs)"
   ]
  },
  {
   "cell_type": "code",
   "execution_count": null,
   "metadata": {},
   "outputs": [],
   "source": [
    "ax = gplt.polyplot(\n",
    "    boroughs, projection=gcrs.AlbersEqualArea(),\n",
    "    edgecolor='None', facecolor='lightgray'\n",
    ")\n",
    "gplt.pointplot(\n",
    "    collisions[collisions['BOROUGH'].notnull()], projection=gcrs.AlbersEqualArea(), \n",
    "    hue='BOROUGH', ax=ax, legend=True\n",
    ")\n",
    "plt.savefig('../figures/polyplot/polyplot-stacked.png', **savefig_kwargs)"
   ]
  },
  {
   "cell_type": "markdown",
   "metadata": {
    "collapsed": true
   },
   "source": [
    "# Choropleth"
   ]
  },
  {
   "cell_type": "code",
   "execution_count": null,
   "metadata": {},
   "outputs": [],
   "source": [
    "gplt.choropleth(contiguous_usa, hue='population')\n",
    "plt.savefig('../figures/choropleth/choropleth-initial.png', **savefig_kwargs)"
   ]
  },
  {
   "cell_type": "code",
   "execution_count": null,
   "metadata": {},
   "outputs": [],
   "source": [
    "gplt.choropleth(\n",
    "    contiguous_usa, hue='population', projection=gcrs.AlbersEqualArea(),\n",
    "    cmap='Greens', k=5, legend=True\n",
    ")\n",
    "plt.savefig('../figures/choropleth/choropleth-cmap.png', **savefig_kwargs)"
   ]
  },
  {
   "cell_type": "code",
   "execution_count": null,
   "metadata": {},
   "outputs": [],
   "source": [
    "gplt.choropleth(\n",
    "    contiguous_usa, hue='population', projection=gcrs.AlbersEqualArea(),\n",
    "    edgecolor='white', linewidth=1,\n",
    "    cmap='Greens', legend=True, legend_kwargs={'loc': 'lower left'}\n",
    ")\n",
    "plt.savefig('../figures/choropleth/choropleth-legend-kwargs.png', **savefig_kwargs)"
   ]
  },
  {
   "cell_type": "code",
   "execution_count": null,
   "metadata": {},
   "outputs": [],
   "source": [
    "gplt.choropleth(\n",
    "    contiguous_usa, hue='population', projection=gcrs.AlbersEqualArea(),\n",
    "    edgecolor='white', linewidth=1,\n",
    "    cmap='Greens', legend=True, legend_kwargs={'loc': 'lower left'},\n",
    "    scheme='fisher_jenks'\n",
    ")\n",
    "plt.savefig('../figures/choropleth/choropleth-scheme.png', **savefig_kwargs)"
   ]
  },
  {
   "cell_type": "code",
   "execution_count": null,
   "metadata": {},
   "outputs": [],
   "source": [
    "gplt.choropleth(\n",
    "    contiguous_usa, hue='population', projection=gcrs.AlbersEqualArea(),\n",
    "    edgecolor='white', linewidth=1,\n",
    "    cmap='Greens', legend=True, legend_kwargs={'loc': 'lower left'},\n",
    "    scheme='fisher_jenks',\n",
    "    legend_labels=[\n",
    "        '<3 million', '3-6.7 million', '6.7-12.8 million',\n",
    "        '12.8-25 million', '25-37 million'\n",
    "    ]\n",
    ")\n",
    "plt.savefig('../figures/choropleth/choropleth-labels.png', **savefig_kwargs)"
   ]
  },
  {
   "cell_type": "markdown",
   "metadata": {
    "collapsed": true
   },
   "source": [
    "# Cartogram"
   ]
  },
  {
   "cell_type": "code",
   "execution_count": null,
   "metadata": {},
   "outputs": [],
   "source": [
    "import geoplot as gplt\n",
    "import geoplot.crs as gcrs\n",
    "import geopandas as gpd\n",
    "contiguous_usa = gpd.read_file(gplt.datasets.get_path('contiguous_usa'))\n",
    "gplt.cartogram(contiguous_usa, scale='population')\n",
    "plt.savefig('../figures/cartogram/cartogram-initial.png', **savefig_kwargs)"
   ]
  },
  {
   "cell_type": "code",
   "execution_count": null,
   "metadata": {},
   "outputs": [],
   "source": [
    "gplt.cartogram(\n",
    "    contiguous_usa, scale='population', trace=False, legend=True\n",
    ")\n",
    "plt.savefig('../figures/cartogram/cartogram-trace-legend.png', **savefig_kwargs)"
   ]
  },
  {
   "cell_type": "markdown",
   "metadata": {},
   "source": [
    "TODO: break from below."
   ]
  },
  {
   "cell_type": "code",
   "execution_count": null,
   "metadata": {},
   "outputs": [],
   "source": [
    "gplt.cartogram(boroughs, scale='Population Density', projection=gcrs.AlbersEqualArea(),\n",
    "               trace=False, legend=True, legend_kwargs={'loc': 'upper left'})\n",
    "plt.savefig('../figures/cartogram/cartogram-legend-kwargs.png', **savefig_kwargs)"
   ]
  },
  {
   "cell_type": "code",
   "execution_count": null,
   "metadata": {},
   "outputs": [],
   "source": [
    "gplt.cartogram(boroughs, scale='Population Density', projection=gcrs.AlbersEqualArea(), legend=True,\n",
    "               legend_values=[2.32779655e-07, 6.39683197e-07, 1.01364661e-06, 1.17380941e-06, 2.33642596e-06][::-1],\n",
    "               legend_labels=['Manhattan', 'Brooklyn', 'Queens', 'The Bronx', 'Staten Island'],\n",
    "               legend_kwargs={'loc': 'upper left'})\n",
    "plt.savefig('../figures/cartogram/cartogram-legend-labels.png', **savefig_kwargs)"
   ]
  },
  {
   "cell_type": "code",
   "execution_count": null,
   "metadata": {
    "scrolled": false
   },
   "outputs": [],
   "source": [
    "gplt.cartogram(boroughs, scale='Population Density', projection=gcrs.AlbersEqualArea(),\n",
    "               edgecolor='darkgreen')\n",
    "plt.savefig('../figures/cartogram/cartogram-kwargs.png', **savefig_kwargs)"
   ]
  },
  {
   "cell_type": "code",
   "execution_count": null,
   "metadata": {},
   "outputs": [],
   "source": [
    "gplt.cartogram(boroughs, scale='Population Density', projection=gcrs.AlbersEqualArea(),\n",
    "               trace_kwargs={'edgecolor': 'lightgreen'})\n",
    "plt.savefig('../figures/cartogram/cartogram-trace-kwargs.png', **savefig_kwargs)"
   ]
  },
  {
   "cell_type": "code",
   "execution_count": null,
   "metadata": {},
   "outputs": [],
   "source": [
    "gplt.cartogram(boroughs, scale='Population Density', projection=gcrs.AlbersEqualArea(),\n",
    "               limits=(0.5, 1))\n",
    "plt.savefig('../figures/cartogram/cartogram-limits.png', **savefig_kwargs)"
   ]
  },
  {
   "cell_type": "code",
   "execution_count": null,
   "metadata": {},
   "outputs": [],
   "source": [
    "def trivial_scale(minval, maxval):\n",
    "    def scalar(val):\n",
    "        return 0.5\n",
    "    return scalar\n",
    "\n",
    "gplt.cartogram(boroughs, scale='Population Density', projection=gcrs.AlbersEqualArea(),\n",
    "               limits=(0.5, 1), scale_func=trivial_scale)\n",
    "plt.savefig('../figures/cartogram/cartogram-scale-func.png', **savefig_kwargs)"
   ]
  },
  {
   "cell_type": "code",
   "execution_count": null,
   "metadata": {},
   "outputs": [],
   "source": [
    "gplt.cartogram(boroughs, scale='Population Density', projection=gcrs.AlbersEqualArea(),\n",
    "               hue='Population Density', k=None, cmap='Blues')\n",
    "plt.savefig('../figures/cartogram/cartogram-hue.png', **savefig_kwargs)"
   ]
  },
  {
   "cell_type": "markdown",
   "metadata": {
    "collapsed": true
   },
   "source": [
    "## KDEPlot"
   ]
  },
  {
   "cell_type": "code",
   "execution_count": null,
   "metadata": {},
   "outputs": [],
   "source": [
    "ax = gplt.kdeplot(collisions, projection=gcrs.AlbersEqualArea())\n",
    "gplt.polyplot(boroughs, projection=gcrs.AlbersEqualArea(), ax=ax)\n",
    "plt.savefig('../figures/kdeplot/kdeplot-initial.png', **savefig_kwargs)"
   ]
  },
  {
   "cell_type": "code",
   "execution_count": null,
   "metadata": {},
   "outputs": [],
   "source": [
    "ax = gplt.kdeplot(collisions, projection=gcrs.AlbersEqualArea(), n_levels=20, cmap='Reds')\n",
    "gplt.polyplot(boroughs, projection=gcrs.AlbersEqualArea(), ax=ax)\n",
    "plt.savefig('../figures/kdeplot/kdeplot-shade.png', **savefig_kwargs)"
   ]
  },
  {
   "cell_type": "code",
   "execution_count": null,
   "metadata": {},
   "outputs": [],
   "source": [
    "ax = gplt.kdeplot(\n",
    "    collisions, projection=gcrs.AlbersEqualArea(), cmap='Reds',\n",
    "    shade=True,\n",
    "    clip=boroughs\n",
    ")\n",
    "gplt.polyplot(boroughs, projection=gcrs.AlbersEqualArea(), ax=ax, zorder=1)\n",
    "plt.savefig('../figures/kdeplot/kdeplot-clip.png', **savefig_kwargs)"
   ]
  },
  {
   "cell_type": "code",
   "execution_count": null,
   "metadata": {},
   "outputs": [],
   "source": [
    "ax = gplt.kdeplot(\n",
    "    collisions, projection=gcrs.AlbersEqualArea(), cmap='Reds',\n",
    "    shade=True, shade_lowest=True,\n",
    "    clip=boroughs.geometry\n",
    ")\n",
    "gplt.polyplot(boroughs, projection=gcrs.AlbersEqualArea(), ax=ax, zorder=1)\n",
    "plt.savefig('../figures/kdeplot/kdeplot-shade-lowest.png', **savefig_kwargs)"
   ]
  },
  {
   "cell_type": "markdown",
   "metadata": {},
   "source": [
    "## Sankey"
   ]
  },
  {
   "cell_type": "code",
   "execution_count": null,
   "metadata": {},
   "outputs": [],
   "source": [
    "la_flights = gpd.read_file(gplt.datasets.get_path('la_flights'))\n",
    "la_flights = la_flights.assign(\n",
    "    start=la_flights.geometry.map(lambda mp: mp[0]),\n",
    "    end=la_flights.geometry.map(lambda mp: mp[1])\n",
    ")\n",
    "world = gpd.read_file(gplt.datasets.get_path('world'))"
   ]
  },
  {
   "cell_type": "code",
   "execution_count": null,
   "metadata": {},
   "outputs": [],
   "source": [
    "ax = gplt.sankey(\n",
    "    la_flights, start='start', end='end', projection=gcrs.Orthographic()\n",
    ")\n",
    "gplt.polyplot(\n",
    "    world, ax=ax, facecolor='lightgray', edgecolor='white', projection=gcrs.Orthographic()\n",
    ")\n",
    "ax.set_global(); ax.outline_patch.set_visible(True)\n",
    "plt.savefig('../figures/sankey/sankey-geospatial-context.png', **savefig_kwargs)"
   ]
  },
  {
   "cell_type": "code",
   "execution_count": null,
   "metadata": {},
   "outputs": [],
   "source": [
    "dc = gpd.read_file(gplt.datasets.get_path('dc_roads'))\n",
    "gplt.sankey(dc, path=dc.geometry, projection=gcrs.AlbersEqualArea())\n",
    "plt.savefig('../figures/sankey/sankey-path.png', **savefig_kwargs)"
   ]
  },
  {
   "cell_type": "code",
   "execution_count": null,
   "metadata": {},
   "outputs": [],
   "source": [
    "gplt.sankey(\n",
    "    dc, path=dc.geometry, projection=gcrs.AlbersEqualArea(),\n",
    "    scale='aadt', hue='aadt', cmap='cividis', k=5, legend=True\n",
    ")\n",
    "plt.savefig('../figures/sankey/sankey-cmap.png', **savefig_kwargs)"
   ]
  },
  {
   "cell_type": "code",
   "execution_count": null,
   "metadata": {},
   "outputs": [],
   "source": [
    "ax = gplt.sankey(network, projection=gcrs.PlateCarree(),\n",
    "                 start='from', end='to',\n",
    "                 hue='mock_variable', cmap='RdYlBu',\n",
    "                 legend=True, legend_kwargs={'bbox_to_anchor': (1.1, 1.0)})\n",
    "ax.set_global()\n",
    "ax.coastlines()\n",
    "plt.savefig('../figures/sankey/sankey-legend-labels.png', **savefig_kwargs)"
   ]
  },
  {
   "cell_type": "code",
   "execution_count": null,
   "metadata": {},
   "outputs": [],
   "source": [
    "ax = gplt.sankey(network, projection=gcrs.PlateCarree(),\n",
    "                 start='from', end='to',\n",
    "                 hue='mock_variable', cmap='RdYlBu',\n",
    "                 legend=True, legend_kwargs={'bbox_to_anchor': (1.1, 1.0)},\n",
    "                 k=3, scheme='equal_interval')\n",
    "ax.set_global()\n",
    "ax.coastlines()\n",
    "plt.savefig('../figures/sankey/sankey-scheme.png', **savefig_kwargs)"
   ]
  },
  {
   "cell_type": "code",
   "execution_count": null,
   "metadata": {},
   "outputs": [],
   "source": [
    "network['above_meridian'] = network['from'].map(lambda point: point.y > 0)"
   ]
  },
  {
   "cell_type": "code",
   "execution_count": null,
   "metadata": {},
   "outputs": [],
   "source": [
    "ax = gplt.sankey(network, projection=gcrs.PlateCarree(),\n",
    "                 start='from', end='to',\n",
    "                 hue='above_meridian', cmap='RdYlBu',\n",
    "                 legend=True, legend_kwargs={'bbox_to_anchor': (1.1, 1.0)},\n",
    "                 categorical=True)\n",
    "ax.set_global()\n",
    "ax.coastlines()\n",
    "plt.savefig('../figures/sankey/sankey-categorical.png', **savefig_kwargs)"
   ]
  },
  {
   "cell_type": "code",
   "execution_count": null,
   "metadata": {},
   "outputs": [],
   "source": [
    "network['mock_data'] = [np.random.normal(100, 50) for _ in range(len(network))]"
   ]
  },
  {
   "cell_type": "code",
   "execution_count": null,
   "metadata": {},
   "outputs": [],
   "source": [
    "ax = gplt.sankey(la_flights, projection=gcrs.PlateCarree(),\n",
    "                 extent=(-125.0011, -66.9326, 24.9493, 49.5904),\n",
    "                 start='start', end='end',\n",
    "                 scale='Passengers',\n",
    "                 limits=(0.1, 5),\n",
    "                 legend=True, legend_kwargs={'bbox_to_anchor': (1.1, 1.0)})\n",
    "ax.coastlines()\n",
    "plt.savefig('../figures/sankey/sankey-scale.png', **savefig_kwargs)"
   ]
  },
  {
   "cell_type": "code",
   "execution_count": null,
   "metadata": {},
   "outputs": [],
   "source": [
    "def trivial_scale(minval, maxval):\n",
    "    return lambda v: 1\n",
    "\n",
    "ax = gplt.sankey(la_flights, projection=gcrs.PlateCarree(),\n",
    "                 extent=(-125.0011, -66.9326, 24.9493, 49.5904),\n",
    "                 start='start', end='end',\n",
    "                 scale='Passengers', scale_func=trivial_scale,\n",
    "                 legend=True, legend_kwargs={'bbox_to_anchor': (1.1, 1.0)})\n",
    "ax.coastlines()\n",
    "plt.savefig('../figures/sankey/sankey-scale-func.png', **savefig_kwargs)"
   ]
  },
  {
   "cell_type": "code",
   "execution_count": null,
   "metadata": {},
   "outputs": [],
   "source": [
    "ax = gplt.sankey(network, projection=gcrs.PlateCarree(),\n",
    "                 start='from', end='to',\n",
    "                 scale='mock_data',\n",
    "                 legend=True, legend_kwargs={'bbox_to_anchor': (1.1, 1.0)},\n",
    "                 hue='mock_data', legend_var=\"hue\")\n",
    "ax.set_global()\n",
    "ax.coastlines()\n",
    "plt.savefig('../figures/sankey/sankey-legend-var.png', **savefig_kwargs)"
   ]
  },
  {
   "cell_type": "markdown",
   "metadata": {},
   "source": [
    "## Voronoi"
   ]
  },
  {
   "cell_type": "code",
   "execution_count": null,
   "metadata": {},
   "outputs": [],
   "source": [
    "boroughs = gpd.read_file(geoplot_data.nyc_boroughs())\n",
    "injurious_collisions = gpd.read_file(geoplot_data.nyc_injurious_collisions())"
   ]
  },
  {
   "cell_type": "code",
   "execution_count": null,
   "metadata": {},
   "outputs": [],
   "source": [
    "ax = gplt.voronoi(injurious_collisions.head(1000))\n",
    "gplt.polyplot(boroughs, ax=ax)\n",
    "plt.savefig('../figures/voronoi/voronoi-simple.png', **savefig_kwargs)"
   ]
  },
  {
   "cell_type": "code",
   "execution_count": null,
   "metadata": {},
   "outputs": [],
   "source": [
    "ax = gplt.voronoi(injurious_collisions.head(1000), hue='NUMBER OF PERSONS INJURED', cmap='Reds')\n",
    "gplt.polyplot(boroughs, ax=ax)\n",
    "plt.savefig('../figures/voronoi/voronoi-cmap.png', **savefig_kwargs)"
   ]
  },
  {
   "cell_type": "code",
   "execution_count": null,
   "metadata": {},
   "outputs": [],
   "source": [
    "ax = gplt.voronoi(injurious_collisions.head(1000), hue='NUMBER OF PERSONS INJURED', cmap='Reds', \n",
    "                  clip=boroughs.geometry)\n",
    "gplt.polyplot(boroughs, ax=ax)\n",
    "plt.savefig('../figures/voronoi/voronoi-clip.png', **savefig_kwargs)"
   ]
  },
  {
   "cell_type": "code",
   "execution_count": null,
   "metadata": {},
   "outputs": [],
   "source": [
    "ax = gplt.voronoi(injurious_collisions.head(1000), hue='NUMBER OF PERSONS INJURED', cmap='Reds',\n",
    "                  clip=boroughs.geometry,\n",
    "                  legend=True, legend_kwargs={'loc': 'upper left'},\n",
    "                  linewidth=0.5, edgecolor='white',\n",
    "                 )\n",
    "gplt.polyplot(boroughs, ax=ax)\n",
    "plt.savefig('../figures/voronoi/voronoi-kwargs.png', **savefig_kwargs)"
   ]
  },
  {
   "cell_type": "code",
   "execution_count": null,
   "metadata": {},
   "outputs": [],
   "source": [
    "ax = gplt.voronoi(injurious_collisions.head(1000), \n",
    "                  hue='NUMBER OF PERSONS INJURED', cmap='Reds', k=5, scheme='fisher_jenks',\n",
    "                  clip=boroughs.geometry,\n",
    "                  legend=True, legend_kwargs={'loc': 'upper left'},\n",
    "                  linewidth=0.5, edgecolor='white', \n",
    "                 )\n",
    "gplt.polyplot(boroughs, ax=ax)\n",
    "plt.savefig('../figures/voronoi/voronoi-scheme.png', **savefig_kwargs)"
   ]
  },
  {
   "cell_type": "code",
   "execution_count": null,
   "metadata": {},
   "outputs": [],
   "source": [
    "ax = gplt.voronoi(injurious_collisions.head(1000), hue='NUMBER OF PERSONS INJURED', cmap='Reds',\n",
    "                  edgecolor='white', clip=boroughs.geometry,\n",
    "                  legend=True,\n",
    "                  linewidth=0.5, categorical=True\n",
    "             )\n",
    "gplt.polyplot(boroughs, linewidth=1, ax=ax)\n",
    "plt.savefig('../figures/voronoi/voronoi-multiparty.png', **savefig_kwargs)"
   ]
  },
  {
   "cell_type": "markdown",
   "metadata": {},
   "source": [
    "# Aggplot"
   ]
  },
  {
   "cell_type": "code",
   "execution_count": null,
   "metadata": {},
   "outputs": [],
   "source": [
    "from shapely.geometry import Point\n",
    "\n",
    "collisions['LATITUDE'] = collisions['LATITUDE'].astype(float)\n",
    "collisions['LONGITUDE'] = collisions['LONGITUDE'].astype(float)\n",
    "\n",
    "latmax, latmin, longmax, longmin = collisions['LATITUDE'].max(), collisions['LATITUDE'].min(),\\\n",
    "                                   collisions['LONGITUDE'].max(), collisions['LONGITUDE'].min()\n",
    "    \n",
    "def genpattern(srs):\n",
    "    return (srs['LATITUDE'] - latmin) / (latmax - latmin)\n",
    "\n",
    "collisions['LATDEP'] = collisions.apply(genpattern, axis='columns')"
   ]
  },
  {
   "cell_type": "code",
   "execution_count": null,
   "metadata": {},
   "outputs": [],
   "source": [
    "gplt.aggplot(collisions, projection=gcrs.PlateCarree(), hue='LATDEP')\n",
    "plt.savefig('../figures/aggplot/aggplot-initial.png', **savefig_kwargs)"
   ]
  },
  {
   "cell_type": "code",
   "execution_count": null,
   "metadata": {
    "scrolled": false
   },
   "outputs": [],
   "source": [
    "gplt.aggplot(collisions, nmin=10, nmax=250, nsig=5, projection=gcrs.PlateCarree(), hue='LATDEP', cmap='Blues')\n",
    "plt.savefig('../figures/aggplot/aggplot-quadtree-tuned.png', **savefig_kwargs)"
   ]
  },
  {
   "cell_type": "code",
   "execution_count": null,
   "metadata": {},
   "outputs": [],
   "source": [
    "gplt.aggplot(collisions, projection=gcrs.PlateCarree(), hue='NUMBER OF PERSONS INJURED', cmap='Reds',\n",
    "             by='BOROUGH')\n",
    "plt.savefig('../figures/aggplot/aggplot-hulls.png', **savefig_kwargs)"
   ]
  },
  {
   "cell_type": "code",
   "execution_count": null,
   "metadata": {},
   "outputs": [],
   "source": [
    "boroughs_2 = boroughs.set_index('BoroName')\n",
    "boroughs_2.index = [b.upper() for b in boroughs_2.index]\n",
    "gplt.aggplot(collisions, projection=gcrs.PlateCarree(), hue='NUMBER OF PERSONS INJURED', cmap='Reds',\n",
    "             geometry=boroughs_2, by='BOROUGH')\n",
    "plt.savefig('../figures/aggplot/aggplot-by.png', **savefig_kwargs)"
   ]
  },
  {
   "cell_type": "code",
   "execution_count": null,
   "metadata": {},
   "outputs": [],
   "source": [
    "boroughs_2 = boroughs.set_index('BoroName')\n",
    "boroughs_2.index = [b.upper() for b in boroughs_2.index]\n",
    "gplt.aggplot(collisions, projection=gcrs.PlateCarree(), hue='NUMBER OF PERSONS INJURED', cmap='Reds',\n",
    "             geometry=boroughs_2, by='BOROUGH', agg=len)\n",
    "plt.savefig('../figures/aggplot/aggplot-agg.png', **savefig_kwargs)"
   ]
  },
  {
   "cell_type": "code",
   "execution_count": null,
   "metadata": {},
   "outputs": [],
   "source": [
    "gplt.aggplot(collisions, projection=gcrs.PlateCarree(), hue='NUMBER OF PERSONS INJURED', cmap='Reds',\n",
    "             geometry=boroughs_2, by='BOROUGH', agg=len, legend=False)\n",
    "plt.savefig('../figures/aggplot/aggplot-legend.png', **savefig_kwargs)"
   ]
  },
  {
   "cell_type": "code",
   "execution_count": null,
   "metadata": {},
   "outputs": [],
   "source": [
    "gplt.aggplot(collisions, projection=gcrs.PlateCarree(), hue='NUMBER OF PERSONS INJURED', cmap='Reds',\n",
    "             geometry=boroughs_2, by='BOROUGH', agg=len, linewidth=0)\n",
    "plt.savefig('../figures/aggplot/aggplot-kwargs.png', **savefig_kwargs)"
   ]
  },
  {
   "cell_type": "code",
   "execution_count": null,
   "metadata": {},
   "outputs": [],
   "source": [
    "gplt.aggplot(collisions, projection=gcrs.PlateCarree(), hue='NUMBER OF PERSONS INJURED', cmap='Reds',\n",
    "             geometry=boroughs_2, by='BOROUGH', agg=len, linewidth=0, \n",
    "             legend_kwargs={'orientation': 'horizontal'})\n",
    "plt.savefig('../figures/aggplot/aggplot-legend-kwargs.png', **savefig_kwargs)"
   ]
  }
 ],
 "metadata": {
  "anaconda-cloud": {},
  "kernelspec": {
   "display_name": "Python 3",
   "language": "python",
   "name": "python3"
  },
  "language_info": {
   "codemirror_mode": {
    "name": "ipython",
    "version": 3
   },
   "file_extension": ".py",
   "mimetype": "text/x-python",
   "name": "python",
   "nbconvert_exporter": "python",
   "pygments_lexer": "ipython3",
   "version": "3.6.7"
  }
 },
 "nbformat": 4,
 "nbformat_minor": 1
}
