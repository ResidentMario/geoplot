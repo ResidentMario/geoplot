{
 "cells": [
  {
   "cell_type": "code",
   "execution_count": 1,
   "metadata": {
    "collapsed": false
   },
   "outputs": [],
   "source": [
    "from geoplot import utils\n",
    "import geoplot as gplt\n",
    "from geoplot import crs as gcrs\n",
    "import geopandas as gpd\n",
    "import pandas as pd\n",
    "import shapely\n",
    "import numpy as np\n",
    "import matplotlib.pyplot as plt\n",
    "# %matplotlib inline"
   ]
  },
  {
   "cell_type": "code",
   "execution_count": 2,
   "metadata": {
    "collapsed": true
   },
   "outputs": [],
   "source": [
    "savefig_kwargs = {'bbox_inches': 'tight', 'pad_inches': 0.25}"
   ]
  },
  {
   "cell_type": "code",
   "execution_count": 4,
   "metadata": {
    "collapsed": true
   },
   "outputs": [],
   "source": [
    "!mkdir ../figures/pointplot\n",
    "!mkdir ../figures/kdeplot\n",
    "!mkdir ../figures/polyplot\n",
    "!mkdir ../figures/cartogram\n",
    "!mkdir ../figures/aggplot\n",
    "!mkdir ../figures/sankey\n",
    "!mkdir ../figures/choropleth"
   ]
  },
  {
   "cell_type": "markdown",
   "metadata": {},
   "source": [
    "# Load example data"
   ]
  },
  {
   "cell_type": "code",
   "execution_count": 3,
   "metadata": {
    "collapsed": false
   },
   "outputs": [
    {
     "name": "stdout",
     "output_type": "stream",
     "text": [
      "ResidentMario/geoplot_data already installed.\n",
      "Overwrite? (y/n) y\n",
      "Downloading 2ed72f0dcadd6ae5754664b6dc81ac0f52555d68f285f5f15267bea05d8496a5 (1/17)...\n",
      "Fragment already installed; skipping.\n",
      "Downloading 34bd0416df19c624f79475cf22bd9380f9c442a013ac5f2376157ad482e18aed (2/17)...\n",
      "Fragment already installed; skipping.\n",
      "Downloading 541fc9abd92d5c1e9f842a1a7fcdf667eb15dfd0358f47b84626909134b294c0 (3/17)...\n",
      "Fragment already installed; skipping.\n",
      "Downloading 6ed12561ef35e5a1c9494fd23d565020649abccded02ce01ee105599826552ae (4/17)...\n",
      "Fragment already installed; skipping.\n",
      "Downloading 777fcc2d4ccda556acb1786990b14ae99e420d46f40b3c4edbd99a3fa63760b8 (5/17)...\n",
      "Fragment already installed; skipping.\n",
      "Downloading a01523501f4f24d413299ffb92a797b2cc84d503a4d90dfefa67901aa6c2c445 (6/17)...\n",
      "Fragment already installed; skipping.\n",
      "Downloading a015564a938943ce2aea8f317e1e53058233ce58a5bd4cdd125e59f782ef064e (7/17)...\n",
      "Fragment already installed; skipping.\n",
      "Downloading ba883b9d8a194028cb83f2fc75fedbc88cc072bfa863337a554bf972f4d604d5 (8/17)...\n",
      "Fragment already installed; skipping.\n",
      "Downloading babd0c3d702e85dacc7ad2f08250bf9823a6a7295367a110f130188e356fa7db (9/17)...\n",
      "Fragment already installed; skipping.\n",
      "Downloading c19a467e07d134f78b35f0d90354f50a7b696919ecbf53fb205f39780007e372 (10/17)...\n",
      "Fragment already installed; skipping.\n",
      "Downloading c794f51e6c045c775483df5f071881b9dde247ab4a62916897d952de92e87a75 (11/17)...\n",
      "Fragment already installed; skipping.\n",
      "Downloading cbdfc111c7f8b69c7da6a4c0ee191f780355deaafd90ac3b504262445f9638dc (12/17)...\n",
      "Fragment already installed; skipping.\n",
      "Downloading d2dcdbb925f5b02c9bf8600fe632db0ba0c1ea3b598e9b0ff24b8826f6e805b3 (13/17)...\n",
      "Fragment already installed; skipping.\n",
      "Downloading e128404cfc2cd0c4c749671ade13e9be39b22e924ddb601370ac3ff02c2bbd81 (14/17)...\n",
      "Fragment already installed; skipping.\n",
      "Downloading e134e406457a79959f52545b0d1fc75a8fb217b737889836685c878fc8d7e6e1 (15/17)...\n",
      "Fragment already installed; skipping.\n",
      "Downloading f1609dd6f76946cc6c1bdb17134ee598fe346bd013a6e7a749534acaf4d73d57 (16/17)...\n",
      "Fragment already installed; skipping.\n",
      "Downloading ff65dd10cb042b95a1cf5489aab3812e1e468eedc51fba7e3933e47b16b2775a (17/17)...\n",
      "Fragment already installed; skipping.\n"
     ]
    }
   ],
   "source": [
    "import quilt\n",
    "quilt.install('ResidentMario/geoplot_data')"
   ]
  },
  {
   "cell_type": "code",
   "execution_count": 4,
   "metadata": {
    "collapsed": false
   },
   "outputs": [],
   "source": [
    "from quilt.data.ResidentMario import geoplot_data\n",
    "import geopandas as gpd\n",
    "\n",
    "cities = gpd.read_file(geoplot_data.usa_cities())\n",
    "boroughs = gpd.read_file(geoplot_data.nyc_boroughs())\n",
    "dc = gpd.read_file(geoplot_data.dc_roads())\n",
    "census_tracts = gpd.read_file(geoplot_data.nyc_census_tracts())"
   ]
  },
  {
   "cell_type": "code",
   "execution_count": 11,
   "metadata": {
    "collapsed": false
   },
   "outputs": [
    {
     "name": "stdout",
     "output_type": "stream",
     "text": [
      "Downloading c208715b3521e8c9d1bf87ebd5c614ff7a1d05f12fa4eaf214ab6b4f68779330 (1/1)...\n"
     ]
    },
    {
     "name": "stderr",
     "output_type": "stream",
     "text": [
      "100%|██████████| 6.56M/6.56M [00:06<00:00, 1.02MB/s]\n"
     ]
    }
   ],
   "source": [
    "quilt.install('ResidentMario/nyc_collisions')"
   ]
  },
  {
   "cell_type": "code",
   "execution_count": 41,
   "metadata": {
    "collapsed": false
   },
   "outputs": [],
   "source": [
    "from quilt.data.ResidentMario import nyc_collisions\n",
    "collisions = nyc_collisions.collisions()\n",
    "\n",
    "def pointify(srs):\n",
    "    try:\n",
    "        lat, long = float(srs['LATITUDE']), float(srs['LONGITUDE'])\n",
    "        if pd.isnull(lat) or pd.isnull(long):\n",
    "            return shapely.geometry.Point((0, 0))\n",
    "        else:\n",
    "            return shapely.geometry.Point((long, lat))\n",
    "    except ValueError:\n",
    "        return shapely.geometry.Point((0, 0))\n",
    "\n",
    "collisions = gpd.GeoDataFrame(collisions.head(5000), geometry=collisions.head(5000).apply(pointify, axis='columns'))\n",
    "collisions = collisions[collisions.geometry.map(lambda srs: not (srs.x == 0))]\n",
    "collisions['BOROUGH'] = collisions['BOROUGH'].str.strip().map(lambda v: np.nan if len(v) == 0 else v)"
   ]
  },
  {
   "cell_type": "markdown",
   "metadata": {},
   "source": [
    "# Pointplot"
   ]
  },
  {
   "cell_type": "code",
   "execution_count": 5,
   "metadata": {
    "collapsed": false
   },
   "outputs": [],
   "source": [
    "points = utils.gaussian_points()\n",
    "gplt.pointplot(points, projection=gcrs.PlateCarree())\n",
    "plt.savefig('../figures/pointplot/pointplot-initial.png', **savefig_kwargs)"
   ]
  },
  {
   "cell_type": "code",
   "execution_count": 13,
   "metadata": {
    "collapsed": false
   },
   "outputs": [],
   "source": [
    "gplt.pointplot(cities, projection=gcrs.AlbersEqualArea(), hue='ELEV_IN_FT')\n",
    "plt.savefig('../figures/pointplot/pointplot-hue.png', **savefig_kwargs)"
   ]
  },
  {
   "cell_type": "code",
   "execution_count": 14,
   "metadata": {
    "collapsed": false
   },
   "outputs": [],
   "source": [
    "gplt.pointplot(cities, projection=gcrs.AlbersEqualArea(), hue='ELEV_IN_FT', legend=True)\n",
    "plt.savefig('../figures/pointplot/pointplot-legend.png', **savefig_kwargs)"
   ]
  },
  {
   "cell_type": "code",
   "execution_count": 15,
   "metadata": {
    "collapsed": false
   },
   "outputs": [],
   "source": [
    "gplt.pointplot(cities, projection=gcrs.AlbersEqualArea(), hue='ELEV_IN_FT', legend=True, legend_labels=list('ABCDE'))\n",
    "plt.savefig('../figures/pointplot/pointplot-legend-labels.png', **savefig_kwargs)"
   ]
  },
  {
   "cell_type": "code",
   "execution_count": 16,
   "metadata": {
    "collapsed": false
   },
   "outputs": [],
   "source": [
    "gplt.pointplot(cities, projection=gcrs.AlbersEqualArea(), hue='ELEV_IN_FT', legend=True, scheme='equal_interval')\n",
    "plt.savefig('../figures/pointplot/pointplot-scheme.png', **savefig_kwargs)"
   ]
  },
  {
   "cell_type": "code",
   "execution_count": 42,
   "metadata": {
    "collapsed": false
   },
   "outputs": [],
   "source": [
    "gplt.pointplot(collisions[collisions['BOROUGH'].notnull()], projection=gcrs.AlbersEqualArea(), hue='BOROUGH',\n",
    "               legend=True, categorical=True)\n",
    "plt.savefig('../figures/pointplot/pointplot-categorical.png', **savefig_kwargs)"
   ]
  },
  {
   "cell_type": "code",
   "execution_count": 43,
   "metadata": {
    "collapsed": false
   },
   "outputs": [],
   "source": [
    "gplt.pointplot(collisions[collisions['BOROUGH'].notnull()], projection=gcrs.AlbersEqualArea(), \n",
    "               hue='BOROUGH', categorical=True,\n",
    "               legend=True, legend_kwargs={'loc': 'upper left'})\n",
    "plt.savefig('../figures/pointplot/pointplot-legend-kwargs.png', **savefig_kwargs)"
   ]
  },
  {
   "cell_type": "code",
   "execution_count": 44,
   "metadata": {
    "collapsed": false
   },
   "outputs": [],
   "source": [
    "gplt.pointplot(collisions[collisions['BOROUGH'].notnull()], projection=gcrs.AlbersEqualArea(), \n",
    "               hue='BOROUGH', categorical=True, \n",
    "               legend=True, legend_kwargs={'loc': 'upper left'},\n",
    "               edgecolor='white', linewidth=0.5)\n",
    "plt.savefig('../figures/pointplot/pointplot-kwargs.png', **savefig_kwargs)"
   ]
  },
  {
   "cell_type": "code",
   "execution_count": 2,
   "metadata": {
    "collapsed": false
   },
   "outputs": [],
   "source": [
    "more_points = utils.gaussian_points(n=3000)\n",
    "data = gpd.GeoDataFrame(data={'classification': utils.classify_clusters(more_points, n=6)}, geometry=more_points)\n",
    "data = data.assign(var=data['classification'] * 0.5 + pd.Series([p.x + p.y for p in data['geometry']]) + 50 + np.random.normal(size=3000) * 8)"
   ]
  },
  {
   "cell_type": "code",
   "execution_count": 7,
   "metadata": {
    "collapsed": false
   },
   "outputs": [],
   "source": [
    "gplt.pointplot(data, projection=gcrs.AlbersEqualArea(),\n",
    "               hue='var', k=8,\n",
    "               edgecolor='white', linewidth=0.5,\n",
    "               legend=True, legend_kwargs={'bbox_to_anchor': (1.15, 1.0)})\n",
    "plt.savefig('../figures/pointplot/pointplot-k.png', **savefig_kwargs)"
   ]
  },
  {
   "cell_type": "code",
   "execution_count": 8,
   "metadata": {
    "collapsed": false,
    "scrolled": false
   },
   "outputs": [],
   "source": [
    "more_points = utils.gaussian_points(n=3000)\n",
    "data = gpd.GeoDataFrame(data={'classification': utils.classify_clusters(more_points, n=6)}, geometry=more_points)\n",
    "data = data.assign(var=data['classification'] * 0.5 + pd.Series([p.x + p.y for p in data['geometry']]) + 50 + np.random.normal(size=3000) * 8)\n",
    "gplt.pointplot(data, projection=gcrs.AlbersEqualArea(),\n",
    "               hue='var', cmap='inferno', k=8,\n",
    "               edgecolor='white', linewidth=0.5,\n",
    "               legend=True, legend_kwargs={'bbox_to_anchor': (1.15, 1.0)})\n",
    "plt.savefig('../figures/pointplot/pointplot-cmap.png', **savefig_kwargs)"
   ]
  },
  {
   "cell_type": "code",
   "execution_count": 9,
   "metadata": {
    "collapsed": false
   },
   "outputs": [],
   "source": [
    "more_points = utils.gaussian_points(n=3000)\n",
    "data = gpd.GeoDataFrame(data={'classification': utils.classify_clusters(more_points, n=6)}, geometry=more_points)\n",
    "data = data.assign(var=data['classification'] * 0.5 + pd.Series([p.x + p.y for p in data['geometry']]) + 50 + np.random.normal(size=3000) * 8)\n",
    "gplt.pointplot(data, projection=gcrs.AlbersEqualArea(),\n",
    "               hue='var', cmap='inferno', k=None,\n",
    "               edgecolor='white', linewidth=0.5,\n",
    "               legend=True)\n",
    "plt.savefig('../figures/pointplot/pointplot-k-none.png', **savefig_kwargs)"
   ]
  },
  {
   "cell_type": "code",
   "execution_count": 45,
   "metadata": {
    "collapsed": false,
    "scrolled": false
   },
   "outputs": [],
   "source": [
    "gplt.pointplot(collisions, projection=gcrs.AlbersEqualArea(), \n",
    "               scale='NUMBER OF PERSONS INJURED',\n",
    "               legend=True, legend_kwargs={'loc': 'upper left'})\n",
    "plt.savefig('../figures/pointplot/pointplot-scale.png', **savefig_kwargs)"
   ]
  },
  {
   "cell_type": "code",
   "execution_count": 46,
   "metadata": {
    "collapsed": false
   },
   "outputs": [],
   "source": [
    "gplt.pointplot(collisions, projection=gcrs.AlbersEqualArea(), \n",
    "               scale='NUMBER OF PERSONS INJURED', limits=(0, 10),\n",
    "               legend=True, legend_kwargs={'loc': 'upper left'})\n",
    "plt.savefig('../figures/pointplot/pointplot-limits.png', **savefig_kwargs)"
   ]
  },
  {
   "cell_type": "code",
   "execution_count": 47,
   "metadata": {
    "collapsed": false
   },
   "outputs": [],
   "source": [
    "def trivial_scale(minval, maxval):\n",
    "    def scalar(val):\n",
    "        return 2\n",
    "    return scalar\n",
    "\n",
    "gplt.pointplot(collisions, projection=gcrs.AlbersEqualArea(), \n",
    "               scale='NUMBER OF PERSONS INJURED', scale_func=trivial_scale,\n",
    "               legend=True, legend_kwargs={'loc': 'upper left'})\n",
    "plt.savefig('../figures/pointplot/pointplot-scale-func.png', **savefig_kwargs)"
   ]
  },
  {
   "cell_type": "code",
   "execution_count": 48,
   "metadata": {
    "collapsed": false
   },
   "outputs": [],
   "source": [
    "gplt.pointplot(collisions[collisions['BOROUGH'].notnull()],\n",
    "               projection=gcrs.AlbersEqualArea(),\n",
    "               hue='BOROUGH', categorical=True,\n",
    "               scale='NUMBER OF PERSONS INJURED', limits=(0, 10),\n",
    "               legend=True, legend_kwargs={'loc': 'upper left'})\n",
    "plt.savefig('../figures/pointplot/pointplot-hue-scale.png', **savefig_kwargs)"
   ]
  },
  {
   "cell_type": "code",
   "execution_count": 49,
   "metadata": {
    "collapsed": false
   },
   "outputs": [],
   "source": [
    "gplt.pointplot(collisions[collisions['BOROUGH'].notnull()],\n",
    "               projection=gcrs.AlbersEqualArea(),\n",
    "               hue='BOROUGH', categorical=True,\n",
    "               scale='NUMBER OF PERSONS INJURED', limits=(0, 10),\n",
    "               legend=True, legend_kwargs={'loc': 'upper left'},\n",
    "               legend_var='scale')\n",
    "plt.savefig('../figures/pointplot/pointplot-legend-var.png', **savefig_kwargs)"
   ]
  },
  {
   "cell_type": "markdown",
   "metadata": {
    "collapsed": true
   },
   "source": [
    "# Choropleth"
   ]
  },
  {
   "cell_type": "code",
   "execution_count": 12,
   "metadata": {
    "collapsed": false
   },
   "outputs": [],
   "source": [
    "from random import randint\n",
    "polygons = utils.gaussian_polygons(n=20, points=utils.gaussian_points(n=3000))\n",
    "polydata = gpd.GeoDataFrame(data={'classification': [randint(1, 20) for _ in range(len(polygons))]}, geometry=polygons)"
   ]
  },
  {
   "cell_type": "code",
   "execution_count": 13,
   "metadata": {
    "collapsed": false
   },
   "outputs": [],
   "source": [
    "polydata['latdep'] = polydata['classification'] + np.random.normal() * 5 + 5 + polydata.geometry.envelope.exterior.map(lambda ext: ext.coords[0][1] + ext.coords[0][0])"
   ]
  },
  {
   "cell_type": "code",
   "execution_count": 14,
   "metadata": {
    "collapsed": false
   },
   "outputs": [],
   "source": [
    "gplt.choropleth(polydata, hue='latdep', projection=gcrs.PlateCarree())\n",
    "plt.savefig('../figures/choropleth/choropleth-initial.png', **savefig_kwargs)"
   ]
  },
  {
   "cell_type": "code",
   "execution_count": 15,
   "metadata": {
    "collapsed": false
   },
   "outputs": [],
   "source": [
    "gplt.choropleth(polydata, hue='latdep', projection=gcrs.PlateCarree(), cmap='Blues')\n",
    "plt.savefig('../figures/choropleth/choropleth-cmap.png', **savefig_kwargs)"
   ]
  },
  {
   "cell_type": "code",
   "execution_count": 16,
   "metadata": {
    "collapsed": false
   },
   "outputs": [],
   "source": [
    "gplt.choropleth(boroughs, projection=gcrs.AlbersEqualArea(), hue='BoroName', categorical=True)\n",
    "plt.savefig('../figures/choropleth/choropleth-categorical.png', **savefig_kwargs)"
   ]
  },
  {
   "cell_type": "code",
   "execution_count": 17,
   "metadata": {
    "collapsed": false
   },
   "outputs": [],
   "source": [
    "gplt.choropleth(boroughs, projection=gcrs.AlbersEqualArea(), hue='BoroName', categorical=True,\n",
    "                legend=True)\n",
    "plt.savefig('../figures/choropleth/choropleth-legend.png', **savefig_kwargs)"
   ]
  },
  {
   "cell_type": "code",
   "execution_count": 18,
   "metadata": {
    "collapsed": false
   },
   "outputs": [],
   "source": [
    "gplt.choropleth(boroughs, projection=gcrs.AlbersEqualArea(), hue='BoroName', categorical=True,\n",
    "                legend=True, legend_kwargs={'loc': 'upper left'})\n",
    "plt.savefig('../figures/choropleth/choropleth-legend-kwargs.png', **savefig_kwargs)"
   ]
  },
  {
   "cell_type": "code",
   "execution_count": 19,
   "metadata": {
    "collapsed": false
   },
   "outputs": [],
   "source": [
    "gplt.choropleth(boroughs, projection=gcrs.AlbersEqualArea(), hue='BoroName', categorical=True,\n",
    "                linewidth=0)\n",
    "plt.savefig('../figures/choropleth/choropleth-kwargs.png', **savefig_kwargs)"
   ]
  },
  {
   "cell_type": "code",
   "execution_count": 5,
   "metadata": {
    "collapsed": false
   },
   "outputs": [],
   "source": [
    "from random import randint\n",
    "census_tracts['mock_data'] = [randint(10, 1000) for _ in range(len(census_tracts))]\n",
    "census_tracts['mock_category'] = [randint(1, 5) for _ in range(len(census_tracts))]"
   ]
  },
  {
   "cell_type": "code",
   "execution_count": 6,
   "metadata": {
    "collapsed": false
   },
   "outputs": [],
   "source": [
    "gplt.choropleth(census_tracts, hue='mock_data', projection=gcrs.AlbersEqualArea(),\n",
    "                legend=True, edgecolor='white', linewidth=0.5, legend_kwargs={'loc': 'upper left'},\n",
    "                k=2)\n",
    "plt.savefig('../figures/choropleth/choropleth-k.png', **savefig_kwargs)"
   ]
  },
  {
   "cell_type": "code",
   "execution_count": 7,
   "metadata": {
    "collapsed": false
   },
   "outputs": [],
   "source": [
    "gplt.choropleth(census_tracts, hue='mock_data', projection=gcrs.AlbersEqualArea(),\n",
    "                legend=True, edgecolor='white', linewidth=0.5, cmap='viridis',\n",
    "                k=None)\n",
    "plt.savefig('../figures/choropleth/choropleth-k-none.png', **savefig_kwargs)"
   ]
  },
  {
   "cell_type": "code",
   "execution_count": 8,
   "metadata": {
    "collapsed": false
   },
   "outputs": [],
   "source": [
    "gplt.choropleth(census_tracts, hue='mock_data', projection=gcrs.AlbersEqualArea(),\n",
    "                edgecolor='white', linewidth=0.5,\n",
    "                legend=True, legend_kwargs={'loc': 'upper left'},\n",
    "                legend_labels=['Very Low', 'Low', 'Medium', 'High', 'Very High'])\n",
    "plt.savefig('../figures/choropleth/choropleth-legend-labels.png', **savefig_kwargs)"
   ]
  },
  {
   "cell_type": "code",
   "execution_count": 9,
   "metadata": {
    "collapsed": false
   },
   "outputs": [],
   "source": [
    "gplt.choropleth(census_tracts, hue='mock_data', projection=gcrs.AlbersEqualArea(),\n",
    "                legend=True, edgecolor='white', linewidth=0.5, legend_kwargs={'loc': 'upper left'},\n",
    "                scheme='equal_interval')\n",
    "plt.savefig('../figures/choropleth/choropleth-scheme.png', **savefig_kwargs)"
   ]
  },
  {
   "cell_type": "markdown",
   "metadata": {},
   "source": [
    "# Polyplot"
   ]
  },
  {
   "cell_type": "code",
   "execution_count": 20,
   "metadata": {
    "collapsed": false
   },
   "outputs": [],
   "source": [
    "gplt.polyplot(boroughs, projection=gcrs.AlbersEqualArea())\n",
    "plt.savefig('../figures/polyplot/polyplot-initial.png', **savefig_kwargs)"
   ]
  },
  {
   "cell_type": "code",
   "execution_count": 21,
   "metadata": {
    "collapsed": false
   },
   "outputs": [],
   "source": [
    "gplt.polyplot(boroughs, projection=gcrs.AlbersEqualArea(), \n",
    "              linewidth=0, facecolor='lightgray')\n",
    "plt.savefig('../figures/polyplot/polyplot-kwargs.png', **savefig_kwargs)"
   ]
  },
  {
   "cell_type": "code",
   "execution_count": 50,
   "metadata": {
    "collapsed": false
   },
   "outputs": [],
   "source": [
    "ax = gplt.polyplot(boroughs, projection=gcrs.AlbersEqualArea())\n",
    "gplt.pointplot(collisions[collisions['BOROUGH'].notnull()], projection=gcrs.AlbersEqualArea(), \n",
    "               hue='BOROUGH', categorical=True, \n",
    "               legend=True, edgecolor='white', linewidth=0.5, legend_kwargs={'loc': 'upper left'},\n",
    "               ax=ax)\n",
    "plt.savefig('../figures/polyplot/polyplot-stacked.png', **savefig_kwargs)"
   ]
  },
  {
   "cell_type": "markdown",
   "metadata": {},
   "source": [
    "# Aggplot"
   ]
  },
  {
   "cell_type": "code",
   "execution_count": 54,
   "metadata": {
    "collapsed": false
   },
   "outputs": [],
   "source": [
    "from shapely.geometry import Point\n",
    "\n",
    "collisions['LATITUDE'] = collisions['LATITUDE'].astype(float)\n",
    "collisions['LONGITUDE'] = collisions['LONGITUDE'].astype(float)\n",
    "\n",
    "latmax, latmin, longmax, longmin = collisions['LATITUDE'].max(), collisions['LATITUDE'].min(),\\\n",
    "                                   collisions['LONGITUDE'].max(), collisions['LONGITUDE'].min()\n",
    "    \n",
    "def genpattern(srs):\n",
    "    return (srs['LATITUDE'] - latmin) / (latmax - latmin)\n",
    "\n",
    "collisions['LATDEP'] = collisions.apply(genpattern, axis='columns')"
   ]
  },
  {
   "cell_type": "code",
   "execution_count": 55,
   "metadata": {
    "collapsed": false
   },
   "outputs": [],
   "source": [
    "gplt.aggplot(collisions, projection=gcrs.PlateCarree(), hue='LATDEP')\n",
    "plt.savefig('../figures/aggplot/aggplot-initial.png', **savefig_kwargs)"
   ]
  },
  {
   "cell_type": "code",
   "execution_count": 57,
   "metadata": {
    "collapsed": false,
    "scrolled": false
   },
   "outputs": [],
   "source": [
    "gplt.aggplot(collisions, nmin=10, nmax=250, nsig=5, projection=gcrs.PlateCarree(), hue='LATDEP', cmap='Blues')\n",
    "plt.savefig('../figures/aggplot/aggplot-quadtree-tuned.png', **savefig_kwargs)"
   ]
  },
  {
   "cell_type": "code",
   "execution_count": 58,
   "metadata": {
    "collapsed": false
   },
   "outputs": [],
   "source": [
    "gplt.aggplot(collisions, projection=gcrs.PlateCarree(), hue='NUMBER OF PERSONS INJURED', cmap='Reds',\n",
    "             by='BOROUGH')\n",
    "plt.savefig('../figures/aggplot/aggplot-hulls.png', **savefig_kwargs)"
   ]
  },
  {
   "cell_type": "code",
   "execution_count": 59,
   "metadata": {
    "collapsed": false
   },
   "outputs": [],
   "source": [
    "boroughs_2 = boroughs.set_index('BoroName')\n",
    "boroughs_2.index = [b.upper() for b in boroughs_2.index]\n",
    "gplt.aggplot(collisions, projection=gcrs.PlateCarree(), hue='NUMBER OF PERSONS INJURED', cmap='Reds',\n",
    "             geometry=boroughs_2, by='BOROUGH')\n",
    "plt.savefig('../figures/aggplot/aggplot-by.png', **savefig_kwargs)"
   ]
  },
  {
   "cell_type": "code",
   "execution_count": 60,
   "metadata": {
    "collapsed": false
   },
   "outputs": [],
   "source": [
    "boroughs_2 = boroughs.set_index('BoroName')\n",
    "boroughs_2.index = [b.upper() for b in boroughs_2.index]\n",
    "gplt.aggplot(collisions, projection=gcrs.PlateCarree(), hue='NUMBER OF PERSONS INJURED', cmap='Reds',\n",
    "             geometry=boroughs_2, by='BOROUGH', agg=len)\n",
    "plt.savefig('../figures/aggplot/aggplot-agg.png', **savefig_kwargs)"
   ]
  },
  {
   "cell_type": "code",
   "execution_count": 61,
   "metadata": {
    "collapsed": false
   },
   "outputs": [
    {
     "name": "stderr",
     "output_type": "stream",
     "text": [
      "/Users/Honors/anaconda/envs/geoplot/lib/python3.5/site-packages/matplotlib/pyplot.py:524: RuntimeWarning: More than 20 figures have been opened. Figures created through the pyplot interface (`matplotlib.pyplot.figure`) are retained until explicitly closed and may consume too much memory. (To control this warning, see the rcParam `figure.max_open_warning`).\n",
      "  max_open_warning, RuntimeWarning)\n"
     ]
    }
   ],
   "source": [
    "gplt.aggplot(collisions, projection=gcrs.PlateCarree(), hue='NUMBER OF PERSONS INJURED', cmap='Reds',\n",
    "             geometry=boroughs_2, by='BOROUGH', agg=len, legend=False)\n",
    "plt.savefig('../figures/aggplot/aggplot-legend.png', **savefig_kwargs)"
   ]
  },
  {
   "cell_type": "code",
   "execution_count": 62,
   "metadata": {
    "collapsed": false
   },
   "outputs": [
    {
     "name": "stderr",
     "output_type": "stream",
     "text": [
      "/Users/Honors/anaconda/envs/geoplot/lib/python3.5/site-packages/matplotlib/pyplot.py:524: RuntimeWarning: More than 20 figures have been opened. Figures created through the pyplot interface (`matplotlib.pyplot.figure`) are retained until explicitly closed and may consume too much memory. (To control this warning, see the rcParam `figure.max_open_warning`).\n",
      "  max_open_warning, RuntimeWarning)\n"
     ]
    }
   ],
   "source": [
    "gplt.aggplot(collisions, projection=gcrs.PlateCarree(), hue='NUMBER OF PERSONS INJURED', cmap='Reds',\n",
    "             geometry=boroughs_2, by='BOROUGH', agg=len, linewidth=0)\n",
    "plt.savefig('../figures/aggplot/aggplot-kwargs.png', **savefig_kwargs)"
   ]
  },
  {
   "cell_type": "code",
   "execution_count": 63,
   "metadata": {
    "collapsed": false
   },
   "outputs": [
    {
     "name": "stderr",
     "output_type": "stream",
     "text": [
      "/Users/Honors/anaconda/envs/geoplot/lib/python3.5/site-packages/matplotlib/pyplot.py:524: RuntimeWarning: More than 20 figures have been opened. Figures created through the pyplot interface (`matplotlib.pyplot.figure`) are retained until explicitly closed and may consume too much memory. (To control this warning, see the rcParam `figure.max_open_warning`).\n",
      "  max_open_warning, RuntimeWarning)\n"
     ]
    }
   ],
   "source": [
    "gplt.aggplot(collisions, projection=gcrs.PlateCarree(), hue='NUMBER OF PERSONS INJURED', cmap='Reds',\n",
    "             geometry=boroughs_2, by='BOROUGH', agg=len, linewidth=0, \n",
    "             legend_kwargs={'orientation': 'horizontal'})\n",
    "plt.savefig('../figures/aggplot/aggplot-legend-kwargs.png', **savefig_kwargs)"
   ]
  },
  {
   "cell_type": "markdown",
   "metadata": {
    "collapsed": true
   },
   "source": [
    "# Cartogram"
   ]
  },
  {
   "cell_type": "code",
   "execution_count": 24,
   "metadata": {
    "collapsed": false
   },
   "outputs": [],
   "source": [
    "boroughs['Population'] = [378, 1951, 2300, 1487, 1203]\n",
    "boroughs['Population Density'] = boroughs['Population'] / boroughs['Shape_Area']"
   ]
  },
  {
   "cell_type": "code",
   "execution_count": 25,
   "metadata": {
    "collapsed": false
   },
   "outputs": [],
   "source": [
    "gplt.cartogram(boroughs, scale='Population Density', projection=gcrs.AlbersEqualArea())\n",
    "plt.savefig('../figures/cartogram/cartogram-initial.png', **savefig_kwargs)"
   ]
  },
  {
   "cell_type": "code",
   "execution_count": 26,
   "metadata": {
    "collapsed": false
   },
   "outputs": [],
   "source": [
    "gplt.cartogram(boroughs, scale='Population Density', projection=gcrs.AlbersEqualArea(),\n",
    "               trace=False, legend=True)\n",
    "plt.savefig('../figures/cartogram/cartogram-trace-legend.png', **savefig_kwargs)"
   ]
  },
  {
   "cell_type": "code",
   "execution_count": 27,
   "metadata": {
    "collapsed": false
   },
   "outputs": [],
   "source": [
    "gplt.cartogram(boroughs, scale='Population Density', projection=gcrs.AlbersEqualArea(),\n",
    "               trace=False, legend=True, legend_kwargs={'loc': 'upper left'})\n",
    "plt.savefig('../figures/cartogram/cartogram-legend-kwargs.png', **savefig_kwargs)"
   ]
  },
  {
   "cell_type": "code",
   "execution_count": 28,
   "metadata": {
    "collapsed": false
   },
   "outputs": [],
   "source": [
    "gplt.cartogram(boroughs, scale='Population Density', projection=gcrs.AlbersEqualArea(), legend=True,\n",
    "               legend_values=[2.32779655e-07, 6.39683197e-07, 1.01364661e-06, 1.17380941e-06, 2.33642596e-06][::-1],\n",
    "               legend_labels=['Manhattan', 'Brooklyn', 'Queens', 'The Bronx', 'Staten Island'],\n",
    "               legend_kwargs={'loc': 'upper left'})\n",
    "plt.savefig('../figures/cartogram/cartogram-legend-labels.png', **savefig_kwargs)"
   ]
  },
  {
   "cell_type": "code",
   "execution_count": 29,
   "metadata": {
    "collapsed": false,
    "scrolled": false
   },
   "outputs": [],
   "source": [
    "gplt.cartogram(boroughs, scale='Population Density', projection=gcrs.AlbersEqualArea(),\n",
    "               edgecolor='darkgreen')\n",
    "plt.savefig('../figures/cartogram/cartogram-kwargs.png', **savefig_kwargs)"
   ]
  },
  {
   "cell_type": "code",
   "execution_count": 30,
   "metadata": {
    "collapsed": false
   },
   "outputs": [],
   "source": [
    "gplt.cartogram(boroughs, scale='Population Density', projection=gcrs.AlbersEqualArea(),\n",
    "               trace_kwargs={'edgecolor': 'lightgreen'})\n",
    "plt.savefig('../figures/cartogram/cartogram-trace-kwargs.png', **savefig_kwargs)"
   ]
  },
  {
   "cell_type": "code",
   "execution_count": 31,
   "metadata": {
    "collapsed": false
   },
   "outputs": [
    {
     "name": "stderr",
     "output_type": "stream",
     "text": [
      "/Users/Honors/anaconda/envs/geoplot/lib/python3.5/site-packages/matplotlib/pyplot.py:524: RuntimeWarning: More than 20 figures have been opened. Figures created through the pyplot interface (`matplotlib.pyplot.figure`) are retained until explicitly closed and may consume too much memory. (To control this warning, see the rcParam `figure.max_open_warning`).\n",
      "  max_open_warning, RuntimeWarning)\n"
     ]
    }
   ],
   "source": [
    "gplt.cartogram(boroughs, scale='Population Density', projection=gcrs.AlbersEqualArea(),\n",
    "               limits=(0.5, 1))\n",
    "plt.savefig('../figures/cartogram/cartogram-limits.png', **savefig_kwargs)"
   ]
  },
  {
   "cell_type": "code",
   "execution_count": 32,
   "metadata": {
    "collapsed": false
   },
   "outputs": [
    {
     "name": "stderr",
     "output_type": "stream",
     "text": [
      "/Users/Honors/anaconda/envs/geoplot/lib/python3.5/site-packages/matplotlib/pyplot.py:524: RuntimeWarning: More than 20 figures have been opened. Figures created through the pyplot interface (`matplotlib.pyplot.figure`) are retained until explicitly closed and may consume too much memory. (To control this warning, see the rcParam `figure.max_open_warning`).\n",
      "  max_open_warning, RuntimeWarning)\n"
     ]
    }
   ],
   "source": [
    "def trivial_scale(minval, maxval):\n",
    "    def scalar(val):\n",
    "        return 0.5\n",
    "    return scalar\n",
    "\n",
    "gplt.cartogram(boroughs, scale='Population Density', projection=gcrs.AlbersEqualArea(),\n",
    "               limits=(0.5, 1), scale_func=trivial_scale)\n",
    "plt.savefig('../figures/cartogram/cartogram-scale-func.png', **savefig_kwargs)"
   ]
  },
  {
   "cell_type": "code",
   "execution_count": 33,
   "metadata": {
    "collapsed": false
   },
   "outputs": [
    {
     "name": "stderr",
     "output_type": "stream",
     "text": [
      "/Users/Honors/anaconda/envs/geoplot/lib/python3.5/site-packages/matplotlib/pyplot.py:524: RuntimeWarning: More than 20 figures have been opened. Figures created through the pyplot interface (`matplotlib.pyplot.figure`) are retained until explicitly closed and may consume too much memory. (To control this warning, see the rcParam `figure.max_open_warning`).\n",
      "  max_open_warning, RuntimeWarning)\n"
     ]
    }
   ],
   "source": [
    "gplt.cartogram(boroughs, scale='Population Density', projection=gcrs.AlbersEqualArea(),\n",
    "               hue='Population Density', k=None, cmap='Blues')\n",
    "plt.savefig('../figures/cartogram/cartogram-hue.png', **savefig_kwargs)"
   ]
  },
  {
   "cell_type": "markdown",
   "metadata": {
    "collapsed": true
   },
   "source": [
    "## KDEPlot"
   ]
  },
  {
   "cell_type": "code",
   "execution_count": 64,
   "metadata": {
    "collapsed": false
   },
   "outputs": [
    {
     "name": "stderr",
     "output_type": "stream",
     "text": [
      "/Users/Honors/anaconda/envs/geoplot/lib/python3.5/site-packages/matplotlib/pyplot.py:524: RuntimeWarning: More than 20 figures have been opened. Figures created through the pyplot interface (`matplotlib.pyplot.figure`) are retained until explicitly closed and may consume too much memory. (To control this warning, see the rcParam `figure.max_open_warning`).\n",
      "  max_open_warning, RuntimeWarning)\n"
     ]
    }
   ],
   "source": [
    "ax = gplt.kdeplot(collisions, projection=gcrs.AlbersEqualArea())\n",
    "plt.savefig('../figures/kdeplot/kdeplot-initial.png', **savefig_kwargs)"
   ]
  },
  {
   "cell_type": "code",
   "execution_count": 65,
   "metadata": {
    "collapsed": false
   },
   "outputs": [
    {
     "name": "stderr",
     "output_type": "stream",
     "text": [
      "/Users/Honors/anaconda/envs/geoplot/lib/python3.5/site-packages/matplotlib/pyplot.py:524: RuntimeWarning: More than 20 figures have been opened. Figures created through the pyplot interface (`matplotlib.pyplot.figure`) are retained until explicitly closed and may consume too much memory. (To control this warning, see the rcParam `figure.max_open_warning`).\n",
      "  max_open_warning, RuntimeWarning)\n"
     ]
    }
   ],
   "source": [
    "ax = gplt.kdeplot(collisions, projection=gcrs.AlbersEqualArea())\n",
    "gplt.polyplot(boroughs, projection=gcrs.AlbersEqualArea(), ax=ax)\n",
    "plt.savefig('../figures/kdeplot/kdeplot-overlay.png', **savefig_kwargs)"
   ]
  },
  {
   "cell_type": "code",
   "execution_count": 66,
   "metadata": {
    "collapsed": false
   },
   "outputs": [
    {
     "name": "stderr",
     "output_type": "stream",
     "text": [
      "/Users/Honors/anaconda/envs/geoplot/lib/python3.5/site-packages/matplotlib/pyplot.py:524: RuntimeWarning: More than 20 figures have been opened. Figures created through the pyplot interface (`matplotlib.pyplot.figure`) are retained until explicitly closed and may consume too much memory. (To control this warning, see the rcParam `figure.max_open_warning`).\n",
      "  max_open_warning, RuntimeWarning)\n"
     ]
    }
   ],
   "source": [
    "ax = gplt.kdeplot(collisions, projection=gcrs.AlbersEqualArea(), shade=True)\n",
    "gplt.polyplot(boroughs, projection=gcrs.AlbersEqualArea(), ax=ax)\n",
    "plt.savefig('../figures/kdeplot/kdeplot-shade.png', **savefig_kwargs)"
   ]
  },
  {
   "cell_type": "code",
   "execution_count": 67,
   "metadata": {
    "collapsed": false
   },
   "outputs": [
    {
     "name": "stderr",
     "output_type": "stream",
     "text": [
      "/Users/Honors/anaconda/envs/geoplot/lib/python3.5/site-packages/matplotlib/pyplot.py:524: RuntimeWarning: More than 20 figures have been opened. Figures created through the pyplot interface (`matplotlib.pyplot.figure`) are retained until explicitly closed and may consume too much memory. (To control this warning, see the rcParam `figure.max_open_warning`).\n",
      "  max_open_warning, RuntimeWarning)\n"
     ]
    }
   ],
   "source": [
    "ax = gplt.kdeplot(collisions, projection=gcrs.AlbersEqualArea(), n_levels=30)\n",
    "gplt.polyplot(boroughs, projection=gcrs.AlbersEqualArea(), ax=ax)\n",
    "plt.savefig('../figures/kdeplot/kdeplot-n-levels.png', **savefig_kwargs)"
   ]
  },
  {
   "cell_type": "code",
   "execution_count": 68,
   "metadata": {
    "collapsed": false
   },
   "outputs": [
    {
     "name": "stderr",
     "output_type": "stream",
     "text": [
      "/Users/Honors/anaconda/envs/geoplot/lib/python3.5/site-packages/matplotlib/pyplot.py:524: RuntimeWarning: More than 20 figures have been opened. Figures created through the pyplot interface (`matplotlib.pyplot.figure`) are retained until explicitly closed and may consume too much memory. (To control this warning, see the rcParam `figure.max_open_warning`).\n",
      "  max_open_warning, RuntimeWarning)\n"
     ]
    }
   ],
   "source": [
    "ax = gplt.kdeplot(collisions, projection=gcrs.AlbersEqualArea(), cmap='Purples')\n",
    "gplt.polyplot(boroughs, projection=gcrs.AlbersEqualArea(), ax=ax)\n",
    "plt.savefig('../figures/kdeplot/kdeplot-cmap.png', **savefig_kwargs)"
   ]
  },
  {
   "cell_type": "code",
   "execution_count": 69,
   "metadata": {
    "collapsed": false,
    "scrolled": true
   },
   "outputs": [
    {
     "name": "stderr",
     "output_type": "stream",
     "text": [
      "/Users/Honors/anaconda/envs/geoplot/lib/python3.5/site-packages/matplotlib/pyplot.py:524: RuntimeWarning: More than 20 figures have been opened. Figures created through the pyplot interface (`matplotlib.pyplot.figure`) are retained until explicitly closed and may consume too much memory. (To control this warning, see the rcParam `figure.max_open_warning`).\n",
      "  max_open_warning, RuntimeWarning)\n"
     ]
    }
   ],
   "source": [
    "ax = gplt.kdeplot(collisions, projection=gcrs.AlbersEqualArea(),\n",
    "                  shade=True, clip=boroughs.geometry)\n",
    "gplt.polyplot(boroughs, projection=gcrs.AlbersEqualArea(), ax=ax)\n",
    "plt.savefig('../figures/kdeplot/kdeplot-clip.png', **savefig_kwargs)"
   ]
  },
  {
   "cell_type": "markdown",
   "metadata": {},
   "source": [
    "## Sankey"
   ]
  },
  {
   "cell_type": "code",
   "execution_count": 35,
   "metadata": {
    "collapsed": true
   },
   "outputs": [],
   "source": [
    "from shapely.geometry import Point\n",
    "starting_points = gpd.GeoSeries([Point(-90, 45), Point(20, 45)])\n",
    "ending_points = gpd.GeoSeries([Point(45, 45), Point(35, 0)])\n",
    "mock_data = pd.DataFrame(data={'origin': starting_points, 'destination': ending_points})"
   ]
  },
  {
   "cell_type": "code",
   "execution_count": 36,
   "metadata": {
    "collapsed": false
   },
   "outputs": [
    {
     "name": "stderr",
     "output_type": "stream",
     "text": [
      "/Users/Honors/anaconda/envs/geoplot/lib/python3.5/site-packages/matplotlib/pyplot.py:524: RuntimeWarning: More than 20 figures have been opened. Figures created through the pyplot interface (`matplotlib.pyplot.figure`) are retained until explicitly closed and may consume too much memory. (To control this warning, see the rcParam `figure.max_open_warning`).\n",
      "  max_open_warning, RuntimeWarning)\n"
     ]
    }
   ],
   "source": [
    "gplt.sankey(mock_data, start='origin', end='destination', projection=gcrs.PlateCarree())\n",
    "plt.savefig('../figures/sankey/sankey-initial.png', **savefig_kwargs)"
   ]
  },
  {
   "cell_type": "code",
   "execution_count": 37,
   "metadata": {
    "collapsed": false
   },
   "outputs": [
    {
     "name": "stderr",
     "output_type": "stream",
     "text": [
      "/Users/Honors/anaconda/envs/geoplot/lib/python3.5/site-packages/matplotlib/pyplot.py:524: RuntimeWarning: More than 20 figures have been opened. Figures created through the pyplot interface (`matplotlib.pyplot.figure`) are retained until explicitly closed and may consume too much memory. (To control this warning, see the rcParam `figure.max_open_warning`).\n",
      "  max_open_warning, RuntimeWarning)\n"
     ]
    }
   ],
   "source": [
    "ax = gplt.sankey(mock_data, start='origin', end='destination', projection=gcrs.PlateCarree())\n",
    "ax.coastlines()\n",
    "plt.savefig('../figures/sankey/sankey-geospatial-context.png', **savefig_kwargs)"
   ]
  },
  {
   "cell_type": "code",
   "execution_count": 38,
   "metadata": {
    "collapsed": false
   },
   "outputs": [],
   "source": [
    "network = utils.uniform_random_global_network()"
   ]
  },
  {
   "cell_type": "code",
   "execution_count": 39,
   "metadata": {
    "collapsed": false
   },
   "outputs": [
    {
     "name": "stderr",
     "output_type": "stream",
     "text": [
      "/Users/Honors/anaconda/envs/geoplot/lib/python3.5/site-packages/matplotlib/pyplot.py:524: RuntimeWarning: More than 20 figures have been opened. Figures created through the pyplot interface (`matplotlib.pyplot.figure`) are retained until explicitly closed and may consume too much memory. (To control this warning, see the rcParam `figure.max_open_warning`).\n",
      "  max_open_warning, RuntimeWarning)\n"
     ]
    }
   ],
   "source": [
    "ax = gplt.sankey(projection=gcrs.PlateCarree(), start=network['from'], end=network['to'])\n",
    "ax.set_global()\n",
    "ax.coastlines()\n",
    "plt.savefig('../figures/sankey/sankey-alternative-method-signature.png', **savefig_kwargs)"
   ]
  },
  {
   "cell_type": "code",
   "execution_count": 40,
   "metadata": {
    "collapsed": false
   },
   "outputs": [
    {
     "name": "stderr",
     "output_type": "stream",
     "text": [
      "/Users/Honors/anaconda/envs/geoplot/lib/python3.5/site-packages/matplotlib/pyplot.py:524: RuntimeWarning: More than 20 figures have been opened. Figures created through the pyplot interface (`matplotlib.pyplot.figure`) are retained until explicitly closed and may consume too much memory. (To control this warning, see the rcParam `figure.max_open_warning`).\n",
      "  max_open_warning, RuntimeWarning)\n"
     ]
    }
   ],
   "source": [
    "ax = gplt.sankey(projection=gcrs.Orthographic(), start=network['from'], end=network['to'],\n",
    "                 extent=(-180, 180, -90, 90))\n",
    "ax.set_global()\n",
    "ax.coastlines()\n",
    "ax.outline_patch.set_visible(True)\n",
    "plt.savefig('../figures/sankey/sankey-greatest-circle-distance.png', **savefig_kwargs)"
   ]
  },
  {
   "cell_type": "code",
   "execution_count": 41,
   "metadata": {
    "collapsed": false
   },
   "outputs": [
    {
     "name": "stderr",
     "output_type": "stream",
     "text": [
      "/Users/Honors/anaconda/envs/geoplot/lib/python3.5/site-packages/matplotlib/pyplot.py:524: RuntimeWarning: More than 20 figures have been opened. Figures created through the pyplot interface (`matplotlib.pyplot.figure`) are retained until explicitly closed and may consume too much memory. (To control this warning, see the rcParam `figure.max_open_warning`).\n",
      "  max_open_warning, RuntimeWarning)\n"
     ]
    }
   ],
   "source": [
    "from cartopy.crs import PlateCarree\n",
    "\n",
    "ax = gplt.sankey(projection=gcrs.PlateCarree(), start=network['from'], end=network['to'],\n",
    "                 path=PlateCarree())\n",
    "ax.set_global()\n",
    "ax.coastlines()\n",
    "plt.savefig('../figures/sankey/sankey-path-projection.png', **savefig_kwargs)"
   ]
  },
  {
   "cell_type": "code",
   "execution_count": 45,
   "metadata": {
    "collapsed": false
   },
   "outputs": [
    {
     "name": "stderr",
     "output_type": "stream",
     "text": [
      "/Users/Honors/anaconda/envs/geoplot/lib/python3.5/site-packages/matplotlib/pyplot.py:524: RuntimeWarning: More than 20 figures have been opened. Figures created through the pyplot interface (`matplotlib.pyplot.figure`) are retained until explicitly closed and may consume too much memory. (To control this warning, see the rcParam `figure.max_open_warning`).\n",
      "  max_open_warning, RuntimeWarning)\n"
     ]
    }
   ],
   "source": [
    "gplt.sankey(dc, path=dc.geometry, projection=gcrs.AlbersEqualArea(), scale='aadt',\n",
    "            limits=(0.1, 10))\n",
    "plt.savefig('../figures/sankey/sankey-path.png', **savefig_kwargs)"
   ]
  },
  {
   "cell_type": "code",
   "execution_count": 46,
   "metadata": {
    "collapsed": false,
    "scrolled": false
   },
   "outputs": [
    {
     "name": "stderr",
     "output_type": "stream",
     "text": [
      "/Users/Honors/anaconda/envs/geoplot/lib/python3.5/site-packages/matplotlib/pyplot.py:524: RuntimeWarning: More than 20 figures have been opened. Figures created through the pyplot interface (`matplotlib.pyplot.figure`) are retained until explicitly closed and may consume too much memory. (To control this warning, see the rcParam `figure.max_open_warning`).\n",
      "  max_open_warning, RuntimeWarning)\n"
     ]
    }
   ],
   "source": [
    "ax = gplt.sankey(network, projection=gcrs.PlateCarree(),\n",
    "                 start='from', end='to',\n",
    "                 hue='mock_variable')\n",
    "ax.set_global()\n",
    "ax.coastlines()\n",
    "plt.savefig('../figures/sankey/sankey-hue.png', **savefig_kwargs)"
   ]
  },
  {
   "cell_type": "code",
   "execution_count": 47,
   "metadata": {
    "collapsed": false
   },
   "outputs": [
    {
     "name": "stderr",
     "output_type": "stream",
     "text": [
      "/Users/Honors/anaconda/envs/geoplot/lib/python3.5/site-packages/matplotlib/pyplot.py:524: RuntimeWarning: More than 20 figures have been opened. Figures created through the pyplot interface (`matplotlib.pyplot.figure`) are retained until explicitly closed and may consume too much memory. (To control this warning, see the rcParam `figure.max_open_warning`).\n",
      "  max_open_warning, RuntimeWarning)\n"
     ]
    }
   ],
   "source": [
    "ax = gplt.sankey(network, projection=gcrs.PlateCarree(),\n",
    "                 start='from', end='to',\n",
    "                 hue='mock_variable', cmap='RdYlBu')\n",
    "ax.set_global()\n",
    "ax.coastlines()\n",
    "plt.savefig('../figures/sankey/sankey-cmap.png', **savefig_kwargs)"
   ]
  },
  {
   "cell_type": "code",
   "execution_count": 48,
   "metadata": {
    "collapsed": false
   },
   "outputs": [
    {
     "name": "stderr",
     "output_type": "stream",
     "text": [
      "/Users/Honors/anaconda/envs/geoplot/lib/python3.5/site-packages/matplotlib/pyplot.py:524: RuntimeWarning: More than 20 figures have been opened. Figures created through the pyplot interface (`matplotlib.pyplot.figure`) are retained until explicitly closed and may consume too much memory. (To control this warning, see the rcParam `figure.max_open_warning`).\n",
      "  max_open_warning, RuntimeWarning)\n"
     ]
    }
   ],
   "source": [
    "ax = gplt.sankey(network, projection=gcrs.PlateCarree(),\n",
    "                 start='from', end='to',\n",
    "                 hue='mock_variable', cmap='RdYlBu',\n",
    "                 legend=True)\n",
    "ax.set_global()\n",
    "ax.coastlines()\n",
    "plt.savefig('../figures/sankey/sankey-legend.png', **savefig_kwargs)"
   ]
  },
  {
   "cell_type": "code",
   "execution_count": 49,
   "metadata": {
    "collapsed": false
   },
   "outputs": [
    {
     "name": "stderr",
     "output_type": "stream",
     "text": [
      "/Users/Honors/anaconda/envs/geoplot/lib/python3.5/site-packages/matplotlib/pyplot.py:524: RuntimeWarning: More than 20 figures have been opened. Figures created through the pyplot interface (`matplotlib.pyplot.figure`) are retained until explicitly closed and may consume too much memory. (To control this warning, see the rcParam `figure.max_open_warning`).\n",
      "  max_open_warning, RuntimeWarning)\n"
     ]
    }
   ],
   "source": [
    "ax = gplt.sankey(network, projection=gcrs.PlateCarree(),\n",
    "                 start='from', end='to',\n",
    "                 hue='mock_variable', cmap='RdYlBu',\n",
    "                 legend=True, legend_kwargs={'bbox_to_anchor': (1.1, 1.0)})\n",
    "ax.set_global()\n",
    "ax.coastlines()\n",
    "plt.savefig('../figures/sankey/sankey-legend-kwargs.png', **savefig_kwargs)"
   ]
  },
  {
   "cell_type": "code",
   "execution_count": 50,
   "metadata": {
    "collapsed": false
   },
   "outputs": [
    {
     "name": "stderr",
     "output_type": "stream",
     "text": [
      "/Users/Honors/anaconda/envs/geoplot/lib/python3.5/site-packages/matplotlib/pyplot.py:524: RuntimeWarning: More than 20 figures have been opened. Figures created through the pyplot interface (`matplotlib.pyplot.figure`) are retained until explicitly closed and may consume too much memory. (To control this warning, see the rcParam `figure.max_open_warning`).\n",
      "  max_open_warning, RuntimeWarning)\n"
     ]
    }
   ],
   "source": [
    "ax = gplt.sankey(network, projection=gcrs.PlateCarree(),\n",
    "                 start='from', end='to',\n",
    "                 hue='mock_variable', cmap='RdYlBu',\n",
    "                 legend=True, legend_kwargs={'bbox_to_anchor': (1.1, 1.0)},\n",
    "                 legend_labels=['Very Low', 'Low', 'Average', 'High', 'Very High'])\n",
    "ax.set_global()\n",
    "ax.coastlines()\n",
    "plt.savefig('../figures/sankey/sankey-legend-labels.png', **savefig_kwargs)"
   ]
  },
  {
   "cell_type": "code",
   "execution_count": 51,
   "metadata": {
    "collapsed": false
   },
   "outputs": [
    {
     "name": "stderr",
     "output_type": "stream",
     "text": [
      "/Users/Honors/anaconda/envs/geoplot/lib/python3.5/site-packages/matplotlib/pyplot.py:524: RuntimeWarning: More than 20 figures have been opened. Figures created through the pyplot interface (`matplotlib.pyplot.figure`) are retained until explicitly closed and may consume too much memory. (To control this warning, see the rcParam `figure.max_open_warning`).\n",
      "  max_open_warning, RuntimeWarning)\n"
     ]
    }
   ],
   "source": [
    "ax = gplt.sankey(network, projection=gcrs.PlateCarree(),\n",
    "                 start='from', end='to',\n",
    "                 hue='mock_variable', cmap='RdYlBu',\n",
    "                 legend=True, legend_kwargs={'bbox_to_anchor': (1.1, 1.0)},\n",
    "                 k=3)\n",
    "ax.set_global()\n",
    "ax.coastlines()\n",
    "plt.savefig('../figures/sankey/sankey-k.png', **savefig_kwargs)"
   ]
  },
  {
   "cell_type": "code",
   "execution_count": 52,
   "metadata": {
    "collapsed": false
   },
   "outputs": [
    {
     "name": "stderr",
     "output_type": "stream",
     "text": [
      "/Users/Honors/anaconda/envs/geoplot/lib/python3.5/site-packages/matplotlib/pyplot.py:524: RuntimeWarning: More than 20 figures have been opened. Figures created through the pyplot interface (`matplotlib.pyplot.figure`) are retained until explicitly closed and may consume too much memory. (To control this warning, see the rcParam `figure.max_open_warning`).\n",
      "  max_open_warning, RuntimeWarning)\n"
     ]
    }
   ],
   "source": [
    "ax = gplt.sankey(network, projection=gcrs.PlateCarree(),\n",
    "                 start='from', end='to',\n",
    "                 hue='mock_variable', cmap='RdYlBu',\n",
    "                 legend=True, legend_kwargs={'bbox_to_anchor': (1.1, 1.0)},\n",
    "                 k=3, scheme='equal_interval')\n",
    "ax.set_global()\n",
    "ax.coastlines()\n",
    "plt.savefig('../figures/sankey/sankey-scheme.png', **savefig_kwargs)"
   ]
  },
  {
   "cell_type": "code",
   "execution_count": 53,
   "metadata": {
    "collapsed": false
   },
   "outputs": [],
   "source": [
    "network['above_meridian'] = network['from'].map(lambda point: point.y > 0)"
   ]
  },
  {
   "cell_type": "code",
   "execution_count": 54,
   "metadata": {
    "collapsed": false
   },
   "outputs": [
    {
     "name": "stderr",
     "output_type": "stream",
     "text": [
      "/Users/Honors/anaconda/envs/geoplot/lib/python3.5/site-packages/matplotlib/pyplot.py:524: RuntimeWarning: More than 20 figures have been opened. Figures created through the pyplot interface (`matplotlib.pyplot.figure`) are retained until explicitly closed and may consume too much memory. (To control this warning, see the rcParam `figure.max_open_warning`).\n",
      "  max_open_warning, RuntimeWarning)\n"
     ]
    }
   ],
   "source": [
    "ax = gplt.sankey(network, projection=gcrs.PlateCarree(),\n",
    "                 start='from', end='to',\n",
    "                 hue='above_meridian', cmap='RdYlBu',\n",
    "                 legend=True, legend_kwargs={'bbox_to_anchor': (1.1, 1.0)},\n",
    "                 categorical=True)\n",
    "ax.set_global()\n",
    "ax.coastlines()\n",
    "plt.savefig('../figures/sankey/sankey-categorical.png', **savefig_kwargs)"
   ]
  },
  {
   "cell_type": "code",
   "execution_count": 55,
   "metadata": {
    "collapsed": false
   },
   "outputs": [],
   "source": [
    "network['mock_data'] = [np.random.normal(100, 50) for _ in range(len(network))]"
   ]
  },
  {
   "cell_type": "code",
   "execution_count": 56,
   "metadata": {
    "collapsed": false
   },
   "outputs": [
    {
     "name": "stderr",
     "output_type": "stream",
     "text": [
      "/Users/Honors/anaconda/envs/geoplot/lib/python3.5/site-packages/matplotlib/pyplot.py:524: RuntimeWarning: More than 20 figures have been opened. Figures created through the pyplot interface (`matplotlib.pyplot.figure`) are retained until explicitly closed and may consume too much memory. (To control this warning, see the rcParam `figure.max_open_warning`).\n",
      "  max_open_warning, RuntimeWarning)\n"
     ]
    }
   ],
   "source": [
    "ax = gplt.sankey(network, projection=gcrs.PlateCarree(),\n",
    "                 start='from', end='to',\n",
    "                 scale='mock_data',\n",
    "                 legend=True, legend_kwargs={'bbox_to_anchor': (1.1, 1.0)},\n",
    "                 color='lightblue')\n",
    "ax.set_global()\n",
    "ax.coastlines()\n",
    "plt.savefig('../figures/sankey/sankey-scale.png', **savefig_kwargs)"
   ]
  },
  {
   "cell_type": "code",
   "execution_count": 57,
   "metadata": {
    "collapsed": false
   },
   "outputs": [
    {
     "name": "stderr",
     "output_type": "stream",
     "text": [
      "/Users/Honors/anaconda/envs/geoplot/lib/python3.5/site-packages/matplotlib/pyplot.py:524: RuntimeWarning: More than 20 figures have been opened. Figures created through the pyplot interface (`matplotlib.pyplot.figure`) are retained until explicitly closed and may consume too much memory. (To control this warning, see the rcParam `figure.max_open_warning`).\n",
      "  max_open_warning, RuntimeWarning)\n"
     ]
    }
   ],
   "source": [
    "ax = gplt.sankey(network, projection=gcrs.PlateCarree(),\n",
    "                 start='from', end='to',\n",
    "                 scale='mock_data', limits=(1, 3),\n",
    "                 legend=True, legend_kwargs={'bbox_to_anchor': (1.1, 1.0)},\n",
    "                 color='lightblue')\n",
    "ax.set_global()\n",
    "ax.coastlines()\n",
    "plt.savefig('../figures/sankey/sankey-limits.png', **savefig_kwargs)"
   ]
  },
  {
   "cell_type": "code",
   "execution_count": 58,
   "metadata": {
    "collapsed": false
   },
   "outputs": [
    {
     "name": "stderr",
     "output_type": "stream",
     "text": [
      "/Users/Honors/anaconda/envs/geoplot/lib/python3.5/site-packages/matplotlib/pyplot.py:524: RuntimeWarning: More than 20 figures have been opened. Figures created through the pyplot interface (`matplotlib.pyplot.figure`) are retained until explicitly closed and may consume too much memory. (To control this warning, see the rcParam `figure.max_open_warning`).\n",
      "  max_open_warning, RuntimeWarning)\n"
     ]
    }
   ],
   "source": [
    "def trivial_scale(minval, maxval):\n",
    "    def scalar(val):\n",
    "        return 2\n",
    "    return scalar\n",
    "\n",
    "ax = gplt.sankey(network, projection=gcrs.PlateCarree(),\n",
    "                 start='from', end='to',\n",
    "                 scale='mock_data', scale_func=trivial_scale,\n",
    "                 legend=True, legend_kwargs={'bbox_to_anchor': (1.1, 1.0)},\n",
    "                 color='lightblue')\n",
    "ax.set_global()\n",
    "ax.coastlines()\n",
    "plt.savefig('../figures/sankey/sankey-scale-func.png', **savefig_kwargs)"
   ]
  },
  {
   "cell_type": "code",
   "execution_count": 59,
   "metadata": {
    "collapsed": false
   },
   "outputs": [
    {
     "name": "stderr",
     "output_type": "stream",
     "text": [
      "/Users/Honors/anaconda/envs/geoplot/lib/python3.5/site-packages/matplotlib/pyplot.py:524: RuntimeWarning: More than 20 figures have been opened. Figures created through the pyplot interface (`matplotlib.pyplot.figure`) are retained until explicitly closed and may consume too much memory. (To control this warning, see the rcParam `figure.max_open_warning`).\n",
      "  max_open_warning, RuntimeWarning)\n"
     ]
    }
   ],
   "source": [
    "ax = gplt.sankey(network, projection=gcrs.PlateCarree(),\n",
    "                 start='from', end='to',\n",
    "                 scale='mock_data',\n",
    "                 legend=True, legend_kwargs={'bbox_to_anchor': (1.1, 1.0)},\n",
    "                 hue='mock_data', legend_var=\"hue\")\n",
    "ax.set_global()\n",
    "ax.coastlines()\n",
    "plt.savefig('../figures/sankey/sankey-legend-var.png', **savefig_kwargs)"
   ]
  }
 ],
 "metadata": {
  "anaconda-cloud": {},
  "kernelspec": {
   "display_name": "Python [conda env:geoplot]",
   "language": "python",
   "name": "conda-env-geoplot-py"
  },
  "language_info": {
   "codemirror_mode": {
    "name": "ipython",
    "version": 3
   },
   "file_extension": ".py",
   "mimetype": "text/x-python",
   "name": "python",
   "nbconvert_exporter": "python",
   "pygments_lexer": "ipython3",
   "version": "3.5.2"
  }
 },
 "nbformat": 4,
 "nbformat_minor": 0
}
