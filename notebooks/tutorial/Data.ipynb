{
 "cells": [
  {
   "cell_type": "markdown",
   "metadata": {},
   "source": [
    "## Working with Geospatial Data\n",
    "\n",
    "In order to understand how to use ``geoplot``, we need to understand a bit about the format it expects to recieves its data in: a ``geopandas`` ``GeoDataFrame``.\n",
    "\n",
    "The ``GeoDataFrame`` is an augmented version of a ``pandas`` ``DataFrame`` with an attached geometry:"
   ]
  },
  {
   "cell_type": "code",
   "execution_count": 7,
   "metadata": {
    "collapsed": false
   },
   "outputs": [
    {
     "data": {
      "text/html": [
       "<div>\n",
       "<table border=\"1\" class=\"dataframe\">\n",
       "  <thead>\n",
       "    <tr style=\"text-align: right;\">\n",
       "      <th></th>\n",
       "      <th>BoroCode</th>\n",
       "      <th>BoroName</th>\n",
       "      <th>Shape_Area</th>\n",
       "      <th>Shape_Leng</th>\n",
       "      <th>geometry</th>\n",
       "    </tr>\n",
       "  </thead>\n",
       "  <tbody>\n",
       "    <tr>\n",
       "      <th>0</th>\n",
       "      <td>5</td>\n",
       "      <td>Staten Island</td>\n",
       "      <td>1.623853e+09</td>\n",
       "      <td>330385.03697</td>\n",
       "      <td>(POLYGON ((-74.05050806403247 40.5664220341608...</td>\n",
       "    </tr>\n",
       "    <tr>\n",
       "      <th>1</th>\n",
       "      <td>4</td>\n",
       "      <td>Queens</td>\n",
       "      <td>3.049947e+09</td>\n",
       "      <td>861038.47930</td>\n",
       "      <td>(POLYGON ((-73.83668274106708 40.5949466970158...</td>\n",
       "    </tr>\n",
       "    <tr>\n",
       "      <th>2</th>\n",
       "      <td>3</td>\n",
       "      <td>Brooklyn</td>\n",
       "      <td>1.959432e+09</td>\n",
       "      <td>726568.94634</td>\n",
       "      <td>(POLYGON ((-73.8670614947212 40.58208797679338...</td>\n",
       "    </tr>\n",
       "    <tr>\n",
       "      <th>3</th>\n",
       "      <td>1</td>\n",
       "      <td>Manhattan</td>\n",
       "      <td>6.364422e+08</td>\n",
       "      <td>358532.95642</td>\n",
       "      <td>(POLYGON ((-74.01092841268033 40.6844914725429...</td>\n",
       "    </tr>\n",
       "    <tr>\n",
       "      <th>4</th>\n",
       "      <td>2</td>\n",
       "      <td>Bronx</td>\n",
       "      <td>1.186804e+09</td>\n",
       "      <td>464517.89055</td>\n",
       "      <td>(POLYGON ((-73.89680883223775 40.7958084451597...</td>\n",
       "    </tr>\n",
       "  </tbody>\n",
       "</table>\n",
       "</div>"
      ],
      "text/plain": [
       "   BoroCode       BoroName    Shape_Area    Shape_Leng  \\\n",
       "0         5  Staten Island  1.623853e+09  330385.03697   \n",
       "1         4         Queens  3.049947e+09  861038.47930   \n",
       "2         3       Brooklyn  1.959432e+09  726568.94634   \n",
       "3         1      Manhattan  6.364422e+08  358532.95642   \n",
       "4         2          Bronx  1.186804e+09  464517.89055   \n",
       "\n",
       "                                            geometry  \n",
       "0  (POLYGON ((-74.05050806403247 40.5664220341608...  \n",
       "1  (POLYGON ((-73.83668274106708 40.5949466970158...  \n",
       "2  (POLYGON ((-73.8670614947212 40.58208797679338...  \n",
       "3  (POLYGON ((-74.01092841268033 40.6844914725429...  \n",
       "4  (POLYGON ((-73.89680883223775 40.7958084451597...  "
      ]
     },
     "execution_count": 7,
     "metadata": {},
     "output_type": "execute_result"
    }
   ],
   "source": [
    "import pandas as pd; pd.set_option('max_columns', 6)  # Unclutter display.\n",
    "\n",
    "import geopandas as gpd\n",
    "boroughs = gpd.read_file(\"../../data/nyc_boroughs/boroughs.geojson\", driver='GeoJSON')\n",
    "boroughs"
   ]
  },
  {
   "cell_type": "markdown",
   "metadata": {},
   "source": [
    "Any operation that will work on a ``DataFrame`` will work on a ``GeoDataFrame``, but the latter adds a few additional\n",
    "methods and features for dealing with geometry not present in the former. The most obvious of these is the addition\n",
    "of a column for storing geometries, accessible using the ``geometry`` attribute:"
   ]
  },
  {
   "cell_type": "code",
   "execution_count": 8,
   "metadata": {
    "collapsed": false
   },
   "outputs": [
    {
     "data": {
      "text/plain": [
       "0    (POLYGON ((-74.05050806403247 40.5664220341608...\n",
       "1    (POLYGON ((-73.83668274106708 40.5949466970158...\n",
       "2    (POLYGON ((-73.8670614947212 40.58208797679338...\n",
       "3    (POLYGON ((-74.01092841268033 40.6844914725429...\n",
       "4    (POLYGON ((-73.89680883223775 40.7958084451597...\n",
       "Name: geometry, dtype: object"
      ]
     },
     "execution_count": 8,
     "metadata": {},
     "output_type": "execute_result"
    }
   ],
   "source": [
    "boroughs.geometry"
   ]
  },
  {
   "cell_type": "markdown",
   "metadata": {},
   "source": [
    "That geometry is stored with reference to some kind of [coordinate reference system](https://en.wikipedia.org/wiki/Spatial_reference_system), or CRS. You can extract what CRS your polygons are stored in using the `crs` attribute:"
   ]
  },
  {
   "cell_type": "code",
   "execution_count": 9,
   "metadata": {
    "collapsed": false
   },
   "outputs": [
    {
     "data": {
      "text/plain": [
       "{'init': 'epsg:4326'}"
      ]
     },
     "execution_count": 9,
     "metadata": {},
     "output_type": "execute_result"
    }
   ],
   "source": [
    "boroughs.crs"
   ]
  },
  {
   "cell_type": "markdown",
   "metadata": {},
   "source": [
    "In this case `epsg:4326` is an identifier for what the rest of us more commonly refer to as \"longitude and latitude\". EPSG itself is a standardized system for refering to coordinate reference systems; [spatialreference.org](http://spatialreference.org/ref/epsg/wgs-84/) is the best place to look these identifiers up.\n",
    "\n",
    "Coordinate reference systems are, basically, different ways of mathematically calculating locations. Due to the complexity of the surface of the earth, different geographically sensitive systems of measurement are more or less useful for different tasks. For example, the United States Geolocial Service, which provides extremely high-accuracy maps of United States localities, maintains individual coordinate reference systems, refered to as \"state plane systems\", for the various states of the union. These are used throughout government, and look nothing like the latitude and longitude coordinates that we are generally more used to.\n",
    "\n",
    "For example, New York City approximately twice per year releases an updated version of MapPLUTO, a geospatial dataset which provides building footprint polygons for all buildings in New York City. This is the dataset which powers some pretty amazing visualizations, like [Bklynr's Brooklyn building age map](http://bklynr.com/block-by-block-brooklyns-past-and-present/)."
   ]
  },
  {
   "cell_type": "code",
   "execution_count": 10,
   "metadata": {
    "collapsed": false
   },
   "outputs": [
    {
     "data": {
      "text/html": [
       "<div>\n",
       "<table border=\"1\" class=\"dataframe\">\n",
       "  <thead>\n",
       "    <tr style=\"text-align: right;\">\n",
       "      <th></th>\n",
       "      <th>BLOCK</th>\n",
       "      <th>BORO</th>\n",
       "      <th>CREATED_BY</th>\n",
       "      <th>...</th>\n",
       "      <th>Shape_Area</th>\n",
       "      <th>Shape_Leng</th>\n",
       "      <th>geometry</th>\n",
       "    </tr>\n",
       "  </thead>\n",
       "  <tbody>\n",
       "    <tr>\n",
       "      <th>0</th>\n",
       "      <td>20009</td>\n",
       "      <td>1</td>\n",
       "      <td>None</td>\n",
       "      <td>...</td>\n",
       "      <td>10289.237892</td>\n",
       "      <td>836.495687</td>\n",
       "      <td>POLYGON ((986519.6798000038 200244.1201999933,...</td>\n",
       "    </tr>\n",
       "    <tr>\n",
       "      <th>1</th>\n",
       "      <td>20031</td>\n",
       "      <td>1</td>\n",
       "      <td>None</td>\n",
       "      <td>...</td>\n",
       "      <td>8943.539985</td>\n",
       "      <td>478.609196</td>\n",
       "      <td>POLYGON ((992017.6599999964 216103.8700000048,...</td>\n",
       "    </tr>\n",
       "    <tr>\n",
       "      <th>2</th>\n",
       "      <td>20027</td>\n",
       "      <td>1</td>\n",
       "      <td>None</td>\n",
       "      <td>...</td>\n",
       "      <td>10156.610383</td>\n",
       "      <td>486.181920</td>\n",
       "      <td>POLYGON ((991564.0900000036 215278.3798999935,...</td>\n",
       "    </tr>\n",
       "    <tr>\n",
       "      <th>3</th>\n",
       "      <td>20012</td>\n",
       "      <td>1</td>\n",
       "      <td>None</td>\n",
       "      <td>...</td>\n",
       "      <td>7657.969093</td>\n",
       "      <td>357.345276</td>\n",
       "      <td>POLYGON ((986364.6000999957 201496.4998999983,...</td>\n",
       "    </tr>\n",
       "    <tr>\n",
       "      <th>4</th>\n",
       "      <td>20067</td>\n",
       "      <td>1</td>\n",
       "      <td>None</td>\n",
       "      <td>...</td>\n",
       "      <td>9171.078777</td>\n",
       "      <td>479.281556</td>\n",
       "      <td>POLYGON ((995870.7099999934 223069.0699999928,...</td>\n",
       "    </tr>\n",
       "  </tbody>\n",
       "</table>\n",
       "<p>5 rows × 10 columns</p>\n",
       "</div>"
      ],
      "text/plain": [
       "   BLOCK BORO CREATED_BY                        ...                          \\\n",
       "0  20009    1       None                        ...                           \n",
       "1  20031    1       None                        ...                           \n",
       "2  20027    1       None                        ...                           \n",
       "3  20012    1       None                        ...                           \n",
       "4  20067    1       None                        ...                           \n",
       "\n",
       "     Shape_Area  Shape_Leng                                           geometry  \n",
       "0  10289.237892  836.495687  POLYGON ((986519.6798000038 200244.1201999933,...  \n",
       "1   8943.539985  478.609196  POLYGON ((992017.6599999964 216103.8700000048,...  \n",
       "2  10156.610383  486.181920  POLYGON ((991564.0900000036 215278.3798999935,...  \n",
       "3   7657.969093  357.345276  POLYGON ((986364.6000999957 201496.4998999983,...  \n",
       "4   9171.078777  479.281556  POLYGON ((995870.7099999934 223069.0699999928,...  \n",
       "\n",
       "[5 rows x 10 columns]"
      ]
     },
     "execution_count": 10,
     "metadata": {},
     "output_type": "execute_result"
    }
   ],
   "source": [
    "manhattan_buildings = gpd.read_file('../../data/manhattan_mappluto/MN_Dcp_Mappinglot.shp')\n",
    "manhattan_buildings.head()"
   ]
  },
  {
   "cell_type": "markdown",
   "metadata": {},
   "source": [
    "But, unlike our easy coordinates above, this data is stored in the Long Island State Plane coordinate reference system:"
   ]
  },
  {
   "cell_type": "code",
   "execution_count": 11,
   "metadata": {
    "collapsed": false
   },
   "outputs": [
    {
     "data": {
      "text/plain": [
       "0    POLYGON ((986519.6798000038 200244.1201999933,...\n",
       "1    POLYGON ((992017.6599999964 216103.8700000048,...\n",
       "2    POLYGON ((991564.0900000036 215278.3798999935,...\n",
       "3    POLYGON ((986364.6000999957 201496.4998999983,...\n",
       "4    POLYGON ((995870.7099999934 223069.0699999928,...\n",
       "Name: geometry, dtype: object"
      ]
     },
     "execution_count": 11,
     "metadata": {},
     "output_type": "execute_result"
    }
   ],
   "source": [
    "manhattan_buildings.geometry.head()"
   ]
  },
  {
   "cell_type": "markdown",
   "metadata": {},
   "source": [
    "The file we just read in provided embedded information about its coordinate reference system, which `geopandas` stores as a [proj4](https://github.com/OSGeo/proj.4) string:"
   ]
  },
  {
   "cell_type": "code",
   "execution_count": 12,
   "metadata": {
    "collapsed": false
   },
   "outputs": [
    {
     "data": {
      "text/plain": [
       "{'datum': 'NAD83',\n",
       " 'lat_0': 40.16666666666666,\n",
       " 'lat_1': 40.66666666666666,\n",
       " 'lat_2': 41.03333333333333,\n",
       " 'lon_0': -74,\n",
       " 'no_defs': True,\n",
       " 'proj': 'lcc',\n",
       " 'units': 'us-ft',\n",
       " 'x_0': 300000,\n",
       " 'y_0': 0}"
      ]
     },
     "execution_count": 12,
     "metadata": {},
     "output_type": "execute_result"
    }
   ],
   "source": [
    "manhattan_buildings.crs"
   ]
  },
  {
   "cell_type": "markdown",
   "metadata": {},
   "source": [
    "``geoplot`` expects its input to be in terms of latitude and longitude. This is required because it's so easy to do: to convert your data from one CRS to another, you can just use the `geopandas` `to_crs` method:"
   ]
  },
  {
   "cell_type": "code",
   "execution_count": 13,
   "metadata": {
    "collapsed": true
   },
   "outputs": [],
   "source": [
    "manhattan_buildings = manhattan_buildings.to_crs(epsg=4326)"
   ]
  },
  {
   "cell_type": "markdown",
   "metadata": {},
   "source": [
    "Now all of our building footprints are in ordinary coordinates! "
   ]
  },
  {
   "cell_type": "code",
   "execution_count": 15,
   "metadata": {
    "collapsed": false
   },
   "outputs": [
    {
     "data": {
      "text/plain": [
       "0    POLYGON ((-73.99181250685882 40.71630025841903...\n",
       "1    POLYGON ((-73.97196114404649 40.75982822136702...\n",
       "2    POLYGON ((-73.97359928976277 40.75756284914222...\n",
       "3    POLYGON ((-73.99237153770106 40.71973777834428...\n",
       "4    POLYGON ((-73.95804078098135 40.77894165663843...\n",
       "Name: geometry, dtype: object"
      ]
     },
     "execution_count": 15,
     "metadata": {},
     "output_type": "execute_result"
    }
   ],
   "source": [
    "manhattan_buildings.geometry.head()"
   ]
  },
  {
   "cell_type": "markdown",
   "metadata": {},
   "source": [
    "You should also know, at a minimum, that all of these geometries are always  [shapely](http://toblerity.org/shapely/manual.html) objects:"
   ]
  },
  {
   "cell_type": "code",
   "execution_count": 16,
   "metadata": {
    "collapsed": false
   },
   "outputs": [
    {
     "data": {
      "text/plain": [
       "shapely.geometry.polygon.Polygon"
      ]
     },
     "execution_count": 16,
     "metadata": {},
     "output_type": "execute_result"
    }
   ],
   "source": [
    "type(manhattan_buildings.geometry.iloc[0])"
   ]
  },
  {
   "cell_type": "code",
   "execution_count": 17,
   "metadata": {
    "collapsed": false
   },
   "outputs": [
    {
     "data": {
      "text/plain": [
       "shapely.geometry.multipolygon.MultiPolygon"
      ]
     },
     "execution_count": 17,
     "metadata": {},
     "output_type": "execute_result"
    }
   ],
   "source": [
    "type(boroughs.geometry.iloc[0])"
   ]
  },
  {
   "cell_type": "markdown",
   "metadata": {},
   "source": [
    "`shapely` provides a large API surface for any geometric transformation or operations that you can think of, and `geopandas` wraps many of these even further, creating a convenient way of getting \"classical\" GIS operations done on your data. Like `geopandas`, `shapely` is very well-documented, so to dive into these further [read the documentation](http://toblerity.org/shapely/manual.html).\n",
    "\n",
    "In this tutorial, we'll focus on one particular aspect of `shapely` which is likely to come up: defining your own geometries. A decision I made early on in the design stages of `geoplot` was mandating input as a `GeoDataFrame`, as doing so (as opposed to, say, also supporting `DataFrame` input) greatly simplifies both internal and external library design.\n",
    "\n",
    "However, in the cases above we read a GeoDataFrame straight out of geospatial files: our borough information was stored in the [GeoJSON](http://geojson.org/) format, while our building footprints were a [Shapefile](https://en.wikipedia.org/wiki/Shapefile). What if we have geospatial data embedded in an ordinary `CSV` or `JSON` file, which read into an ordinary `pandas` `DataFrame`?"
   ]
  },
  {
   "cell_type": "code",
   "execution_count": 19,
   "metadata": {
    "collapsed": false
   },
   "outputs": [
    {
     "data": {
      "text/html": [
       "<div>\n",
       "<table border=\"1\" class=\"dataframe\">\n",
       "  <thead>\n",
       "    <tr style=\"text-align: right;\">\n",
       "      <th></th>\n",
       "      <th>TIME</th>\n",
       "      <th>BOROUGH</th>\n",
       "      <th>ZIP CODE</th>\n",
       "      <th>...</th>\n",
       "      <th>VEHICLE TYPE CODE 3</th>\n",
       "      <th>VEHICLE TYPE CODE 4</th>\n",
       "      <th>VEHICLE TYPE CODE 5</th>\n",
       "    </tr>\n",
       "    <tr>\n",
       "      <th>DATE</th>\n",
       "      <th></th>\n",
       "      <th></th>\n",
       "      <th></th>\n",
       "      <th></th>\n",
       "      <th></th>\n",
       "      <th></th>\n",
       "      <th></th>\n",
       "    </tr>\n",
       "  </thead>\n",
       "  <tbody>\n",
       "    <tr>\n",
       "      <th>12/16/2014</th>\n",
       "      <td>17:00</td>\n",
       "      <td>NaN</td>\n",
       "      <td>NaN</td>\n",
       "      <td>...</td>\n",
       "      <td>NaN</td>\n",
       "      <td>NaN</td>\n",
       "      <td>NaN</td>\n",
       "    </tr>\n",
       "    <tr>\n",
       "      <th>10/21/2015</th>\n",
       "      <td>19:45</td>\n",
       "      <td>QUEENS</td>\n",
       "      <td>11691.0</td>\n",
       "      <td>...</td>\n",
       "      <td>NaN</td>\n",
       "      <td>NaN</td>\n",
       "      <td>NaN</td>\n",
       "    </tr>\n",
       "    <tr>\n",
       "      <th>08/12/2015</th>\n",
       "      <td>8:50</td>\n",
       "      <td>QUEENS</td>\n",
       "      <td>11103.0</td>\n",
       "      <td>...</td>\n",
       "      <td>UNKNOWN</td>\n",
       "      <td>NaN</td>\n",
       "      <td>NaN</td>\n",
       "    </tr>\n",
       "    <tr>\n",
       "      <th>08/04/2012</th>\n",
       "      <td>4:40</td>\n",
       "      <td>QUEENS</td>\n",
       "      <td>11102.0</td>\n",
       "      <td>...</td>\n",
       "      <td>PASSENGER VEHICLE</td>\n",
       "      <td>NaN</td>\n",
       "      <td>NaN</td>\n",
       "    </tr>\n",
       "    <tr>\n",
       "      <th>07/15/2016</th>\n",
       "      <td>10:50</td>\n",
       "      <td>BRONX</td>\n",
       "      <td>10456.0</td>\n",
       "      <td>...</td>\n",
       "      <td>NaN</td>\n",
       "      <td>NaN</td>\n",
       "      <td>NaN</td>\n",
       "    </tr>\n",
       "  </tbody>\n",
       "</table>\n",
       "<p>5 rows × 28 columns</p>\n",
       "</div>"
      ],
      "text/plain": [
       "             TIME BOROUGH  ZIP CODE         ...          VEHICLE TYPE CODE 3  \\\n",
       "DATE                                        ...                                \n",
       "12/16/2014  17:00     NaN       NaN         ...                          NaN   \n",
       "10/21/2015  19:45  QUEENS   11691.0         ...                          NaN   \n",
       "08/12/2015   8:50  QUEENS   11103.0         ...                      UNKNOWN   \n",
       "08/04/2012   4:40  QUEENS   11102.0         ...            PASSENGER VEHICLE   \n",
       "07/15/2016  10:50   BRONX   10456.0         ...                          NaN   \n",
       "\n",
       "            VEHICLE TYPE CODE 4 VEHICLE TYPE CODE 5  \n",
       "DATE                                                 \n",
       "12/16/2014                  NaN                 NaN  \n",
       "10/21/2015                  NaN                 NaN  \n",
       "08/12/2015                  NaN                 NaN  \n",
       "08/04/2012                  NaN                 NaN  \n",
       "07/15/2016                  NaN                 NaN  \n",
       "\n",
       "[5 rows x 28 columns]"
      ]
     },
     "execution_count": 19,
     "metadata": {},
     "output_type": "execute_result"
    }
   ],
   "source": [
    "collisions = pd.read_csv(\"../../data/nyc_collisions/NYPD_Motor_Vehicle_Collisions.csv\", index_col=0).sample(5000)\n",
    "collisions = collisions[collisions['LOCATION'].notnull()]\n",
    "collisions.head()"
   ]
  },
  {
   "cell_type": "code",
   "execution_count": 20,
   "metadata": {
    "collapsed": false
   },
   "outputs": [
    {
     "data": {
      "text/html": [
       "<div>\n",
       "<table border=\"1\" class=\"dataframe\">\n",
       "  <thead>\n",
       "    <tr style=\"text-align: right;\">\n",
       "      <th></th>\n",
       "      <th>LATITUDE</th>\n",
       "      <th>LONGITUDE</th>\n",
       "    </tr>\n",
       "    <tr>\n",
       "      <th>DATE</th>\n",
       "      <th></th>\n",
       "      <th></th>\n",
       "    </tr>\n",
       "  </thead>\n",
       "  <tbody>\n",
       "    <tr>\n",
       "      <th>12/16/2014</th>\n",
       "      <td>40.677672</td>\n",
       "      <td>-73.803327</td>\n",
       "    </tr>\n",
       "    <tr>\n",
       "      <th>10/21/2015</th>\n",
       "      <td>40.602834</td>\n",
       "      <td>-73.765749</td>\n",
       "    </tr>\n",
       "    <tr>\n",
       "      <th>08/12/2015</th>\n",
       "      <td>40.764354</td>\n",
       "      <td>-73.911304</td>\n",
       "    </tr>\n",
       "    <tr>\n",
       "      <th>08/04/2012</th>\n",
       "      <td>40.775731</td>\n",
       "      <td>-73.926023</td>\n",
       "    </tr>\n",
       "    <tr>\n",
       "      <th>07/15/2016</th>\n",
       "      <td>40.835011</td>\n",
       "      <td>-73.903520</td>\n",
       "    </tr>\n",
       "  </tbody>\n",
       "</table>\n",
       "</div>"
      ],
      "text/plain": [
       "             LATITUDE  LONGITUDE\n",
       "DATE                            \n",
       "12/16/2014  40.677672 -73.803327\n",
       "10/21/2015  40.602834 -73.765749\n",
       "08/12/2015  40.764354 -73.911304\n",
       "08/04/2012  40.775731 -73.926023\n",
       "07/15/2016  40.835011 -73.903520"
      ]
     },
     "execution_count": 20,
     "metadata": {},
     "output_type": "execute_result"
    }
   ],
   "source": [
    "collisions[['LATITUDE', 'LONGITUDE']].head()"
   ]
  },
  {
   "cell_type": "markdown",
   "metadata": {},
   "source": [
    "In that case we can import `shapely` directly, use it to define our own geometries, using the data from our `DataFrame`, and use that to initialize a `GeoDataFrame`."
   ]
  },
  {
   "cell_type": "code",
   "execution_count": 21,
   "metadata": {
    "collapsed": false
   },
   "outputs": [
    {
     "data": {
      "text/plain": [
       "DATE\n",
       "12/16/2014           POINT (-73.8033269 40.6776723)\n",
       "10/21/2015    POINT (-73.76574859999999 40.6028338)\n",
       "08/12/2015    POINT (-73.9113038 40.76435410000001)\n",
       "08/04/2012    POINT (-73.92602340000001 40.7757305)\n",
       "07/15/2016           POINT (-73.9035195 40.8350109)\n",
       "dtype: object"
      ]
     },
     "execution_count": 21,
     "metadata": {},
     "output_type": "execute_result"
    }
   ],
   "source": [
    "import shapely\n",
    "\n",
    "collision_points = collisions.apply(lambda srs: shapely.geometry.Point(srs['LONGITUDE'], srs['LATITUDE']),\n",
    "                                    axis='columns')\n",
    "collision_points.head()"
   ]
  },
  {
   "cell_type": "markdown",
   "metadata": {},
   "source": [
    "From there we pass this iterable of geometries to the `geometry` property of the `GeoDataFrame` initializer, and we're done!"
   ]
  },
  {
   "cell_type": "code",
   "execution_count": 22,
   "metadata": {
    "collapsed": false
   },
   "outputs": [
    {
     "data": {
      "text/html": [
       "<div>\n",
       "<table border=\"1\" class=\"dataframe\">\n",
       "  <thead>\n",
       "    <tr style=\"text-align: right;\">\n",
       "      <th></th>\n",
       "      <th>TIME</th>\n",
       "      <th>BOROUGH</th>\n",
       "      <th>ZIP CODE</th>\n",
       "      <th>...</th>\n",
       "      <th>VEHICLE TYPE CODE 4</th>\n",
       "      <th>VEHICLE TYPE CODE 5</th>\n",
       "      <th>geometry</th>\n",
       "    </tr>\n",
       "    <tr>\n",
       "      <th>DATE</th>\n",
       "      <th></th>\n",
       "      <th></th>\n",
       "      <th></th>\n",
       "      <th></th>\n",
       "      <th></th>\n",
       "      <th></th>\n",
       "      <th></th>\n",
       "    </tr>\n",
       "  </thead>\n",
       "  <tbody>\n",
       "    <tr>\n",
       "      <th>12/16/2014</th>\n",
       "      <td>17:00</td>\n",
       "      <td>NaN</td>\n",
       "      <td>NaN</td>\n",
       "      <td>...</td>\n",
       "      <td>NaN</td>\n",
       "      <td>NaN</td>\n",
       "      <td>POINT (-73.8033269 40.6776723)</td>\n",
       "    </tr>\n",
       "    <tr>\n",
       "      <th>10/21/2015</th>\n",
       "      <td>19:45</td>\n",
       "      <td>QUEENS</td>\n",
       "      <td>11691.0</td>\n",
       "      <td>...</td>\n",
       "      <td>NaN</td>\n",
       "      <td>NaN</td>\n",
       "      <td>POINT (-73.76574859999999 40.6028338)</td>\n",
       "    </tr>\n",
       "    <tr>\n",
       "      <th>08/12/2015</th>\n",
       "      <td>8:50</td>\n",
       "      <td>QUEENS</td>\n",
       "      <td>11103.0</td>\n",
       "      <td>...</td>\n",
       "      <td>NaN</td>\n",
       "      <td>NaN</td>\n",
       "      <td>POINT (-73.9113038 40.76435410000001)</td>\n",
       "    </tr>\n",
       "    <tr>\n",
       "      <th>08/04/2012</th>\n",
       "      <td>4:40</td>\n",
       "      <td>QUEENS</td>\n",
       "      <td>11102.0</td>\n",
       "      <td>...</td>\n",
       "      <td>NaN</td>\n",
       "      <td>NaN</td>\n",
       "      <td>POINT (-73.92602340000001 40.7757305)</td>\n",
       "    </tr>\n",
       "    <tr>\n",
       "      <th>07/15/2016</th>\n",
       "      <td>10:50</td>\n",
       "      <td>BRONX</td>\n",
       "      <td>10456.0</td>\n",
       "      <td>...</td>\n",
       "      <td>NaN</td>\n",
       "      <td>NaN</td>\n",
       "      <td>POINT (-73.9035195 40.8350109)</td>\n",
       "    </tr>\n",
       "  </tbody>\n",
       "</table>\n",
       "<p>5 rows × 29 columns</p>\n",
       "</div>"
      ],
      "text/plain": [
       "             TIME BOROUGH  ZIP CODE                  ...                    \\\n",
       "DATE                                                 ...                     \n",
       "12/16/2014  17:00     NaN       NaN                  ...                     \n",
       "10/21/2015  19:45  QUEENS   11691.0                  ...                     \n",
       "08/12/2015   8:50  QUEENS   11103.0                  ...                     \n",
       "08/04/2012   4:40  QUEENS   11102.0                  ...                     \n",
       "07/15/2016  10:50   BRONX   10456.0                  ...                     \n",
       "\n",
       "            VEHICLE TYPE CODE 4  VEHICLE TYPE CODE 5  \\\n",
       "DATE                                                   \n",
       "12/16/2014                  NaN                  NaN   \n",
       "10/21/2015                  NaN                  NaN   \n",
       "08/12/2015                  NaN                  NaN   \n",
       "08/04/2012                  NaN                  NaN   \n",
       "07/15/2016                  NaN                  NaN   \n",
       "\n",
       "                                         geometry  \n",
       "DATE                                               \n",
       "12/16/2014         POINT (-73.8033269 40.6776723)  \n",
       "10/21/2015  POINT (-73.76574859999999 40.6028338)  \n",
       "08/12/2015  POINT (-73.9113038 40.76435410000001)  \n",
       "08/04/2012  POINT (-73.92602340000001 40.7757305)  \n",
       "07/15/2016         POINT (-73.9035195 40.8350109)  \n",
       "\n",
       "[5 rows x 29 columns]"
      ]
     },
     "execution_count": 22,
     "metadata": {},
     "output_type": "execute_result"
    }
   ],
   "source": [
    "collisions_geocoded = gpd.GeoDataFrame(collisions, geometry=collision_points)\n",
    "collisions_geocoded.head(5)"
   ]
  },
  {
   "cell_type": "code",
   "execution_count": 23,
   "metadata": {
    "collapsed": false
   },
   "outputs": [
    {
     "data": {
      "text/plain": [
       "geopandas.geodataframe.GeoDataFrame"
      ]
     },
     "execution_count": 23,
     "metadata": {},
     "output_type": "execute_result"
    }
   ],
   "source": [
    "type(collisions_geocoded)"
   ]
  },
  {
   "cell_type": "markdown",
   "metadata": {},
   "source": [
    "In most cases, data with geospatial information provided in a CSV will be point data corresponding with individual coordinates. Sometimes, however, one may wish to define more complex geometry: square areas, for example, and *maybe* even complex polygons. While we won't cover these cases, they're quite similar to the extremely simple point case we've shown here. For further reference on such a task, refer to the `shapely` documentation."
   ]
  },
  {
   "cell_type": "markdown",
   "metadata": {},
   "source": [
    "[Click here to continue to the next section of the tutorial: \"Projections\"](./projections.html)."
   ]
  }
 ],
 "metadata": {
  "anaconda-cloud": {},
  "kernelspec": {
   "display_name": "Python [conda env:geoplot]",
   "language": "python",
   "name": "conda-env-geoplot-py"
  },
  "language_info": {
   "codemirror_mode": {
    "name": "ipython",
    "version": 3
   },
   "file_extension": ".py",
   "mimetype": "text/x-python",
   "name": "python",
   "nbconvert_exporter": "python",
   "pygments_lexer": "ipython3",
   "version": "3.5.2"
  }
 },
 "nbformat": 4,
 "nbformat_minor": 2
}
