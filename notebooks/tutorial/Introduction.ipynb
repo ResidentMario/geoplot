{
 "cells": [
  {
   "cell_type": "markdown",
   "metadata": {},
   "source": [
    "# Geoplot tutorial\n",
    "\n",
    "## Introduction\n",
    "\n",
    "``geoplot`` is a tool which fills a gap which I have perceived, in my own work, as a serious shortcoming in the\n",
    "geospatial Python ecosystem: the need for a high-level geospatial plotting library.\n",
    "\n",
    "Geospatial data is any form of data which has a location to it. Most of the data generated today has such a\n",
    "geospatial context, context which is, in turn, oftentimes important to understanding the data itself. Thanks to its\n",
    "ease-of-use and deep ecosystem, the Python programming language has emerged as a leading choice in the performance of\n",
    "data analytics, geospatial data analytics included.\n",
    "\n",
    "Though there are increasingly many options, the venerable ``matplotlib`` remains the core Python plotting tool.\n",
    "Nevertheless, we oftentimes don't interact with ``matplotlib`` directly; we instead use extensions built over it,\n",
    "like the ``pandas`` plotting facilities or ``seaborn``, to get our work done. Knowing how ``matplotlib`` operates is\n",
    "certainly helpful, but it's neither necessary to get started nor, usually, the fastest way to get something done.\n",
    "\n",
    "``geoplot`` aims to be ``seaborn`` for geospatial data. Hence it comes with the following built-in features:\n",
    "\n",
    "* **High-level plotting API**: ``geoplot`` is cartographic plotting for the 90% of use cases. All of the\n",
    "  standard-bearer maps that you've probably seen in your geography textbook are easily accessible, as are many more\n",
    "  novel options.\n",
    "* **Native projection support**: The most fundamental peculiarity of geospatial plotting is projection: how do you\n",
    "  unroll a sphere onto a flat surface (a map) in an accurate way? The answer depends on what you're trying to depict.\n",
    "  ``geoplot`` provides these options.\n",
    "* **Compatibility with matplotlib**: While ``matplotlib`` is not a good fit for working with geospatial data\n",
    "  directly, it's a format that's well-incorporated by other geospatial tools (``mplleaflet`` in particular). For\n",
    "  compatibility, ``geoplot`` provides an option for emiting pure ``matplotlib`` plots.\n",
    "* **Built with modern geospatial Python in mind**: Geospatial data is a fast-moving target in the Python ecosystem.\n",
    "  Innovations in recent years have made working with such data much easier than it was when e.g. matplotlib's\n",
    "  lower-level ``basemap`` tool was being developed, which ``geoplot`` leverages with an easy-to-use and widely\n",
    "  compatible API.\n",
    "\n",
    "``geoplot`` does this by leveraging two pre-existing libraries in particular: ``geopandas``, an extension to\n",
    "the mainstay ``pandas`` library with embedded geospatial data support, used for input; and ``cartopy``, a\n",
    "(``matplotlib``-based) low-level plotting library, used for output.\n",
    "\n",
    "The rest of this text is a tutorial on ``geoplot`` usage. It is written for the perspective of someone who has some\n",
    "existing familiarity with the existing data science ecosystem, but hasn't used the geospatial tools just yet. If you\n",
    "haven't worked with data before in Python and are thus unfamiliar with ``pandas``, you should refer to its\n",
    "documentation first - [10 Minutes to Pandas](http://pandas.pydata.org/pandas-docs/stable/10min.html) is one place\n",
    "where you can get started."
   ]
  },
  {
   "cell_type": "markdown",
   "metadata": {},
   "source": [
    "[Click here to continue to the next section of the tutorial: \"Working with Geospatial Data\"](./data.html)."
   ]
  }
 ],
 "metadata": {
  "anaconda-cloud": {},
  "kernelspec": {
   "display_name": "Python [conda env:geoplot]",
   "language": "python",
   "name": "conda-env-geoplot-py"
  },
  "language_info": {
   "codemirror_mode": {
    "name": "ipython",
    "version": 3
   },
   "file_extension": ".py",
   "mimetype": "text/x-python",
   "name": "python",
   "nbconvert_exporter": "python",
   "pygments_lexer": "ipython3",
   "version": "3.5.2"
  }
 },
 "nbformat": 4,
 "nbformat_minor": 2
}
